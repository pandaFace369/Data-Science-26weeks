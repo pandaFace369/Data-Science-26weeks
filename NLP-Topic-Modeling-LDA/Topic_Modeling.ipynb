{
  "nbformat": 4,
  "nbformat_minor": 0,
  "metadata": {
    "kernelspec": {
      "display_name": "Python 3",
      "language": "python",
      "name": "python3"
    },
    "language_info": {
      "codemirror_mode": {
        "name": "ipython",
        "version": 3
      },
      "file_extension": ".py",
      "mimetype": "text/x-python",
      "name": "python",
      "nbconvert_exporter": "python",
      "pygments_lexer": "ipython3",
      "version": "3.6.5"
    },
    "colab": {
      "name": "Topic Modeling.ipynb",
      "provenance": [],
      "collapsed_sections": [
        "1Rovjh5B4KsE",
        "wLuaI5o54KsN",
        "bqpaPicw4KsR"
      ]
    }
  },
  "cells": [
    {
      "cell_type": "code",
      "metadata": {
        "colab": {
          "base_uri": "https://localhost:8080/"
        },
        "id": "JnAenFDR4KrZ",
        "outputId": "924c0fe7-30dc-4914-85f6-4331ab1c5c16"
      },
      "source": [
        "import pandas as pd\n",
        "import re\n",
        "import string\n",
        "import numpy as np\n",
        "from sklearn.feature_extraction.text import CountVectorizer, TfidfTransformer\n",
        "import pandas as pd\n",
        "import numpy as np\n",
        "import scipy as sp\n",
        "import sklearn\n",
        "import sys\n",
        "import nltk\n",
        "import gensim\n",
        "from nltk.corpus import stopwords\n",
        "from gensim.models import ldamodel\n",
        "import gensim.corpora\n",
        "from sklearn.feature_extraction.text import CountVectorizer, TfidfTransformer\n",
        "from sklearn.decomposition import NMF\n",
        "\n",
        "from sklearn.preprocessing import normalize\n",
        "import pickle\n",
        "from gensim.models import LdaModel\n",
        "from gensim.corpora import Dictionary\n",
        "!pip install pyLDAvis==2.1.2\n",
        "import pyLDAvis\n",
        "\n",
        "import pyLDAvis.gensim\n",
        "\n",
        "import warnings\n",
        "from itertools import chain\n",
        "import matplotlib.pyplot as plt\n",
        "import seaborn as sns\n",
        "import warnings\n",
        "warnings.filterwarnings('ignore')\n",
        "from nltk.stem.wordnet import WordNetLemmatizer\n",
        "lmtzr = WordNetLemmatizer()\n",
        "import numpy as np \n",
        "import pandas as pd\n",
        "import string\n",
        "import re\n",
        "from tqdm._tqdm_notebook import tqdm_notebook,tnrange,tqdm\n",
        "from collections import Counter,OrderedDict\n",
        "from gensim import models,corpora\n",
        "from gensim.summarization import summarize,keywords\n",
        "import warnings\n",
        "\n",
        "import matplotlib.pyplot as plt\n",
        "import seaborn as sns\n",
        "\n",
        "import gensim.models.phrases as gen\n",
        "from gensim.models.coherencemodel import CoherenceModel"
      ],
      "execution_count": 4,
      "outputs": [
        {
          "output_type": "stream",
          "text": [
            "Requirement already satisfied: pyLDAvis==2.1.2 in /usr/local/lib/python3.7/dist-packages (2.1.2)\n",
            "Requirement already satisfied: wheel>=0.23.0 in /usr/local/lib/python3.7/dist-packages (from pyLDAvis==2.1.2) (0.36.2)\n",
            "Requirement already satisfied: joblib>=0.8.4 in /usr/local/lib/python3.7/dist-packages (from pyLDAvis==2.1.2) (1.0.1)\n",
            "Requirement already satisfied: scipy>=0.18.0 in /usr/local/lib/python3.7/dist-packages (from pyLDAvis==2.1.2) (1.4.1)\n",
            "Requirement already satisfied: jinja2>=2.7.2 in /usr/local/lib/python3.7/dist-packages (from pyLDAvis==2.1.2) (2.11.3)\n",
            "Requirement already satisfied: pandas>=0.17.0 in /usr/local/lib/python3.7/dist-packages (from pyLDAvis==2.1.2) (1.2.4)\n",
            "Requirement already satisfied: future in /usr/local/lib/python3.7/dist-packages (from pyLDAvis==2.1.2) (0.16.0)\n",
            "Requirement already satisfied: funcy in /usr/local/lib/python3.7/dist-packages (from pyLDAvis==2.1.2) (1.15)\n",
            "Requirement already satisfied: pytest in /usr/local/lib/python3.7/dist-packages (from pyLDAvis==2.1.2) (3.6.4)\n",
            "Requirement already satisfied: numpy>=1.9.2 in /usr/local/lib/python3.7/dist-packages (from pyLDAvis==2.1.2) (1.20.2)\n",
            "Requirement already satisfied: numexpr in /usr/local/lib/python3.7/dist-packages (from pyLDAvis==2.1.2) (2.7.3)\n",
            "Requirement already satisfied: MarkupSafe>=0.23 in /usr/local/lib/python3.7/dist-packages (from jinja2>=2.7.2->pyLDAvis==2.1.2) (1.1.1)\n",
            "Requirement already satisfied: pytz>=2017.3 in /usr/local/lib/python3.7/dist-packages (from pandas>=0.17.0->pyLDAvis==2.1.2) (2018.9)\n",
            "Requirement already satisfied: python-dateutil>=2.7.3 in /usr/local/lib/python3.7/dist-packages (from pandas>=0.17.0->pyLDAvis==2.1.2) (2.8.1)\n",
            "Requirement already satisfied: setuptools in /usr/local/lib/python3.7/dist-packages (from pytest->pyLDAvis==2.1.2) (56.0.0)\n",
            "Requirement already satisfied: six>=1.10.0 in /usr/local/lib/python3.7/dist-packages (from pytest->pyLDAvis==2.1.2) (1.15.0)\n",
            "Requirement already satisfied: attrs>=17.4.0 in /usr/local/lib/python3.7/dist-packages (from pytest->pyLDAvis==2.1.2) (20.3.0)\n",
            "Requirement already satisfied: more-itertools>=4.0.0 in /usr/local/lib/python3.7/dist-packages (from pytest->pyLDAvis==2.1.2) (8.7.0)\n",
            "Requirement already satisfied: py>=1.5.0 in /usr/local/lib/python3.7/dist-packages (from pytest->pyLDAvis==2.1.2) (1.10.0)\n",
            "Requirement already satisfied: atomicwrites>=1.0 in /usr/local/lib/python3.7/dist-packages (from pytest->pyLDAvis==2.1.2) (1.4.0)\n",
            "Requirement already satisfied: pluggy<0.8,>=0.5 in /usr/local/lib/python3.7/dist-packages (from pytest->pyLDAvis==2.1.2) (0.7.1)\n"
          ],
          "name": "stdout"
        }
      ]
    },
    {
      "cell_type": "markdown",
      "metadata": {
        "id": "svigcx1c4Krt"
      },
      "source": [
        ""
      ]
    },
    {
      "cell_type": "code",
      "metadata": {
        "id": "7li29GxA4gH-"
      },
      "source": [
        "import pyLDAvis.gensim"
      ],
      "execution_count": 22,
      "outputs": []
    },
    {
      "cell_type": "code",
      "metadata": {
        "id": "_2J9Jveo4Krv"
      },
      "source": [
        "data=pd.read_csv('articles.csv')\n"
      ],
      "execution_count": 5,
      "outputs": []
    },
    {
      "cell_type": "code",
      "metadata": {
        "colab": {
          "base_uri": "https://localhost:8080/",
          "height": 280
        },
        "id": "JHmCrH1n4Krz",
        "outputId": "a184c087-081e-4b00-fc8a-53119a31cbc2"
      },
      "source": [
        "data.head(5)"
      ],
      "execution_count": 6,
      "outputs": [
        {
          "output_type": "execute_result",
          "data": {
            "text/html": [
              "<div>\n",
              "<style scoped>\n",
              "    .dataframe tbody tr th:only-of-type {\n",
              "        vertical-align: middle;\n",
              "    }\n",
              "\n",
              "    .dataframe tbody tr th {\n",
              "        vertical-align: top;\n",
              "    }\n",
              "\n",
              "    .dataframe thead th {\n",
              "        text-align: right;\n",
              "    }\n",
              "</style>\n",
              "<table border=\"1\" class=\"dataframe\">\n",
              "  <thead>\n",
              "    <tr style=\"text-align: right;\">\n",
              "      <th></th>\n",
              "      <th>author</th>\n",
              "      <th>claps</th>\n",
              "      <th>reading_time</th>\n",
              "      <th>link</th>\n",
              "      <th>title</th>\n",
              "      <th>text</th>\n",
              "    </tr>\n",
              "  </thead>\n",
              "  <tbody>\n",
              "    <tr>\n",
              "      <th>0</th>\n",
              "      <td>Justin Lee</td>\n",
              "      <td>8.3K</td>\n",
              "      <td>11</td>\n",
              "      <td>https://medium.com/swlh/chatbots-were-the-next...</td>\n",
              "      <td>Chatbots were the next big thing: what happene...</td>\n",
              "      <td>Oh, how the headlines blared:\\nChatbots were T...</td>\n",
              "    </tr>\n",
              "    <tr>\n",
              "      <th>1</th>\n",
              "      <td>Conor Dewey</td>\n",
              "      <td>1.4K</td>\n",
              "      <td>7</td>\n",
              "      <td>https://towardsdatascience.com/python-for-data...</td>\n",
              "      <td>Python for Data Science: 8 Concepts You May Ha...</td>\n",
              "      <td>If you’ve ever found yourself looking up the s...</td>\n",
              "    </tr>\n",
              "    <tr>\n",
              "      <th>2</th>\n",
              "      <td>William Koehrsen</td>\n",
              "      <td>2.8K</td>\n",
              "      <td>11</td>\n",
              "      <td>https://towardsdatascience.com/automated-featu...</td>\n",
              "      <td>Automated Feature Engineering in Python – Towa...</td>\n",
              "      <td>Machine learning is increasingly moving from h...</td>\n",
              "    </tr>\n",
              "    <tr>\n",
              "      <th>3</th>\n",
              "      <td>Gant Laborde</td>\n",
              "      <td>1.3K</td>\n",
              "      <td>7</td>\n",
              "      <td>https://medium.freecodecamp.org/machine-learni...</td>\n",
              "      <td>Machine Learning: how to go from Zero to Hero ...</td>\n",
              "      <td>If your understanding of A.I. and Machine Lear...</td>\n",
              "    </tr>\n",
              "    <tr>\n",
              "      <th>4</th>\n",
              "      <td>Emmanuel Ameisen</td>\n",
              "      <td>935</td>\n",
              "      <td>11</td>\n",
              "      <td>https://blog.insightdatascience.com/reinforcem...</td>\n",
              "      <td>Reinforcement Learning from scratch – Insight ...</td>\n",
              "      <td>Want to learn about applied Artificial Intelli...</td>\n",
              "    </tr>\n",
              "  </tbody>\n",
              "</table>\n",
              "</div>"
            ],
            "text/plain": [
              "             author  ...                                               text\n",
              "0        Justin Lee  ...  Oh, how the headlines blared:\\nChatbots were T...\n",
              "1       Conor Dewey  ...  If you’ve ever found yourself looking up the s...\n",
              "2  William Koehrsen  ...  Machine learning is increasingly moving from h...\n",
              "3      Gant Laborde  ...  If your understanding of A.I. and Machine Lear...\n",
              "4  Emmanuel Ameisen  ...  Want to learn about applied Artificial Intelli...\n",
              "\n",
              "[5 rows x 6 columns]"
            ]
          },
          "metadata": {
            "tags": []
          },
          "execution_count": 6
        }
      ]
    },
    {
      "cell_type": "code",
      "metadata": {
        "colab": {
          "base_uri": "https://localhost:8080/",
          "height": 280
        },
        "id": "dP4mfQOf4Kr0",
        "outputId": "8a9f9c34-da2e-439c-c59e-916fedd90b10"
      },
      "source": [
        "data['length_text'] = data['text'].str.len()\n",
        "sns.distplot(data['length_text'], color=\"r\")\n",
        "plt.show()"
      ],
      "execution_count": 7,
      "outputs": [
        {
          "output_type": "display_data",
          "data": {
            "image/png": "[encoded data removed]",
            "text/plain": [
              "<Figure size 432x288 with 1 Axes>"
            ]
          },
          "metadata": {
            "tags": [],
            "needs_background": "light"
          }
        }
      ]
    },
    {
      "cell_type": "code",
      "metadata": {
        "colab": {
          "base_uri": "https://localhost:8080/",
          "height": 280
        },
        "id": "c4NjqnCw4Kr1",
        "outputId": "70a97acd-e7c0-4b14-91d2-e0b34c6b7492"
      },
      "source": [
        "data['length_title'] = data['title'].str.len()\n",
        "sns.distplot(data['length_title'], color=\"r\")\n",
        "plt.show()"
      ],
      "execution_count": 8,
      "outputs": [
        {
          "output_type": "display_data",
          "data": {
            "image/png": "[encoded data removed]",
            "text/plain": [
              "<Figure size 432x288 with 1 Axes>"
            ]
          },
          "metadata": {
            "tags": [],
            "needs_background": "light"
          }
        }
      ]
    },
    {
      "cell_type": "code",
      "metadata": {
        "id": "yDzJZRlX4Kr2"
      },
      "source": [
        "titles = [x for x in data['title']]\n",
        "docs = [x for x in data['text']]"
      ],
      "execution_count": 9,
      "outputs": []
    },
    {
      "cell_type": "code",
      "metadata": {
        "colab": {
          "base_uri": "https://localhost:8080/"
        },
        "id": "rlet-ylo4Kr3",
        "outputId": "b2e2c83f-1b21-4519-904f-83c91afcd228"
      },
      "source": [
        "nltk.download('stopwords')"
      ],
      "execution_count": 10,
      "outputs": [
        {
          "output_type": "stream",
          "text": [
            "[nltk_data] Downloading package stopwords to /root/nltk_data...\n",
            "[nltk_data]   Package stopwords is already up-to-date!\n"
          ],
          "name": "stdout"
        },
        {
          "output_type": "execute_result",
          "data": {
            "text/plain": [
              "True"
            ]
          },
          "metadata": {
            "tags": []
          },
          "execution_count": 10
        }
      ]
    },
    {
      "cell_type": "code",
      "metadata": {
        "id": "Ngx0QLvE4Kr4"
      },
      "source": [
        "from nltk.corpus import stopwords\n",
        "stop_words = stopwords.words('english')\n",
        "stop_words.extend(['from', 'subject', 're', 'edu', 'use'])"
      ],
      "execution_count": 11,
      "outputs": []
    },
    {
      "cell_type": "markdown",
      "metadata": {
        "id": "4LG6cmaK4Kr4"
      },
      "source": [
        "# Data Preprocessing\n",
        "We use NLTK’s Wordnet to find the meanings of words, synonyms, antonyms, and more. In addition, we use WordNetLemmatizer to get the root word. Filter out stop words."
      ]
    },
    {
      "cell_type": "code",
      "metadata": {
        "id": "tTDdasWe4Kr5"
      },
      "source": [
        "# A function to prepare the text for topic modelling\n",
        "def words(text):\n",
        "    regex = re.compile('[' + re.escape(string.punctuation) + '0-9\\\\r\\\\t\\\\n]')\n",
        "    text = regex.sub(\" \", text.lower())\n",
        "    words = text.split(\" \")\n",
        "    words = [re.sub('\\S*@\\S*\\s?', '', sent) for sent in words]\n",
        "    words = [re.sub('\\s+', ' ', sent) for sent in words]\n",
        "    words = [re.sub(\"\\'\", \"\", sent) for sent in words]\n",
        "    words = [w for w in words if not len(w) < 2]\n",
        "    words = [w for w in words if w not in stop_words]\n",
        "    words = [lmtzr.lemmatize(w) for w in words]\n",
        "    \n",
        "    return words"
      ],
      "execution_count": 12,
      "outputs": []
    },
    {
      "cell_type": "code",
      "metadata": {
        "colab": {
          "base_uri": "https://localhost:8080/"
        },
        "id": "kUxuQwfB4Kr6",
        "outputId": "22d2a6a2-b4d4-4871-87bf-36fdf6b86612"
      },
      "source": [
        "nltk.download('wordnet')\n",
        "docs = [words(x) for x in data['text']]"
      ],
      "execution_count": 13,
      "outputs": [
        {
          "output_type": "stream",
          "text": [
            "[nltk_data] Downloading package wordnet to /root/nltk_data...\n",
            "[nltk_data]   Package wordnet is already up-to-date!\n"
          ],
          "name": "stdout"
        }
      ]
    },
    {
      "cell_type": "code",
      "metadata": {
        "colab": {
          "base_uri": "https://localhost:8080/"
        },
        "id": "O0wOltmr4Kr7",
        "outputId": "c5560348-1d42-4755-db0e-41e5f333d33c"
      },
      "source": [
        " # Create a dictionary representation of the documents.\n",
        "dictionary = Dictionary(docs)\n",
        "print('Number of unique words in initital documents:', len(dictionary))\n",
        "\n",
        "# Filter out words that occur less than 10 documents, or more than 20% of the documents.\n",
        "dictionary.filter_extremes(no_below=10, no_above=0.2)\n",
        "print('Number of unique words after removing rare and common words:', len(dictionary))"
      ],
      "execution_count": 14,
      "outputs": [
        {
          "output_type": "stream",
          "text": [
            "Number of unique words in initital documents: 18975\n",
            "Number of unique words after removing rare and common words: 2720\n"
          ],
          "name": "stdout"
        }
      ]
    },
    {
      "cell_type": "code",
      "metadata": {
        "colab": {
          "base_uri": "https://localhost:8080/"
        },
        "id": "UqEiTnfp4Kr8",
        "outputId": "8475d826-62fe-4ea8-b92b-6276c04ad987"
      },
      "source": [
        "corpus = [dictionary.doc2bow(doc) for doc in docs]\n",
        "#print(len(corpus))\n",
        "#corpus[336]\n",
        "bow_doc_300 = corpus[300]\n",
        "\n",
        "for i in range(len(bow_doc_300)):\n",
        "    print(\"Word {} (\\\"{}\\\") appears {} time.\".format(bow_doc_300[i][0], \n",
        "                                                     dictionary[bow_doc_300[i][0]], \n",
        "                                                     bow_doc_300[i][1]))"
      ],
      "execution_count": 15,
      "outputs": [
        {
          "output_type": "stream",
          "text": [
            "Word 47 (\"close\") appears 1 time.\n",
            "Word 51 (\"command\") appears 1 time.\n",
            "Word 65 (\"cool\") appears 1 time.\n",
            "Word 121 (\"gate\") appears 1 time.\n",
            "Word 189 (\"multi\") appears 1 time.\n",
            "Word 213 (\"predicted\") appears 1 time.\n",
            "Word 247 (\"scene\") appears 1 time.\n",
            "Word 281 (\"terminal\") appears 1 time.\n",
            "Word 321 (\"column\") appears 6 time.\n",
            "Word 339 (\"excellent\") appears 1 time.\n",
            "Word 370 (\"matrix\") appears 1 time.\n",
            "Word 431 (\"www\") appears 1 time.\n",
            "Word 434 (\"additional\") appears 1 time.\n",
            "Word 455 (\"collection\") appears 3 time.\n",
            "Word 489 (\"github\") appears 1 time.\n",
            "Word 503 (\"irrelevant\") appears 1 time.\n",
            "Word 506 (\"learning”\") appears 1 time.\n",
            "Word 535 (\"ready\") appears 1 time.\n",
            "Word 538 (\"relationship\") appears 3 time.\n",
            "Word 571 (\"“deep\") appears 1 time.\n",
            "Word 579 (\"andrew\") appears 1 time.\n",
            "Word 617 (\"guess\") appears 1 time.\n",
            "Word 652 (\"neuron\") appears 4 time.\n",
            "Word 736 (\"comprehensive\") appears 1 time.\n",
            "Word 767 (\"enables\") appears 1 time.\n",
            "Word 774 (\"explanation\") appears 1 time.\n",
            "Word 777 (\"faced\") appears 1 time.\n",
            "Word 857 (\"studied\") appears 1 time.\n",
            "Word 906 (\"combination\") appears 3 time.\n",
            "Word 931 (\"diagram\") appears 2 time.\n",
            "Word 932 (\"direct\") appears 3 time.\n",
            "Word 938 (\"earlier\") appears 1 time.\n",
            "Word 950 (\"feed\") appears 1 time.\n",
            "Word 987 (\"multiplication\") appears 1 time.\n",
            "Word 991 (\"notice\") appears 1 time.\n",
            "Word 998 (\"pixel\") appears 2 time.\n",
            "Word 1052 (\"apple\") appears 2 time.\n",
            "Word 1103 (\"trend\") appears 2 time.\n",
            "Word 1107 (\"visually\") appears 1 time.\n",
            "Word 1167 (\"correlation\") appears 2 time.\n",
            "Word 1170 (\"economics\") appears 1 time.\n",
            "Word 1227 (\"connection\") appears 2 time.\n",
            "Word 1296 (\"noticed\") appears 1 time.\n",
            "Word 1353 (\"third\") appears 1 time.\n",
            "Word 1419 (\"discover\") appears 1 time.\n",
            "Word 1461 (\"university\") appears 1 time.\n",
            "Word 1487 (\"considered\") appears 2 time.\n",
            "Word 1559 (\"oxford\") appears 1 time.\n",
            "Word 1597 (\"super\") appears 1 time.\n",
            "Word 1612 (\"what’s\") appears 1 time.\n",
            "Word 1624 (\"backwards\") appears 1 time.\n",
            "Word 1650 (\"handle\") appears 1 time.\n",
            "Word 1666 (\"ok\") appears 2 time.\n",
            "Word 1676 (\"situation\") appears 1 time.\n",
            "Word 1738 (\"smarter\") appears 1 time.\n",
            "Word 1803 (\"trick\") appears 1 time.\n",
            "Word 1976 (\"editor\") appears 1 time.\n",
            "Word 2099 (\"hidden\") appears 1 time.\n",
            "Word 2190 (\"latest\") appears 1 time.\n",
            "Word 2304 (\"exhibit\") appears 1 time.\n",
            "Word 2359 (\"io\") appears 1 time.\n",
            "Word 2404 (\"adjusting\") appears 2 time.\n",
            "Word 2507 (\"calculates\") appears 1 time.\n",
            "Word 2520 (\"invention\") appears 1 time.\n",
            "Word 2528 (\"submit\") appears 1 time.\n",
            "Word 2533 (\"wild\") appears 1 time.\n",
            "Word 2606 (\"politics\") appears 1 time.\n",
            "Word 2618 (\"permission\") appears 1 time.\n",
            "Word 2671 (\"py\") appears 1 time.\n",
            "Word 2673 (\"behaviour\") appears 2 time.\n"
          ],
          "name": "stdout"
        }
      ]
    },
    {
      "cell_type": "markdown",
      "metadata": {
        "id": "_LjYvFTj4Kr9"
      },
      "source": [
        "# Topic Modeling using LDA\n",
        "LDA :: Latent Dirichlet Allocation is a probabilistic model. It is a unsupervised machine learning technique. And to obtain cluster assignments, it uses two probability values: P( word | topics) and P( topics | documents).\n",
        "\n",
        "pyLDAvis is designed to help users interpret the topics in a topic model that has been fit to a corpus of text data. The package extracts information from a fitted LDA topic model to inform an interactive web-based visualization.\n",
        "\n",
        "The size of the bubble measures the importance of the topics, relative to the data.\n",
        "When we have 5 or 10 topics, we can see certain topics are clustered together (overlapping bubbles), this indicates the similarity between topics."
      ]
    },
    {
      "cell_type": "code",
      "metadata": {
        "id": "itTyCdHN4Kr-"
      },
      "source": [
        "def get_lda_topics(model, num_topics):\n",
        "    word_dict = {};\n",
        "    for i in range(num_topics):\n",
        "        words = model.show_topic(i, topn = 20);\n",
        "        word_dict['Topic # ' + '{:02d}'.format(i+1)] = [i[0] for i in words];\n",
        "    return pd.DataFrame(word_dict);"
      ],
      "execution_count": 21,
      "outputs": []
    },
    {
      "cell_type": "code",
      "metadata": {
        "id": "Yt2cmRPd4Kr_"
      },
      "source": [
        ""
      ],
      "execution_count": 16,
      "outputs": []
    },
    {
      "cell_type": "code",
      "metadata": {
        "id": "ihr5N84w4KsA"
      },
      "source": [
        "# Build LDA model\n",
        "lda_model = gensim.models.ldamodel.LdaModel(corpus=corpus,\n",
        "                                           num_topics=10, \n",
        "                                           random_state=100,\n",
        "                                           update_every=1,\n",
        "                                           chunksize=500,\n",
        "                                           passes=20,\n",
        "                                           alpha='auto',\n",
        "                                           per_word_topics=True)"
      ],
      "execution_count": 17,
      "outputs": []
    },
    {
      "cell_type": "code",
      "metadata": {
        "colab": {
          "base_uri": "https://localhost:8080/",
          "height": 644
        },
        "id": "1izQSBZV587L",
        "outputId": "a745facf-2d25-4f93-94cd-bb84022d73d1"
      },
      "source": [
        "get_lda_topics(lda_model, 10)"
      ],
      "execution_count": 18,
      "outputs": [
        {
          "output_type": "execute_result",
          "data": {
            "text/html": [
              "<div>\n",
              "<style scoped>\n",
              "    .dataframe tbody tr th:only-of-type {\n",
              "        vertical-align: middle;\n",
              "    }\n",
              "\n",
              "    .dataframe tbody tr th {\n",
              "        vertical-align: top;\n",
              "    }\n",
              "\n",
              "    .dataframe thead th {\n",
              "        text-align: right;\n",
              "    }\n",
              "</style>\n",
              "<table border=\"1\" class=\"dataframe\">\n",
              "  <thead>\n",
              "    <tr style=\"text-align: right;\">\n",
              "      <th></th>\n",
              "      <th>Topic # 01</th>\n",
              "      <th>Topic # 02</th>\n",
              "      <th>Topic # 03</th>\n",
              "      <th>Topic # 04</th>\n",
              "      <th>Topic # 05</th>\n",
              "      <th>Topic # 06</th>\n",
              "      <th>Topic # 07</th>\n",
              "      <th>Topic # 08</th>\n",
              "      <th>Topic # 09</th>\n",
              "      <th>Topic # 10</th>\n",
              "    </tr>\n",
              "  </thead>\n",
              "  <tbody>\n",
              "    <tr>\n",
              "      <th>0</th>\n",
              "      <td>652</td>\n",
              "      <td>1862</td>\n",
              "      <td>1413</td>\n",
              "      <td>601</td>\n",
              "      <td>1062</td>\n",
              "      <td>28</td>\n",
              "      <td>728</td>\n",
              "      <td>420</td>\n",
              "      <td>998</td>\n",
              "      <td>734</td>\n",
              "    </tr>\n",
              "    <tr>\n",
              "      <th>1</th>\n",
              "      <td>711</td>\n",
              "      <td>397</td>\n",
              "      <td>1524</td>\n",
              "      <td>2218</td>\n",
              "      <td>716</td>\n",
              "      <td>63</td>\n",
              "      <td>2117</td>\n",
              "      <td>840</td>\n",
              "      <td>2376</td>\n",
              "      <td>1454</td>\n",
              "    </tr>\n",
              "    <tr>\n",
              "      <th>2</th>\n",
              "      <td>370</td>\n",
              "      <td>2025</td>\n",
              "      <td>1714</td>\n",
              "      <td>408</td>\n",
              "      <td>823</td>\n",
              "      <td>2278</td>\n",
              "      <td>1647</td>\n",
              "      <td>1456</td>\n",
              "      <td>2361</td>\n",
              "      <td>29</td>\n",
              "    </tr>\n",
              "    <tr>\n",
              "      <th>3</th>\n",
              "      <td>1047</td>\n",
              "      <td>20</td>\n",
              "      <td>252</td>\n",
              "      <td>1869</td>\n",
              "      <td>2473</td>\n",
              "      <td>1097</td>\n",
              "      <td>725</td>\n",
              "      <td>1094</td>\n",
              "      <td>915</td>\n",
              "      <td>2434</td>\n",
              "    </tr>\n",
              "    <tr>\n",
              "      <th>4</th>\n",
              "      <td>661</td>\n",
              "      <td>1041</td>\n",
              "      <td>1430</td>\n",
              "      <td>265</td>\n",
              "      <td>236</td>\n",
              "      <td>850</td>\n",
              "      <td>1608</td>\n",
              "      <td>315</td>\n",
              "      <td>974</td>\n",
              "      <td>998</td>\n",
              "    </tr>\n",
              "    <tr>\n",
              "      <th>5</th>\n",
              "      <td>823</td>\n",
              "      <td>1461</td>\n",
              "      <td>846</td>\n",
              "      <td>2534</td>\n",
              "      <td>1381</td>\n",
              "      <td>12</td>\n",
              "      <td>423</td>\n",
              "      <td>868</td>\n",
              "      <td>1773</td>\n",
              "      <td>2626</td>\n",
              "    </tr>\n",
              "    <tr>\n",
              "      <th>6</th>\n",
              "      <td>1543</td>\n",
              "      <td>360</td>\n",
              "      <td>10</td>\n",
              "      <td>2714</td>\n",
              "      <td>810</td>\n",
              "      <td>152</td>\n",
              "      <td>765</td>\n",
              "      <td>1401</td>\n",
              "      <td>901</td>\n",
              "      <td>2427</td>\n",
              "    </tr>\n",
              "    <tr>\n",
              "      <th>7</th>\n",
              "      <td>2584</td>\n",
              "      <td>479</td>\n",
              "      <td>1060</td>\n",
              "      <td>1611</td>\n",
              "      <td>2235</td>\n",
              "      <td>48</td>\n",
              "      <td>2127</td>\n",
              "      <td>1446</td>\n",
              "      <td>343</td>\n",
              "      <td>2325</td>\n",
              "    </tr>\n",
              "    <tr>\n",
              "      <th>8</th>\n",
              "      <td>1639</td>\n",
              "      <td>386</td>\n",
              "      <td>2579</td>\n",
              "      <td>950</td>\n",
              "      <td>837</td>\n",
              "      <td>236</td>\n",
              "      <td>262</td>\n",
              "      <td>934</td>\n",
              "      <td>939</td>\n",
              "      <td>2436</td>\n",
              "    </tr>\n",
              "    <tr>\n",
              "      <th>9</th>\n",
              "      <td>717</td>\n",
              "      <td>1111</td>\n",
              "      <td>1539</td>\n",
              "      <td>2119</td>\n",
              "      <td>1199</td>\n",
              "      <td>44</td>\n",
              "      <td>1410</td>\n",
              "      <td>915</td>\n",
              "      <td>2363</td>\n",
              "      <td>431</td>\n",
              "    </tr>\n",
              "    <tr>\n",
              "      <th>10</th>\n",
              "      <td>894</td>\n",
              "      <td>489</td>\n",
              "      <td>1544</td>\n",
              "      <td>302</td>\n",
              "      <td>842</td>\n",
              "      <td>2657</td>\n",
              "      <td>407</td>\n",
              "      <td>1409</td>\n",
              "      <td>1619</td>\n",
              "      <td>375</td>\n",
              "    </tr>\n",
              "    <tr>\n",
              "      <th>11</th>\n",
              "      <td>1640</td>\n",
              "      <td>1303</td>\n",
              "      <td>1401</td>\n",
              "      <td>1095</td>\n",
              "      <td>846</td>\n",
              "      <td>814</td>\n",
              "      <td>370</td>\n",
              "      <td>1690</td>\n",
              "      <td>1305</td>\n",
              "      <td>904</td>\n",
              "    </tr>\n",
              "    <tr>\n",
              "      <th>12</th>\n",
              "      <td>2597</td>\n",
              "      <td>772</td>\n",
              "      <td>1744</td>\n",
              "      <td>1946</td>\n",
              "      <td>1613</td>\n",
              "      <td>151</td>\n",
              "      <td>2526</td>\n",
              "      <td>1505</td>\n",
              "      <td>370</td>\n",
              "      <td>1441</td>\n",
              "    </tr>\n",
              "    <tr>\n",
              "      <th>13</th>\n",
              "      <td>289</td>\n",
              "      <td>683</td>\n",
              "      <td>1091</td>\n",
              "      <td>1932</td>\n",
              "      <td>1101</td>\n",
              "      <td>1533</td>\n",
              "      <td>838</td>\n",
              "      <td>2077</td>\n",
              "      <td>1368</td>\n",
              "      <td>174</td>\n",
              "    </tr>\n",
              "    <tr>\n",
              "      <th>14</th>\n",
              "      <td>763</td>\n",
              "      <td>1637</td>\n",
              "      <td>1480</td>\n",
              "      <td>2225</td>\n",
              "      <td>1221</td>\n",
              "      <td>743</td>\n",
              "      <td>185</td>\n",
              "      <td>446</td>\n",
              "      <td>2253</td>\n",
              "      <td>793</td>\n",
              "    </tr>\n",
              "    <tr>\n",
              "      <th>15</th>\n",
              "      <td>1096</td>\n",
              "      <td>66</td>\n",
              "      <td>29</td>\n",
              "      <td>1053</td>\n",
              "      <td>2479</td>\n",
              "      <td>290</td>\n",
              "      <td>357</td>\n",
              "      <td>716</td>\n",
              "      <td>3</td>\n",
              "      <td>2714</td>\n",
              "    </tr>\n",
              "    <tr>\n",
              "      <th>16</th>\n",
              "      <td>589</td>\n",
              "      <td>2040</td>\n",
              "      <td>1390</td>\n",
              "      <td>2221</td>\n",
              "      <td>840</td>\n",
              "      <td>1074</td>\n",
              "      <td>895</td>\n",
              "      <td>174</td>\n",
              "      <td>2662</td>\n",
              "      <td>1684</td>\n",
              "    </tr>\n",
              "    <tr>\n",
              "      <th>17</th>\n",
              "      <td>524</td>\n",
              "      <td>1598</td>\n",
              "      <td>2709</td>\n",
              "      <td>1379</td>\n",
              "      <td>390</td>\n",
              "      <td>19</td>\n",
              "      <td>1095</td>\n",
              "      <td>1722</td>\n",
              "      <td>689</td>\n",
              "      <td>2031</td>\n",
              "    </tr>\n",
              "    <tr>\n",
              "      <th>18</th>\n",
              "      <td>838</td>\n",
              "      <td>579</td>\n",
              "      <td>1948</td>\n",
              "      <td>181</td>\n",
              "      <td>844</td>\n",
              "      <td>1110</td>\n",
              "      <td>2488</td>\n",
              "      <td>1604</td>\n",
              "      <td>1782</td>\n",
              "      <td>1672</td>\n",
              "    </tr>\n",
              "    <tr>\n",
              "      <th>19</th>\n",
              "      <td>1453</td>\n",
              "      <td>1561</td>\n",
              "      <td>1319</td>\n",
              "      <td>1407</td>\n",
              "      <td>489</td>\n",
              "      <td>68</td>\n",
              "      <td>386</td>\n",
              "      <td>787</td>\n",
              "      <td>609</td>\n",
              "      <td>379</td>\n",
              "    </tr>\n",
              "  </tbody>\n",
              "</table>\n",
              "</div>"
            ],
            "text/plain": [
              "   Topic # 01 Topic # 02 Topic # 03  ... Topic # 08 Topic # 09 Topic # 10\n",
              "0         652       1862       1413  ...        420        998        734\n",
              "1         711        397       1524  ...        840       2376       1454\n",
              "2         370       2025       1714  ...       1456       2361         29\n",
              "3        1047         20        252  ...       1094        915       2434\n",
              "4         661       1041       1430  ...        315        974        998\n",
              "5         823       1461        846  ...        868       1773       2626\n",
              "6        1543        360         10  ...       1401        901       2427\n",
              "7        2584        479       1060  ...       1446        343       2325\n",
              "8        1639        386       2579  ...        934        939       2436\n",
              "9         717       1111       1539  ...        915       2363        431\n",
              "10        894        489       1544  ...       1409       1619        375\n",
              "11       1640       1303       1401  ...       1690       1305        904\n",
              "12       2597        772       1744  ...       1505        370       1441\n",
              "13        289        683       1091  ...       2077       1368        174\n",
              "14        763       1637       1480  ...        446       2253        793\n",
              "15       1096         66         29  ...        716          3       2714\n",
              "16        589       2040       1390  ...        174       2662       1684\n",
              "17        524       1598       2709  ...       1722        689       2031\n",
              "18        838        579       1948  ...       1604       1782       1672\n",
              "19       1453       1561       1319  ...        787        609        379\n",
              "\n",
              "[20 rows x 10 columns]"
            ]
          },
          "metadata": {
            "tags": []
          },
          "execution_count": 18
        }
      ]
    },
    {
      "cell_type": "code",
      "metadata": {
        "id": "LdR5Wcc_4KsB"
      },
      "source": [
        "pyLDAvis.enable_notebook()\n",
        "warnings.filterwarnings(\"ignore\", category=DeprecationWarning)"
      ],
      "execution_count": 19,
      "outputs": []
    },
    {
      "cell_type": "code",
      "metadata": {
        "colab": {
          "base_uri": "https://localhost:8080/",
          "height": 860
        },
        "id": "neGAeVuk4KsB",
        "outputId": "0d664b04-c6a5-4130-c45a-f59c0384ef3c"
      },
      "source": [
        "pyLDAvis.gensim.prepare(lda_model, corpus, dictionary)"
      ],
      "execution_count": 24,
      "outputs": [
        {
          "output_type": "execute_result",
          "data": {
            "text/html": [
              "\n",
              "<link rel=\"stylesheet\" type=\"text/css\" href=\"https://cdn.rawgit.com/bmabey/pyLDAvis/files/ldavis.v1.0.0.css\">\n",
              "\n",
              "\n",
              "<div id=\"ldavis_el34681399365127789608134951360\"></div>\n",
              "<script type=\"text/javascript\">\n",
              "\n",
              "var ldavis_el34681399365127789608134951360_data = {\"mdsDat\": {\"x\": [0.06796151891543827, 0.02713799471792134, 0.04501696286015229, 0.05819837450825916, 0.07192924580260836, 0.011311332008892836, 0.06580469736044621, -0.03279120332543673, 0.058601734872506674, -0.3731706577207881], \"y\": [-0.04170206921277903, 0.016756045297730112, 0.13886498366914404, -0.07731068458900903, 0.004282906950843968, 0.09283744417658292, 0.016254118326797844, -0.2535279767047747, 0.06606782536176696, 0.03747740672369738], \"topics\": [1, 2, 3, 4, 5, 6, 7, 8, 9, 10], \"cluster\": [1, 1, 1, 1, 1, 1, 1, 1, 1, 1], \"Freq\": [20.410032341518964, 14.547208228832591, 13.2298384413711, 11.384637861664853, 8.61015429664722, 7.8243791038051995, 7.328669000842555, 6.621444622389734, 6.453553032587074, 3.5900830703406945]}, \"tinfo\": {\"Term\": [\"cnn\", \"de\", \"box\", \"pixel\", \"table\", \"sheet\", \"region\", \"neuron\", \"star\", \"woman\", \"review\", \"men\", \"convolution\", \"proposal\", \"kernel\", \"rating\", \"bounding\", \"bot\", \"policy\", \"cpu\", \"member\", \"agent\", \"cluster\", \"gtx\", \"mask\", \"www\", \"matrix\", \"house\", \"weighted\", \"title\", \"emotional\", \"emotion\", \"messenger\", \"threat\", \"explosion\", \"messaging\", \"meeting\", \"dr\", \"personality\", \"manipulate\", \"turing\", \"menu\", \"utility\", \"political\", \"belief\", \"conversational\", \"chatbot\", \"bot\", \"kid\", \"marketing\", \"reflection\", \"cognition\", \"apps\", \"technological\", \"today\\u2019s\", \"smartphone\", \"participant\", \"simulation\", \"reservation\", \"chat\", \"activity\", \"chatbots\", \"behavior\", \"conversation\", \"opinion\", \"interface\", \"communication\", \"social\", \"automated\", \"cognitive\", \"digital\", \"definition\", \"interaction\", \"intelligent\", \"response\", \"personal\", \"asked\", \"define\", \"control\", \"customer\", \"device\", \"study\", \"alphago\", \"carlo\", \"monte\", \"backwards\", \"neuron\\u2019s\", \"sigmoid\", \"firing\", \"vanilla\", \"relu\", \"coefficient\", \"calculating\", \"backward\", \"linearity\", \"tanh\", \"multiplied\", \"approximate\", \"synapsis\", \"derivative\", \"behaviour\", \"backpropagation\", \"decomposition\", \"neuron\", \"chess\", \"champion\", \"descent\", \"entropy\", \"gained\", \"board\", \"multiply\", \"semantic\", \"activation\", \"player\", \"zero\", \"man\", \"distribution\", \"latent\", \"policy\", \"matrix\", \"tree\", \"outcome\", \"blue\", \"regression\", \"playing\", \"hidden\", \"notebook\", \"supervised\", \"strategy\", \"estimate\", \"representation\", \"relationship\", \"reinforcement\", \"square\", \"ti\", \"gb\", \"cuda\", \"gpus\", \"gtx\", \"embeddings\", \"karpathy\", \"andrej\", \"gans\", \"cpu\", \"mario\", \"painting\", \"nvidia\", \"installed\", \"ubuntu\", \"intel\", \"gpu\", \"caffe\", \"lstms\", \"desktop\", \"card\", \"linux\", \"aws\", \"overfit\", \"pytorch\", \"letter\", \"ram\", \"installing\", \"installation\", \"house\", \"processor\", \"dl\", \"sentence\", \"install\", \"encoding\", \"sequence\", \"recurrent\", \"app\", \"super\", \"kera\", \"translation\", \"character\", \"price\", \"market\", \"rnn\", \"lstm\", \"box\", \"capture\", \"batch\", \"udacity\\u2019s\", \"coursera\", \"spark\", \"star\", \"polished\", \"discipline\", \"passionate\", \"curriculum\", \"timeline\", \"quiz\", \"apache\", \"resume\", \"coding\", \"review\", \"rating\", \"ii\", \"udacity\", \"\\u201cbig\", \"ng\", \"preparing\", \"assignment\", \"weighted\", \"paid\", \"taught\", \"interview\", \"beginner\", \"preparation\", \"\\u201cai\", \"historically\", \"estimated\", \"varies\", \"andrew\", \"graduate\", \"university\", \"six\", \"engineering\", \"demand\", \"average\", \"skill\", \"statistic\", \"programming\", \"lecture\", \"cover\", \"option\", \"github\", \"microsoft\", \"student\", \"guide\", \"introduction\", \"depending\", \"art\", \"vehicle\", \"forecasting\", \"placeholder\", \"song\", \"music\", \"differentiable\", \"traffic\", \"symbol\", \"barrier\", \"topology\", \"shifted\", \"ubiquitous\", \"track\", \"axis\", \"august\", \"solely\", \"driving\", \"scaling\", \"generator\", \"filtering\", \"construction\", \"odds\", \"they\\u2019ll\", \"hybrid\", \"bar\", \"car\", \"epoch\", \"scaled\", \"flexible\", \"graph\", \"autonomous\", \"stock\", \"batch\", \"collaborative\", \"index\", \"sort\", \"computation\", \"tensor\", \"ensemble\", \"minute\", \"road\", \"voice\", \"bias\", \"recommendation\", \"target\", \"stuff\", \"representation\", \"dimension\", \"audio\", \"matrix\", \"programming\", \"what\\u2019s\", \"event\", \"operation\", \"price\", \"neuron\", \"activation\", \"table\", \"rush\", \"empty\", \"hole\", \"simplify\", \"chinese\", \"occasionally\", \"dictionary\", \"gold\", \"chip\", \"floating\", \"distance\", \"computed\", \"donating\", \"correction\", \"entering\", \"doable\", \"atari\", \"array\", \"uniform\", \"reduces\", \"pseudo\", \"handwritten\", \"september\", \"wind\", \"provider\", \"tweet\", \"updating\", \"corporate\", \"suffers\", \"phrase\", \"startup\", \"reward\", \"recognize\", \"edit\", \"giant\", \"precision\", \"enterprise\", \"tutorial\", \"api\", \"expected\", \"max\", \"cloud\", \"google\\u2019s\", \"translation\", \"block\", \"index\", \"category\", \"grid\", \"convolution\", \"map\", \"pooling\", \"device\", \"detect\", \"agent\", \"detection\", \"target\", \"customer\", \"provides\", \"personalization\", \"offline\", \"de\", \"title\", \"watson\", \"netflix\", \"member\", \"hypothesis\", \"sampling\", \"pool\", \"ingredient\", \"wave\", \"ranking\", \"recipe\", \"collective\", \"taste\", \"se\", \"tv\", \"viewing\", \"audience\", \"et\", \"en\", \"bank\", \"selection\", \"extreme\", \"reconstruct\", \"sell\", \"audio\", \"stopped\", \"novel\", \"sound\", \"production\", \"speech\", \"assistant\", \"recommendation\", \"feed\", \"chunk\", \"message\", \"home\", \"startup\", \"price\", \"kernel\", \"wear\", \"men\", \"woman\", \"\\u201cdo\", \"facial\", \"orientation\", \"relate\", \"stride\", \"darker\", \"filter\", \"landmark\", \"crop\", \"brightness\", \"survey\", \"nose\", \"smile\", \"reveal\", \"answered\", \"convolution\", \"opposite\", \"reliable\", \"channel\", \"presentation\", \"attract\", \"consistent\", \"hair\", \"lighting\", \"angle\", \"origin\", \"straight\", \"measurement\", \"pixel\", \"edge\", \"age\", \"page\", \"classifier\", \"transformation\", \"evidence\", \"eye\", \"slide\", \"red\", \"matrix\", \"social\", \"study\", \"grid\", \"author\", \"critic\", \"trust\", \"host\", \"cluster\", \"illustration\", \"transaction\", \"recall\", \"discounted\", \"enemy\", \"proof\", \"unity\", \"episode\", \"contract\", \"suited\", \"juliani\", \"generative\", \"maximize\", \"noise\", \"hierarchical\", \"arthur\", \"augmentation\", \"counted\", \"spatial\", \"labeled\", \"py\", \"variant\", \"retrieval\", \"repository\", \"cryptocurrency\", \"trip\", \"actor\", \"designer\", \"agent\", \"worker\", \"characteristic\", \"clustering\", \"vote\", \"lstm\", \"rl\", \"request\", \"global\", \"reinforcement\", \"response\", \"policy\", \"unit\", \"supervised\", \"score\", \"diagram\", \"estimate\", \"sequence\", \"reward\", \"github\", \"tutorial\", \"rnn\", \"label\", \"insight\", \"sheet\", \"cnn\", \"mask\", \"segmentation\", \"region\", \"scipy\", \"bounding\", \"wiki\", \"panda\", \"wrangling\", \"boosting\", \"org\", \"wikipedia\", \"numpy\", \"svm\", \"resemble\", \"proposal\", \"matlab\", \"cnns\", \"summarize\", \"toronto\", \"box\", \"classifies\", \"www\", \"sight\", \"alexnet\", \"usable\", \"imagenet\", \"beta\", \"ratio\", \"landscape\", \"advancement\", \"en\", \"pixel\", \"scikit\", \"map\", \"bottleneck\", \"insight\", \"detection\", \"select\", \"kera\", \"author\", \"identify\", \"pooling\", \"regression\"], \"Freq\": [424.0, 322.0, 294.0, 288.0, 213.0, 152.0, 160.0, 385.0, 238.0, 147.0, 234.0, 126.0, 175.0, 116.0, 121.0, 194.0, 100.0, 306.0, 230.0, 170.0, 146.0, 194.0, 129.0, 139.0, 80.0, 121.0, 267.0, 196.0, 165.0, 104.0, 56.9028234442157, 40.62702100896019, 31.55138401373661, 24.40631465070028, 25.305302621217386, 56.85809002559445, 31.14649897483002, 30.724688442955625, 59.997756660679315, 19.366793573916212, 62.642308172073804, 15.508198364531287, 54.64889053471031, 78.13991545109921, 40.22278432011557, 56.62126990675858, 55.57139145367713, 268.151457762754, 27.1978419233989, 54.16197143121253, 29.011952753316926, 25.613323613735695, 95.55877819517717, 37.028954466141144, 27.702854644237743, 16.620637127283725, 75.83099589076903, 105.84353607853252, 18.967619213298022, 55.71793498160662, 43.29881142991998, 78.16640205574029, 114.21116933478287, 131.2662885445191, 49.69466442240716, 81.95909125028216, 50.07387534599082, 109.15167524617432, 61.630876604101395, 79.90576386838784, 61.902658384506466, 50.630301953177984, 70.74986277688566, 66.08521661166748, 78.90886956720561, 56.73569138225101, 61.576677821706326, 55.52068336613044, 63.07007695894802, 61.49644655327898, 59.28570415338663, 56.07076325541146, 86.48049685717002, 36.60991521881578, 31.6761190533502, 21.61114913801922, 16.8799970529374, 94.38318117962142, 12.797407806309245, 22.685284238581062, 75.02475863771015, 17.711052459003934, 16.8223795200511, 39.49471102526622, 34.2153695486993, 32.438411687343354, 24.384886418644342, 27.70759692318165, 32.805676176069746, 92.318262392908, 31.532642622219722, 85.20616471526915, 32.67165837952579, 326.45093479642554, 38.863378851385015, 15.625316291922987, 75.57213104962572, 58.94413222233158, 20.91945406792502, 67.48525000647372, 16.823639111463777, 59.93152320096295, 163.9794907950834, 133.1120294286706, 137.23246101297246, 98.52440577139194, 74.32941738194768, 38.847296637806465, 131.6790589627214, 147.11955946231294, 74.36810984633333, 62.17024220464263, 53.38966556385865, 71.79497907174793, 55.93068650658037, 57.11508850121281, 50.39359675007301, 58.58726228750763, 52.94770886422615, 55.078465675150696, 60.619560386397424, 58.386133226516506, 53.499023836260044, 51.56489197461876, 104.33827677196446, 55.61519326435736, 50.80638210982204, 112.78430716783876, 136.15189672857352, 48.51594208525488, 32.102409294885625, 28.176968158000854, 21.15973195933918, 159.1713318018415, 70.33561171374353, 10.788849817638301, 54.79218496719297, 41.99197853268002, 33.233925565221, 37.819848761625096, 130.45193449794192, 16.977507027452063, 38.85197743766528, 42.77177606589592, 113.1182543079338, 27.14010488167576, 76.82263829106202, 12.199210105764152, 31.34484133064783, 107.49203126016636, 31.11170393819199, 14.692528639168602, 27.051459687577555, 154.61041155076214, 51.62633330927438, 78.15737708239021, 134.95626652269473, 55.7673955908194, 38.8094724306132, 123.84410645627564, 76.58419176255637, 117.09157342522768, 64.84166665955381, 68.2443086225076, 106.2462391168871, 84.37536487498015, 102.46797134526287, 107.04768104376497, 81.63975184205198, 61.78009324296626, 83.7980273615876, 58.52217400197948, 58.28797974743757, 34.106106386602356, 66.19392852251381, 34.89802520889995, 224.08452830197194, 10.797796783978018, 53.073393206177656, 10.762536183818007, 12.477881408752486, 62.04394014063028, 36.99834080627059, 16.243007759760445, 11.746865802881867, 51.44494935736836, 196.97892253453145, 162.0322931652378, 48.77107964197787, 48.42005298566242, 18.947472521486898, 30.468652935063748, 11.651416888001032, 73.519862774692, 131.1783379663375, 58.143283838103905, 60.09706365993128, 117.19254727274583, 18.62329320907344, 24.34313401861106, 17.57579511940376, 12.485819335487632, 69.43296885544686, 35.14900835260301, 58.72175452666213, 37.82777937915715, 124.61672137944319, 44.094859514990745, 103.16096624746092, 53.63377848380452, 144.8122230636292, 68.04773502485256, 57.996586313188494, 101.16046222020675, 45.415836118592146, 65.57102863848836, 69.51801240269852, 70.37149364641148, 51.08192578063928, 53.95144204320777, 50.29184113518437, 46.193170030521706, 46.88909517826057, 47.009235287393885, 71.55243212437409, 19.38035168343378, 51.648010177758394, 51.50112139949366, 95.15155923593383, 19.497774997472746, 23.753173370990375, 27.516108881224838, 8.923553290711009, 8.793224698836207, 8.023453871690272, 16.00650640499673, 64.21660249999576, 10.442724628966184, 10.890498820339033, 6.903825665209984, 63.4542995962011, 21.36625611351225, 35.34959925588591, 22.764644668577542, 9.706238051144046, 10.71089243629331, 14.7550458662419, 17.811371108300026, 17.67572287607787, 107.65005855976857, 29.145291005055793, 14.92698236640683, 11.452373786525328, 79.3657795328517, 19.21686174964314, 42.5492797859289, 74.85547696552514, 18.41307384496632, 36.952014108165386, 46.670687157626546, 50.869416560623186, 22.597340565929542, 16.814667043652534, 38.25730693754668, 22.574905636251145, 33.92373945256627, 36.781693292236554, 36.13754076038711, 32.81008985478963, 28.025317157554998, 38.99854131890261, 30.669924510089146, 28.432850424907475, 43.01810980507862, 35.17085841696667, 29.34384705707061, 28.381942522748346, 28.78586358177298, 29.06941385708793, 29.508081359670026, 28.98629613562201, 203.07182194226266, 22.66185201923261, 20.66165931888879, 17.824950473976468, 11.346316253863765, 25.36049228249816, 9.249131979483694, 27.94149549654821, 26.388298413488222, 21.528297343884923, 11.014463784547017, 42.2163198627664, 16.820304694193283, 6.554576554469857, 11.201242095959886, 20.729340736452947, 6.448376527989669, 20.199018613790063, 59.16198661735928, 6.874684720535827, 7.329861550451645, 8.357237174098362, 15.342564379351666, 10.811858953479062, 11.327404344186462, 20.64963867292188, 33.393109091152375, 22.126930127488343, 17.143846955985882, 6.362214232461037, 43.64062483008525, 68.09838359003982, 79.16005006646648, 67.21157411987465, 26.05940338804049, 20.5672644225191, 18.129860839394258, 29.430979590271125, 55.284110707098286, 39.32369645142835, 37.094949971913344, 34.29931603713363, 39.36994583959277, 32.68729308829317, 53.50523129214136, 36.75276322887841, 30.27791810263051, 32.31987788082096, 32.719166362785074, 39.69872550375483, 34.77767733925241, 30.336941131335585, 37.00419629721501, 26.99501487700029, 35.6119953269594, 29.251940972387814, 29.472469801032144, 28.01608181142925, 27.504188129782815, 46.49711395555664, 41.63277744033474, 283.94088457905275, 92.09275470819394, 59.80918913554339, 55.316376826842166, 116.46626718021814, 34.85330446408103, 22.661837133746907, 26.022586050263527, 28.919219486115743, 52.250310985813265, 23.354725555032747, 47.35500855370078, 22.325453604514767, 31.07915996769713, 29.532983919153367, 14.121920741691877, 9.483310083149192, 10.013818006292908, 74.65595338805187, 62.76735166358545, 27.468809494211275, 28.560547647841368, 7.345416756803523, 6.6955499781409875, 16.08778005041051, 48.602285509903176, 5.989237492008467, 28.2557508469284, 100.86349998757933, 29.81734698693735, 74.7906930431733, 43.33185187828618, 50.037401144302684, 56.53731251837834, 32.119706718179266, 32.136240733948284, 30.592913345440767, 30.01546834556875, 29.746102981727333, 117.34166152811056, 46.50253107466465, 120.58214415930323, 135.26564764468725, 55.86202292864418, 82.83340837858704, 60.50806323260932, 25.304438354229262, 23.14649570221577, 19.3256618473009, 71.36315890481602, 18.411488457535473, 9.957804381582207, 9.965232789205464, 33.25203043258376, 20.56961748536747, 12.73799820382946, 11.244427657031782, 11.22736805711132, 117.74716560895847, 51.37534282453951, 13.163503072514606, 80.4555937359641, 37.297024696941484, 6.652366671377031, 24.65187271336377, 32.33311244698154, 11.753736856259504, 31.487534233464814, 6.360885097530543, 41.8906241706028, 41.43658427660068, 153.49064668321915, 67.7969268430331, 47.156184795308654, 55.588664628139476, 51.73052898440674, 32.811473497794616, 25.93683103150137, 37.77693000453645, 28.018796249845586, 29.65437895781654, 52.55347939854921, 37.0032254066663, 33.550554793609976, 29.5722546721522, 30.074322727079068, 24.04392647311759, 44.59080090231188, 53.616431523421696, 105.63746288839116, 10.470265502648346, 36.116746554054394, 35.32772070069184, 15.259080874772675, 13.554238247339951, 16.04224202417083, 11.16618182807109, 29.565045285261483, 27.152280124290105, 10.169217619147197, 11.9158726448441, 19.593832354960707, 7.1019865282725485, 46.587073471744255, 27.571462867647586, 17.293136669745607, 32.402935743607365, 7.234898625617939, 10.766597402961603, 10.113427676434535, 20.999565565202637, 19.995381196398093, 11.631388657539748, 27.90189655101283, 12.456844875528352, 16.544674153802898, 25.40182515102453, 19.808964920385158, 88.13699941849761, 40.15033770066526, 18.243218711978276, 37.276549718053516, 19.008893009555738, 52.0133017197444, 42.503755171519025, 19.558405391012926, 30.326816700200688, 43.573369914552934, 52.926752717215365, 62.71756631557052, 42.65624093459574, 39.25297225406774, 35.03502180283441, 22.906677334364453, 33.596089870150934, 41.51755070486846, 35.943829477166595, 34.67378025864379, 30.871362248300418, 31.999361070800564, 28.958870175501648, 28.69052277410524, 144.07624402706884, 392.53509667745726, 73.44988950716255, 57.9916140420141, 140.26862085873, 32.669128383584884, 82.4226013303866, 31.337601286639853, 32.171406180152246, 14.963306665272126, 10.664213954425277, 38.821242439983905, 32.893077005588346, 55.24420041361465, 16.8710496208248, 8.45693995754098, 66.9964351124428, 15.39482977152758, 48.3048535381166, 6.20618364580903, 8.44646239566839, 143.3799957491138, 5.97185947548662, 57.53121725051005, 9.400171710390117, 7.925870870771776, 4.684712605139694, 24.493486950642154, 11.531384016722537, 9.784254664634231, 21.907354825765818, 12.423719667832726, 35.40835398071658, 87.56452328467505, 32.17982326071969, 38.509281143380264, 14.010954323292236, 37.04232624201613, 27.549562795816158, 21.226805086367385, 25.33077570325061, 24.62848360343833, 21.000009708782116, 19.227834104490803, 20.630903499082986], \"Total\": [424.0, 322.0, 294.0, 288.0, 213.0, 152.0, 160.0, 385.0, 238.0, 147.0, 234.0, 126.0, 175.0, 116.0, 121.0, 194.0, 100.0, 306.0, 230.0, 170.0, 146.0, 194.0, 129.0, 139.0, 80.0, 121.0, 267.0, 196.0, 165.0, 104.0, 57.81347587767044, 41.56889793930884, 32.43622840233278, 25.328505927913227, 26.33365571562756, 60.73343590093634, 33.37641509321278, 33.33667600990585, 65.5579293445689, 21.18782216948561, 68.73275674350403, 17.157786666493262, 60.620720522571595, 86.7271602316849, 45.28123519663849, 64.53656075678292, 63.38321865644481, 306.54620065269313, 31.23719766510371, 62.59157656781174, 34.267328156996115, 30.26115370778827, 113.79637393295282, 44.34050732773957, 33.25118715691261, 20.078402711967026, 92.41830513911263, 129.25171277349648, 23.203364078840576, 68.43950816019807, 53.34681583346416, 97.169266802408, 145.37478495506093, 180.3091471515328, 62.44540428138864, 115.48247779127112, 65.13541479086146, 172.1930773646872, 85.07232670329495, 125.71042382167988, 95.72415837392904, 71.31977678303122, 119.95721878810615, 114.21938840612604, 171.96478412745512, 91.68142113845042, 113.11384586919769, 91.8510050060125, 131.8900035283746, 125.50391141623835, 169.2217845293651, 132.18803969264061, 87.84510877688355, 37.49958964767, 32.562821753231326, 22.683058700304027, 17.75252309999769, 101.59254888182647, 13.798005189441293, 24.6490386273541, 82.82105560809408, 19.69767654437131, 18.722037136875418, 44.33915067899528, 38.44084224566045, 36.46858825903882, 27.566401259026883, 31.53588262498052, 37.601837207516326, 106.36055079822941, 36.415569715086654, 98.40268562805586, 38.39026524898298, 385.61857362833, 46.29582549078648, 18.70917745912136, 94.53451798373504, 74.62400761142928, 26.4943847574643, 86.74004552699031, 21.653718273146268, 78.63654734814973, 217.18313849695093, 178.42149559057123, 184.711431042911, 142.39846510499936, 107.41858307610849, 51.27187785415097, 230.23030676147405, 267.600388428861, 115.77969113942967, 99.59900415644178, 88.18023769405016, 144.08015340886217, 98.00169844818936, 102.96667121506448, 88.37525227820808, 128.78470278289788, 113.48098733867549, 129.33745613068191, 176.6442147708109, 160.50562974954403, 127.7950099839304, 119.84011728416733, 105.39123689305701, 56.59439240330698, 51.71587180228556, 115.13098709536949, 139.53098694686616, 49.75513767529305, 33.1661317703345, 29.261486482804973, 22.43706206782959, 170.78940723762645, 76.07909154898887, 11.702549179678726, 59.5034105581913, 46.778862981964345, 37.03349053749021, 42.91465365700233, 148.34086857187702, 19.481978239032514, 44.87561832271239, 49.60403487703507, 133.3627871813325, 32.25676763373282, 91.61635336024725, 14.618235019999068, 38.04436452856962, 131.3849443202628, 39.00326029933527, 18.490811841981596, 34.110596644435, 196.08309718328545, 66.40423608338737, 107.32313506451706, 195.87668715705155, 75.93240913722634, 50.69407120144359, 210.80959742010603, 121.99897549524158, 212.48299464573537, 100.12400870535029, 108.06273782932624, 197.62440020833222, 145.0324662328831, 194.39206347491253, 217.34447537308574, 159.7944024996747, 129.1041372175062, 294.4410532332821, 127.69587665778687, 161.5679582296638, 36.02198361905179, 70.06824368237679, 37.04098183450894, 238.95501810970146, 11.67842997589134, 57.53016958860438, 11.67735941642213, 13.630527337408822, 68.37332070460003, 42.02986716950226, 18.46201945812981, 13.668230717287136, 60.36579481283487, 234.14459873213366, 194.85529472197186, 59.54335665418948, 59.21500324020983, 23.28225109554811, 37.82377674003476, 14.599932502033957, 92.66470046475762, 165.68572955716058, 74.50518861499454, 77.99096578775222, 152.10213074267853, 24.355740577404557, 32.090102933067485, 23.204338794627063, 16.495155689700226, 92.638556103834, 47.51113080764278, 81.80227730866643, 51.61009443165154, 188.80176943064134, 62.66239301152395, 169.37133273025063, 79.26468358396272, 259.88617896986983, 110.15160021642889, 91.49953349167448, 195.10190872999314, 71.39839081173646, 132.72179747303178, 152.2632039156225, 165.29930373099916, 89.83628529115113, 106.90293123221932, 104.44787132199562, 76.06291967857618, 82.05046398310536, 125.55888163523394, 75.93725747201398, 21.393916828673017, 58.42860318268525, 60.594795196627075, 123.81708931578788, 25.38153118525817, 31.163115170583602, 38.08514909665867, 12.600881718230912, 12.694569540818115, 11.613888773296487, 23.54767521626578, 95.71228263759363, 15.650765430206343, 16.751895079862926, 10.74670890834049, 100.37348097227193, 34.05029931282411, 56.513488844147076, 36.762319005214955, 15.723745322044392, 17.532205403209385, 24.177944010229794, 29.319348198196433, 29.206711349187266, 178.66536970155235, 48.76118592993329, 25.3783799147132, 19.549234183293187, 136.42067695730407, 33.06521498600421, 79.33615337286075, 161.5679582296638, 34.22188063140915, 81.74923031801197, 116.1126061598405, 140.656161082502, 46.5114850749918, 31.06981177391102, 113.65223493031509, 49.91997746002191, 107.87361181485076, 126.46584155250532, 127.35365413530774, 110.51541246721314, 81.76481716214955, 176.6442147708109, 102.44377577538326, 85.42722833990376, 267.600388428861, 195.10190872999314, 104.38755474995737, 115.38490513139722, 128.84713718350733, 194.39206347491253, 385.61857362833, 217.18313849695093, 213.734871738905, 29.103218233990752, 28.222741584582486, 24.36404799566479, 15.55059968131511, 36.1937000077504, 13.629270015704387, 43.649240892658845, 41.4764516407819, 34.02465964888986, 17.528493010190502, 67.71234909365153, 27.067757401315607, 10.645149826429453, 18.389678617204957, 34.329878113983725, 10.822258284867576, 34.19634021406872, 100.43418392820702, 11.718435883946713, 12.525769991397176, 14.446374764081025, 27.258871836012144, 19.238706811436053, 20.21088693831664, 36.90512737436974, 59.817131934374984, 39.89565893152878, 31.194414518375417, 11.703751966288651, 80.95421247776329, 128.95524810876924, 154.74520733607744, 130.38688383862407, 49.63039615528715, 38.98158031350652, 35.18619694378944, 62.445486437261344, 133.8031296570794, 97.34384879266841, 92.68652644546391, 83.90536623612233, 108.03286608919883, 84.36228292650537, 197.62440020833222, 117.40037694299512, 81.74923031801197, 96.77846571841717, 101.11214332583731, 175.04027815058168, 127.15115280862388, 90.15766293687486, 169.2217845293651, 71.22537110879202, 194.43162699782218, 105.76361471853782, 110.51541246721314, 125.50391141623835, 110.15053137397726, 50.42877206840505, 46.68738702643667, 322.7632408988447, 104.77463305267032, 73.90287136356064, 68.73660098657523, 146.41757709639066, 44.866969529449925, 29.49054437583206, 35.33610033162638, 39.30667767374593, 71.41349320085723, 32.495736448554155, 67.96268494228568, 32.9440493085953, 45.97485011675326, 43.897569114653905, 21.24070783896074, 14.368752996492926, 15.344745534838903, 116.85584798718561, 99.00475191303076, 43.33912415927455, 47.173232976050215, 12.482007248963074, 11.44096134017766, 28.01128178764782, 85.42722833990376, 10.549365369981825, 49.9498569934214, 183.06272107140396, 56.696153534627584, 158.73611910039253, 102.29346709243411, 127.35365413530774, 154.53551796601496, 75.21460564670473, 96.77705473298978, 112.91784825615568, 128.95524810876924, 194.39206347491253, 121.56736151705239, 48.640675617658815, 126.49042078231027, 147.41596690840512, 61.805569986927466, 91.87206822402099, 71.54636744597016, 29.99591526930207, 28.113469424967185, 24.644637912615707, 91.47812267296904, 23.608901582143567, 13.194889413249538, 13.213290503690303, 45.5237740130982, 28.385858736374253, 17.95785191495893, 16.006311749286525, 16.185238350241146, 175.04027815058168, 76.88463524811135, 19.993527016101243, 123.30545693447571, 57.710881336637506, 10.546807767845216, 39.12903570928809, 51.901589354619006, 18.907549972222213, 51.43053926873929, 10.557651505985538, 71.96760341645965, 71.38085367748043, 288.22734205478, 129.72701710647405, 94.80138235439678, 123.08495584068702, 114.32190588509167, 66.63546728050929, 48.94742614209448, 97.69916387190499, 57.35262735866949, 66.34018607904852, 267.600388428861, 172.1930773646872, 132.18803969264061, 101.11214332583731, 129.48527821944458, 26.027116240781936, 50.94496508012611, 62.736894440534115, 129.86798458140098, 14.394109059173477, 50.90504421541296, 51.09264741299075, 23.130868391542126, 21.288797745505498, 25.449839068920877, 18.33928371445211, 49.306072809839236, 45.59191526520653, 17.170371578348615, 20.294004139303162, 34.82676242346797, 12.64201151401602, 84.59169927181246, 50.45802438013554, 31.99726291731468, 60.00868503358156, 13.635089827867283, 20.36516561072273, 19.21089405587569, 39.901167169663495, 38.052816672530675, 22.21382981588106, 53.991095704899195, 24.192690163715746, 32.41559710301755, 50.641105081220026, 39.18485794178142, 194.43162699782218, 85.31765279305829, 36.71722798538269, 82.09997558480916, 38.487462418542634, 129.1041372175062, 108.13117888587385, 40.00823123821141, 73.65577801962908, 127.7950099839304, 171.96478412745512, 230.23030676147405, 141.28579149509716, 128.78470278289788, 106.93771995116965, 52.27848039401397, 129.33745613068191, 210.80959742010603, 154.74520733607744, 165.29930373099916, 133.8031296570794, 159.7944024996747, 109.14643708094059, 146.02636612531285, 152.9085150205787, 424.0609153805683, 80.31974754575775, 64.40952912122079, 160.66493245575424, 38.36621726444826, 100.24864565515766, 38.415105619910804, 45.169906105618324, 21.676035455131764, 16.0441505623497, 58.72562230633643, 52.90423645799389, 89.20403578297505, 28.261822740573137, 14.284235954525757, 116.57538231273082, 29.451126262098494, 95.1523042417227, 12.34786941531987, 17.115163560759235, 294.4410532332821, 12.44433415079348, 121.77339489387563, 19.96575928373304, 17.123625354291768, 10.363747598502076, 54.40012856957752, 25.934461479750688, 22.034396640111417, 50.40748017731892, 28.129041820137758, 99.00475191303076, 288.22734205478, 92.02540200013908, 127.15115280862388, 33.904005118085465, 146.02636612531285, 105.76361471853782, 73.54611234208922, 108.06273782932624, 129.48527821944458, 103.41700764023854, 90.15766293687486, 144.08015340886217], \"Category\": [\"Default\", \"Default\", \"Default\", \"Default\", \"Default\", \"Default\", \"Default\", \"Default\", \"Default\", \"Default\", \"Default\", \"Default\", \"Default\", \"Default\", \"Default\", \"Default\", \"Default\", \"Default\", \"Default\", \"Default\", \"Default\", \"Default\", \"Default\", \"Default\", \"Default\", \"Default\", \"Default\", \"Default\", \"Default\", \"Default\", \"Topic1\", \"Topic1\", \"Topic1\", \"Topic1\", \"Topic1\", \"Topic1\", \"Topic1\", \"Topic1\", \"Topic1\", \"Topic1\", \"Topic1\", \"Topic1\", \"Topic1\", \"Topic1\", \"Topic1\", \"Topic1\", \"Topic1\", \"Topic1\", \"Topic1\", \"Topic1\", \"Topic1\", \"Topic1\", \"Topic1\", \"Topic1\", \"Topic1\", \"Topic1\", \"Topic1\", \"Topic1\", \"Topic1\", \"Topic1\", \"Topic1\", \"Topic1\", \"Topic1\", \"Topic1\", \"Topic1\", \"Topic1\", \"Topic1\", \"Topic1\", \"Topic1\", \"Topic1\", \"Topic1\", \"Topic1\", \"Topic1\", \"Topic1\", \"Topic1\", \"Topic1\", \"Topic1\", \"Topic1\", \"Topic1\", \"Topic1\", \"Topic1\", \"Topic1\", \"Topic2\", \"Topic2\", \"Topic2\", \"Topic2\", \"Topic2\", \"Topic2\", \"Topic2\", \"Topic2\", \"Topic2\", \"Topic2\", \"Topic2\", \"Topic2\", \"Topic2\", \"Topic2\", \"Topic2\", \"Topic2\", \"Topic2\", \"Topic2\", \"Topic2\", \"Topic2\", \"Topic2\", \"Topic2\", \"Topic2\", \"Topic2\", \"Topic2\", \"Topic2\", \"Topic2\", \"Topic2\", \"Topic2\", \"Topic2\", \"Topic2\", \"Topic2\", \"Topic2\", \"Topic2\", \"Topic2\", \"Topic2\", \"Topic2\", \"Topic2\", \"Topic2\", \"Topic2\", \"Topic2\", \"Topic2\", \"Topic2\", \"Topic2\", \"Topic2\", \"Topic2\", \"Topic2\", \"Topic2\", \"Topic2\", \"Topic2\", \"Topic2\", \"Topic2\", \"Topic3\", \"Topic3\", \"Topic3\", \"Topic3\", \"Topic3\", \"Topic3\", \"Topic3\", \"Topic3\", \"Topic3\", \"Topic3\", \"Topic3\", \"Topic3\", \"Topic3\", \"Topic3\", \"Topic3\", \"Topic3\", \"Topic3\", \"Topic3\", \"Topic3\", \"Topic3\", \"Topic3\", \"Topic3\", \"Topic3\", \"Topic3\", \"Topic3\", \"Topic3\", \"Topic3\", \"Topic3\", \"Topic3\", \"Topic3\", \"Topic3\", \"Topic3\", \"Topic3\", \"Topic3\", \"Topic3\", \"Topic3\", \"Topic3\", \"Topic3\", \"Topic3\", \"Topic3\", \"Topic3\", \"Topic3\", \"Topic3\", \"Topic3\", \"Topic3\", \"Topic3\", \"Topic3\", \"Topic3\", \"Topic3\", \"Topic4\", \"Topic4\", \"Topic4\", \"Topic4\", \"Topic4\", \"Topic4\", \"Topic4\", \"Topic4\", \"Topic4\", \"Topic4\", \"Topic4\", \"Topic4\", \"Topic4\", \"Topic4\", \"Topic4\", \"Topic4\", \"Topic4\", \"Topic4\", \"Topic4\", \"Topic4\", \"Topic4\", \"Topic4\", \"Topic4\", \"Topic4\", \"Topic4\", \"Topic4\", \"Topic4\", \"Topic4\", \"Topic4\", \"Topic4\", \"Topic4\", \"Topic4\", \"Topic4\", \"Topic4\", \"Topic4\", \"Topic4\", \"Topic4\", \"Topic4\", \"Topic4\", \"Topic4\", \"Topic4\", \"Topic4\", \"Topic4\", \"Topic4\", \"Topic4\", \"Topic4\", \"Topic4\", \"Topic4\", \"Topic4\", \"Topic4\", \"Topic4\", \"Topic5\", \"Topic5\", \"Topic5\", \"Topic5\", \"Topic5\", \"Topic5\", \"Topic5\", \"Topic5\", \"Topic5\", \"Topic5\", \"Topic5\", \"Topic5\", \"Topic5\", \"Topic5\", \"Topic5\", \"Topic5\", \"Topic5\", \"Topic5\", \"Topic5\", \"Topic5\", \"Topic5\", \"Topic5\", \"Topic5\", \"Topic5\", \"Topic5\", \"Topic5\", \"Topic5\", \"Topic5\", \"Topic5\", \"Topic5\", \"Topic5\", \"Topic5\", \"Topic5\", \"Topic5\", \"Topic5\", \"Topic5\", \"Topic5\", \"Topic5\", \"Topic5\", \"Topic5\", \"Topic5\", \"Topic5\", \"Topic5\", \"Topic5\", \"Topic5\", \"Topic5\", \"Topic5\", \"Topic5\", \"Topic5\", \"Topic5\", \"Topic5\", \"Topic5\", \"Topic5\", \"Topic5\", \"Topic5\", \"Topic5\", \"Topic5\", \"Topic6\", \"Topic6\", \"Topic6\", \"Topic6\", \"Topic6\", \"Topic6\", \"Topic6\", \"Topic6\", \"Topic6\", \"Topic6\", \"Topic6\", \"Topic6\", \"Topic6\", \"Topic6\", \"Topic6\", \"Topic6\", \"Topic6\", \"Topic6\", \"Topic6\", \"Topic6\", \"Topic6\", \"Topic6\", \"Topic6\", \"Topic6\", \"Topic6\", \"Topic6\", \"Topic6\", \"Topic6\", \"Topic6\", \"Topic6\", \"Topic6\", \"Topic6\", \"Topic6\", \"Topic6\", \"Topic6\", \"Topic6\", \"Topic6\", \"Topic6\", \"Topic6\", \"Topic6\", \"Topic6\", \"Topic6\", \"Topic6\", \"Topic6\", \"Topic6\", \"Topic6\", \"Topic6\", \"Topic6\", \"Topic6\", \"Topic6\", \"Topic6\", \"Topic6\", \"Topic6\", \"Topic6\", \"Topic6\", \"Topic6\", \"Topic6\", \"Topic6\", \"Topic6\", \"Topic7\", \"Topic7\", \"Topic7\", \"Topic7\", \"Topic7\", \"Topic7\", \"Topic7\", \"Topic7\", \"Topic7\", \"Topic7\", \"Topic7\", \"Topic7\", \"Topic7\", \"Topic7\", \"Topic7\", \"Topic7\", \"Topic7\", \"Topic7\", \"Topic7\", \"Topic7\", \"Topic7\", \"Topic7\", \"Topic7\", \"Topic7\", \"Topic7\", \"Topic7\", \"Topic7\", \"Topic7\", \"Topic7\", \"Topic7\", \"Topic7\", \"Topic7\", \"Topic7\", \"Topic7\", \"Topic7\", \"Topic7\", \"Topic7\", \"Topic7\", \"Topic7\", \"Topic7\", \"Topic7\", \"Topic8\", \"Topic8\", \"Topic8\", \"Topic8\", \"Topic8\", \"Topic8\", \"Topic8\", \"Topic8\", \"Topic8\", \"Topic8\", \"Topic8\", \"Topic8\", \"Topic8\", \"Topic8\", \"Topic8\", \"Topic8\", \"Topic8\", \"Topic8\", \"Topic8\", \"Topic8\", \"Topic8\", \"Topic8\", \"Topic8\", \"Topic8\", \"Topic8\", \"Topic8\", \"Topic8\", \"Topic8\", \"Topic8\", \"Topic8\", \"Topic8\", \"Topic8\", \"Topic8\", \"Topic8\", \"Topic8\", \"Topic8\", \"Topic8\", \"Topic8\", \"Topic8\", \"Topic8\", \"Topic8\", \"Topic8\", \"Topic8\", \"Topic8\", \"Topic8\", \"Topic8\", \"Topic8\", \"Topic9\", \"Topic9\", \"Topic9\", \"Topic9\", \"Topic9\", \"Topic9\", \"Topic9\", \"Topic9\", \"Topic9\", \"Topic9\", \"Topic9\", \"Topic9\", \"Topic9\", \"Topic9\", \"Topic9\", \"Topic9\", \"Topic9\", \"Topic9\", \"Topic9\", \"Topic9\", \"Topic9\", \"Topic9\", \"Topic9\", \"Topic9\", \"Topic9\", \"Topic9\", \"Topic9\", \"Topic9\", \"Topic9\", \"Topic9\", \"Topic9\", \"Topic9\", \"Topic9\", \"Topic9\", \"Topic9\", \"Topic9\", \"Topic9\", \"Topic9\", \"Topic9\", \"Topic9\", \"Topic9\", \"Topic9\", \"Topic9\", \"Topic9\", \"Topic9\", \"Topic9\", \"Topic9\", \"Topic9\", \"Topic9\", \"Topic9\", \"Topic9\", \"Topic9\", \"Topic9\", \"Topic9\", \"Topic9\", \"Topic9\", \"Topic10\", \"Topic10\", \"Topic10\", \"Topic10\", \"Topic10\", \"Topic10\", \"Topic10\", \"Topic10\", \"Topic10\", \"Topic10\", \"Topic10\", \"Topic10\", \"Topic10\", \"Topic10\", \"Topic10\", \"Topic10\", \"Topic10\", \"Topic10\", \"Topic10\", \"Topic10\", \"Topic10\", \"Topic10\", \"Topic10\", \"Topic10\", \"Topic10\", \"Topic10\", \"Topic10\", \"Topic10\", \"Topic10\", \"Topic10\", \"Topic10\", \"Topic10\", \"Topic10\", \"Topic10\", \"Topic10\", \"Topic10\", \"Topic10\", \"Topic10\", \"Topic10\", \"Topic10\", \"Topic10\", \"Topic10\", \"Topic10\", \"Topic10\", \"Topic10\"], \"logprob\": [30.0, 29.0, 28.0, 27.0, 26.0, 25.0, 24.0, 23.0, 22.0, 21.0, 20.0, 19.0, 18.0, 17.0, 16.0, 15.0, 14.0, 13.0, 12.0, 11.0, 10.0, 9.0, 8.0, 7.0, 6.0, 5.0, 4.0, 3.0, 2.0, 1.0, -6.023399829864502, -6.360300064086914, -6.613100051879883, -6.869900226593018, -6.833700180053711, -6.024199962615967, -6.625999927520752, -6.639599800109863, -5.970399856567383, -7.101200103759766, -5.927299976348877, -7.323299884796143, -6.063799858093262, -5.706200122833252, -6.370299816131592, -6.028299808502197, -6.046999931335449, -4.473199844360352, -6.761600017547607, -6.072700023651123, -6.697000026702881, -6.821599960327148, -5.505000114440918, -6.453000068664551, -6.743199825286865, -7.2540998458862305, -5.736199855804443, -5.4028000831604, -7.122000217437744, -6.044400215148926, -6.296599864959717, -5.705900192260742, -5.326700210571289, -5.1875, -6.15880012512207, -5.6585001945495605, -6.151199817657471, -5.372000217437744, -5.943600177764893, -5.683899879455566, -5.939199924468994, -6.140200138092041, -5.805600166320801, -5.873799800872803, -5.696400165557861, -6.026299953460693, -5.944399833679199, -6.047999858856201, -5.920499801635742, -5.945700168609619, -5.9822998046875, -6.038099765777588, -5.266200065612793, -6.125800132751465, -6.270500183105469, -6.652900218963623, -6.900000095367432, -5.178699970245361, -7.176799774169922, -6.604400157928467, -5.408299922943115, -6.851900100708008, -6.90339994430542, -6.049900054931641, -6.193399906158447, -6.246699810028076, -6.532100200653076, -6.404399871826172, -6.235499858856201, -5.200799942016602, -6.275100231170654, -5.281000137329102, -6.23960018157959, -3.9377999305725098, -6.065999984741211, -6.977200031280518, -5.401000022888184, -5.649499893188477, -6.685400009155273, -5.514200210571289, -6.903299808502197, -5.632900238037109, -4.626299858093262, -4.83489990234375, -4.8043999671936035, -5.135799884796143, -5.417600154876709, -6.066500186920166, -4.845699787139893, -4.734799861907959, -5.417099952697754, -5.596199989318848, -5.748499870300293, -5.452300071716309, -5.702000141143799, -5.681000232696533, -5.80620002746582, -5.655600070953369, -5.756800174713135, -5.717299938201904, -5.621500015258789, -5.658999919891357, -5.746399879455566, -5.783199787139893, -4.983500003814697, -5.61269998550415, -5.703100204467773, -4.905700206756592, -4.717400074005127, -5.749300003051758, -6.162199974060059, -6.292699813842773, -6.579100131988525, -4.561200141906738, -5.377900123596191, -7.252699851989746, -5.627600193023682, -5.893700122833252, -6.127600193023682, -5.998300075531006, -4.760200023651123, -6.799300193786621, -5.971399784088135, -5.87529993057251, -4.902699947357178, -6.3302001953125, -5.289700031280518, -7.129799842834473, -6.186100006103516, -4.953700065612793, -6.193600177764893, -6.94379997253418, -6.333399772644043, -4.5903000831604, -5.687099933624268, -5.27239990234375, -4.726200103759766, -5.610000133514404, -5.972499847412109, -4.812099933624268, -5.292799949645996, -4.868199825286865, -5.459199905395508, -5.408100128173828, -4.965400218963623, -5.195899963378906, -5.0015997886657715, -4.957900047302246, -5.228799819946289, -5.507599830627441, -5.2027997970581055, -5.561800003051758, -5.565800189971924, -5.951499938964844, -5.288400173187256, -5.928500175476074, -4.068900108337402, -7.101600170135498, -5.509300231933594, -7.104899883270264, -6.956999778747559, -5.353099822998047, -5.870100021362305, -6.693299770355225, -7.017399787902832, -5.54040002822876, -4.19789981842041, -4.393199920654297, -5.593800067901611, -5.60099983215332, -6.539299964904785, -6.064300060272217, -7.0254998207092285, -5.1834001541137695, -4.604400157928467, -5.418000221252441, -5.385000228881836, -4.717100143432617, -6.55649995803833, -6.288700103759766, -6.6143999099731445, -6.956399917602539, -5.240600109100342, -5.92140007019043, -5.408100128173828, -5.847899913787842, -4.655700206756592, -5.6946001052856445, -4.844699859619141, -5.498799800872803, -4.505499839782715, -5.260700225830078, -5.420599937438965, -4.864200115203857, -5.66510009765625, -5.297800064086914, -5.2393999099731445, -5.227200031280518, -5.547500133514404, -5.4928998947143555, -5.5630998611450195, -5.648099899291992, -5.633200168609619, -5.6305999755859375, -4.93120002746582, -6.237400054931641, -5.257199764251709, -5.260000228881836, -4.646200180053711, -6.231299877166748, -6.033899784088135, -5.886899948120117, -7.012899875640869, -7.027699947357178, -7.11929988861084, -6.428599834442139, -5.039400100708008, -6.8557000160217285, -6.813700199127197, -7.269599914550781, -5.051300048828125, -6.139800071716309, -5.636300086975098, -6.076399803161621, -6.928899765014648, -6.830399990081787, -6.510000228881836, -6.321800231933594, -6.329400062561035, -4.52269983291626, -5.8292999267578125, -6.498499870300293, -6.763400077819824, -4.827600002288818, -6.245800018310547, -5.451000213623047, -4.886099815368652, -6.288599967956543, -5.5920000076293945, -5.358500003814697, -5.27239990234375, -6.083799839019775, -6.37939977645874, -5.557300090789795, -6.084799766540527, -5.677499771118164, -5.59660005569458, -5.614299774169922, -5.710899829864502, -5.868500232696533, -5.538099765777588, -5.77839994430542, -5.854100227355957, -5.440000057220459, -5.64139986038208, -5.8225998878479, -5.855899810791016, -5.841700077056885, -5.831900119781494, -5.816999912261963, -5.834799766540527, -3.7923998832702637, -5.985300064086914, -6.077700138092041, -6.225299835205078, -6.677000045776367, -5.872700214385986, -6.881400108337402, -5.7758002281188965, -5.833000183105469, -6.036600112915039, -6.706699848175049, -5.363100051879883, -6.283299922943115, -7.225800037384033, -6.689899921417236, -6.074399948120117, -7.242099761962891, -6.100299835205078, -5.025700092315674, -7.178100109100342, -7.113999843597412, -6.982800006866455, -6.37529993057251, -6.725299835205078, -6.678699970245361, -6.078199863433838, -5.597599983215332, -6.009099960327148, -6.2642998695373535, -7.2555999755859375, -5.329899787902832, -4.885000228881836, -4.734499931335449, -4.898099899291992, -5.845600128173828, -6.082200050354004, -6.208399772644043, -5.723899841308594, -5.093400001525879, -5.434100151062012, -5.492499828338623, -5.570799827575684, -5.4328999519348145, -5.618899822235107, -5.126200199127197, -5.501699924468994, -5.695499897003174, -5.630300045013428, -5.618000030517578, -5.424600124359131, -5.557000160217285, -5.693600177764893, -5.494900226593018, -5.810299873352051, -5.533299922943115, -5.730000019073486, -5.722499847412109, -5.773200035095215, -5.791600227355957, -5.201099872589111, -5.311600208282471, -3.391700029373169, -4.5177001953125, -4.9492998123168945, -5.027400016784668, -4.282899856567383, -5.489299774169922, -5.9197998046875, -5.781499862670898, -5.676000118255615, -5.084400177001953, -5.889699935913086, -5.182799816131592, -5.934800148010254, -5.603899955749512, -5.65500020980835, -6.3927998542785645, -6.790999889373779, -6.736499786376953, -4.72760009765625, -4.901000022888184, -5.727399826049805, -5.688499927520752, -7.04640007019043, -7.138999938964844, -6.262400150299072, -5.156799793243408, -7.250500202178955, -5.69920015335083, -4.426700115203857, -5.645400047302246, -4.725800037384033, -5.271599769592285, -5.127699851989746, -5.0055999755859375, -5.571000099182129, -5.570499897003174, -5.619699954986572, -5.638800144195557, -5.647799968719482, -4.173900127410889, -5.0995001792907715, -4.146699905395508, -4.031799793243408, -4.916100025177002, -4.522200107574463, -4.83620023727417, -5.708000183105469, -5.7972002029418945, -5.97760009765625, -4.671199798583984, -6.026000022888184, -6.640600204467773, -6.639900207519531, -5.434899806976318, -5.915200233459473, -6.394400119781494, -6.519100189208984, -6.520599842071533, -4.170499801635742, -4.999800205230713, -6.361599922180176, -4.551300048828125, -5.320099830627441, -7.044000148773193, -5.7342000007629395, -5.462900161743164, -6.474800109863281, -5.4893999099731445, -7.088799953460693, -5.20389986038208, -5.214799880981445, -3.905400037765503, -4.722499847412109, -5.0854997634887695, -4.921000003814697, -4.993000030517578, -5.448200225830078, -5.683300018310547, -5.307300090789795, -5.606100082397461, -5.5493998527526855, -4.977200031280518, -5.328000068664551, -5.426000118255615, -5.552199840545654, -5.535299777984619, -5.733399868011475, -5.115799903869629, -4.93149995803833, -4.253300189971924, -6.564799785614014, -5.326600074768066, -5.348700046539307, -6.1880998611450195, -6.306600093841553, -6.1381001472473145, -6.500400066375732, -5.526700019836426, -5.6118998527526855, -6.593999862670898, -6.435400009155273, -5.9380998611450195, -6.952899932861328, -5.072000026702881, -5.596499919891357, -6.063000202178955, -5.435100078582764, -6.9344000816345215, -6.536900043487549, -6.5995001792907715, -5.868800163269043, -5.917799949645996, -6.45959997177124, -5.58459997177124, -6.39109992980957, -6.1072998046875, -5.678500175476074, -5.927199840545654, -4.4344000816345215, -5.220699787139893, -6.009500026702881, -5.295000076293945, -5.968400001525879, -4.9618000984191895, -5.163700103759766, -5.939899921417236, -5.501299858093262, -5.138899803161621, -4.944399833679199, -4.774700164794922, -5.160099983215332, -5.243299961090088, -5.35699987411499, -5.781899929046631, -5.398900032043457, -5.18720006942749, -5.331399917602539, -5.367300033569336, -5.483500003814697, -5.4475998878479, -5.547399997711182, -5.55679988861084, -3.3564999103546143, -2.3541998863220215, -4.030300140380859, -4.266600131988525, -3.3833000659942627, -4.840400218963623, -3.9149999618530273, -4.881999969482422, -4.855800151824951, -5.621300220489502, -5.960000038146973, -4.667900085449219, -4.833600044250488, -4.315100193023682, -5.501299858093262, -6.19189977645874, -4.122200012207031, -5.592800140380859, -4.4492998123168945, -6.501299858093262, -6.1930999755859375, -3.3613998889923096, -6.53980016708374, -4.274499893188477, -6.086100101470947, -6.256700038909912, -6.782599925994873, -5.128499984741211, -5.881800174713135, -6.04610013961792, -5.239999771118164, -5.807300090789795, -4.759900093078613, -3.8545000553131104, -4.855500221252441, -4.676000118255615, -5.686999797821045, -4.714799880981445, -5.010900020599365, -5.271599769592285, -5.094799995422363, -5.123000144958496, -5.282299995422363, -5.370500087738037, -5.300099849700928], \"loglift\": [30.0, 29.0, 28.0, 27.0, 26.0, 25.0, 24.0, 23.0, 22.0, 21.0, 20.0, 19.0, 18.0, 17.0, 16.0, 15.0, 14.0, 13.0, 12.0, 11.0, 10.0, 9.0, 8.0, 7.0, 6.0, 5.0, 4.0, 3.0, 2.0, 1.0, 1.5733, 1.5662, 1.5615, 1.5521, 1.5493, 1.5232, 1.52, 1.5076, 1.5005, 1.4993, 1.4964, 1.4881, 1.4854, 1.4849, 1.4707, 1.4583, 1.4576, 1.4553, 1.4507, 1.4445, 1.4227, 1.4224, 1.4145, 1.4089, 1.4066, 1.4001, 1.3913, 1.3893, 1.3876, 1.3835, 1.3805, 1.3715, 1.3479, 1.2717, 1.3607, 1.2462, 1.3262, 1.1333, 1.2668, 1.136, 1.1532, 1.2465, 1.0612, 1.042, 0.8101, 1.1092, 0.981, 1.0857, 0.8514, 0.8758, 0.5403, 0.7315, 1.9121, 1.9038, 1.9002, 1.8794, 1.8774, 1.8542, 1.8525, 1.8447, 1.8289, 1.8215, 1.8208, 1.8121, 1.8113, 1.8107, 1.8051, 1.7984, 1.7913, 1.7862, 1.7838, 1.7838, 1.7665, 1.7612, 1.7528, 1.7476, 1.7039, 1.6919, 1.6915, 1.6768, 1.6754, 1.6561, 1.6468, 1.6348, 1.6307, 1.5594, 1.5595, 1.6503, 1.3691, 1.3295, 1.4851, 1.4565, 1.426, 1.2312, 1.3669, 1.3384, 1.366, 1.1401, 1.1654, 1.0741, 0.8583, 0.9165, 1.057, 1.0845, 2.0127, 2.0052, 2.005, 2.0021, 1.9982, 1.9975, 1.9901, 1.9849, 1.9641, 1.9522, 1.9442, 1.9414, 1.9402, 1.9147, 1.9144, 1.8963, 1.8942, 1.8851, 1.8786, 1.8745, 1.8581, 1.85, 1.8466, 1.8418, 1.829, 1.822, 1.7966, 1.7928, 1.7908, 1.7851, 1.771, 1.7056, 1.6502, 1.714, 1.7556, 1.4908, 1.5571, 1.4268, 1.5882, 1.5631, 1.4021, 1.481, 1.3824, 1.3145, 1.3511, 1.2857, 0.766, 1.2424, 1.0032, 2.1183, 2.116, 2.1133, 2.1087, 2.0945, 2.0923, 2.0913, 2.0846, 2.0758, 2.0454, 2.0449, 2.0214, 2.013, 2.0001, 1.9884, 1.9733, 1.9716, 1.9669, 1.9567, 1.9473, 1.9415, 1.9394, 1.9249, 1.9123, 1.9122, 1.9046, 1.8966, 1.8951, 1.8944, 1.8846, 1.8715, 1.8414, 1.8622, 1.7575, 1.8215, 1.6771, 1.7823, 1.5881, 1.6913, 1.717, 1.5161, 1.7205, 1.4678, 1.3889, 1.3189, 1.6083, 1.4891, 1.4421, 1.6742, 1.6134, 1.1905, 2.3928, 2.3534, 2.3289, 2.2896, 2.1889, 2.1885, 2.1807, 2.1272, 2.1072, 2.085, 2.0824, 2.0662, 2.0531, 2.0476, 2.0216, 2.0097, 1.9936, 1.9862, 1.983, 1.973, 1.9698, 1.9594, 1.9584, 1.9538, 1.95, 1.9456, 1.9376, 1.9215, 1.9175, 1.9106, 1.9095, 1.8292, 1.6829, 1.8324, 1.6582, 1.5408, 1.4352, 1.7304, 1.8382, 1.3634, 1.6586, 1.2954, 1.2173, 1.1926, 1.2378, 1.3815, 0.9416, 1.2462, 1.3521, 0.6244, 0.7389, 1.1832, 1.0497, 0.9535, 0.552, -0.118, 0.4383, 2.4967, 2.2978, 2.2361, 2.2354, 2.2327, 2.1922, 2.1602, 2.1019, 2.0957, 2.0902, 2.0833, 2.0755, 2.0722, 2.063, 2.0522, 2.0435, 2.0301, 2.0214, 2.0187, 2.0146, 2.0121, 2.0006, 1.9732, 1.9716, 1.9689, 1.9673, 1.965, 1.9585, 1.9493, 1.9384, 1.93, 1.9094, 1.8776, 1.8853, 1.9037, 1.9085, 1.8848, 1.7957, 1.664, 1.6415, 1.6322, 1.6534, 1.5385, 1.5998, 1.2413, 1.3865, 1.5547, 1.4512, 1.4197, 1.0642, 1.2515, 1.4587, 1.0277, 1.5777, 0.8505, 1.2627, 1.2262, 1.0484, 1.1604, 2.5322, 2.4988, 2.4852, 2.4844, 2.4018, 2.3962, 2.3845, 2.3608, 2.35, 2.3074, 2.3065, 2.3009, 2.2831, 2.2521, 2.2243, 2.2218, 2.217, 2.2052, 2.1979, 2.1866, 2.1653, 2.1576, 2.1574, 2.1116, 2.0832, 2.0776, 2.0588, 2.0494, 2.0473, 2.0437, 2.0173, 1.9708, 1.8608, 1.7544, 1.6792, 1.6079, 1.7625, 1.511, 1.3075, 1.1556, 0.7362, 2.6795, 2.6699, 2.667, 2.6288, 2.6137, 2.6113, 2.5473, 2.5448, 2.5205, 2.4717, 2.4665, 2.4662, 2.4334, 2.4327, 2.4007, 2.3928, 2.3714, 2.3617, 2.3491, 2.3184, 2.3117, 2.2969, 2.2879, 2.2783, 2.254, 2.2528, 2.2416, 2.2395, 2.2242, 2.2082, 2.1737, 2.171, 2.0847, 2.0659, 2.0165, 1.92, 1.9219, 2.0064, 2.0798, 1.7647, 1.9985, 1.9097, 1.0872, 1.1772, 1.3437, 1.4855, 1.255, 2.6613, 2.6073, 2.5834, 2.534, 2.4223, 2.3973, 2.3716, 2.3245, 2.2891, 2.2791, 2.2444, 2.2291, 2.2223, 2.2167, 2.2081, 2.1654, 2.1639, 2.144, 2.1362, 2.1252, 2.1243, 2.1068, 2.1032, 2.0989, 2.0986, 2.0971, 2.0935, 2.0804, 2.0768, 2.068, 2.0506, 2.0584, 1.9494, 1.9868, 2.0411, 1.951, 2.0351, 1.8314, 1.8068, 2.0249, 1.8532, 1.6646, 1.5622, 1.4401, 1.5429, 1.5524, 1.6246, 1.9154, 1.3925, 1.1157, 1.2807, 1.1788, 1.274, 1.1324, 1.4137, 1.1133, 3.2675, 3.2497, 3.2376, 3.222, 3.1912, 3.1662, 3.1312, 3.1234, 2.9876, 2.9564, 2.9185, 2.9131, 2.8518, 2.8478, 2.8111, 2.8028, 2.7731, 2.6783, 2.649, 2.6391, 2.6208, 2.6074, 2.5928, 2.5772, 2.5737, 2.5567, 2.533, 2.529, 2.5165, 2.5152, 2.4937, 2.5098, 2.2988, 2.1356, 2.2763, 2.1325, 2.4433, 1.9553, 1.9818, 2.0843, 1.8763, 1.6673, 1.7327, 1.7818, 1.3834]}, \"token.table\": {\"Topic\": [2, 3, 5, 6, 8, 1, 2, 6, 7, 1, 3, 7, 8, 9, 10, 1, 4, 7, 10, 1, 3, 4, 5, 8, 9, 1, 2, 3, 6, 9, 6, 10, 2, 3, 2, 3, 4, 5, 7, 9, 2, 5, 8, 9, 1, 6, 8, 4, 7, 1, 2, 3, 4, 5, 6, 7, 10, 1, 3, 4, 5, 6, 7, 8, 9, 2, 3, 6, 1, 3, 6, 8, 2, 3, 5, 6, 7, 9, 10, 1, 2, 4, 5, 6, 1, 2, 4, 6, 9, 1, 2, 3, 4, 5, 7, 10, 2, 4, 5, 7, 1, 7, 9, 2, 6, 1, 8, 2, 4, 7, 4, 5, 7, 9, 3, 5, 9, 1, 5, 1, 2, 3, 4, 5, 6, 7, 8, 9, 10, 1, 2, 4, 5, 6, 7, 8, 1, 2, 5, 6, 7, 9, 1, 2, 3, 4, 5, 6, 7, 8, 9, 3, 4, 6, 7, 1, 2, 5, 7, 2, 3, 6, 8, 2, 3, 7, 2, 1, 6, 7, 1, 5, 8, 9, 5, 6, 7, 2, 3, 5, 6, 7, 9, 2, 4, 6, 1, 2, 5, 7, 8, 9, 2, 6, 7, 9, 1, 8, 1, 2, 7, 10, 1, 2, 3, 4, 5, 7, 8, 2, 3, 4, 5, 6, 8, 9, 1, 2, 5, 7, 8, 1, 2, 4, 7, 4, 10, 1, 2, 3, 6, 9, 10, 1, 3, 6, 10, 2, 6, 10, 1, 2, 3, 4, 5, 6, 7, 8, 9, 10, 2, 5, 8, 2, 3, 8, 2, 6, 1, 2, 3, 4, 6, 7, 8, 9, 1, 2, 4, 5, 7, 8, 9, 3, 6, 7, 9, 2, 1, 3, 4, 5, 6, 7, 8, 9, 2, 5, 1, 2, 3, 7, 8, 9, 1, 2, 3, 5, 6, 7, 8, 10, 1, 2, 5, 8, 9, 1, 3, 9, 1, 9, 10, 1, 6, 7, 9, 10, 2, 5, 1, 5, 6, 7, 1, 6, 7, 9, 2, 3, 4, 5, 7, 9, 2, 3, 5, 6, 7, 8, 9, 10, 2, 10, 1, 2, 3, 4, 5, 6, 7, 9, 3, 5, 6, 7, 9, 10, 2, 4, 7, 9, 10, 2, 6, 8, 9, 10, 2, 3, 4, 5, 8, 10, 2, 4, 5, 6, 2, 9, 1, 2, 5, 1, 4, 5, 6, 9, 1, 2, 5, 7, 9, 1, 7, 1, 3, 5, 7, 1, 2, 3, 4, 5, 6, 7, 9, 10, 2, 6, 7, 9, 1, 4, 8, 9, 1, 2, 5, 7, 1, 7, 8, 9, 1, 2, 4, 5, 6, 7, 8, 9, 1, 3, 4, 5, 7, 9, 1, 6, 7, 9, 2, 3, 5, 6, 8, 1, 4, 6, 9, 10, 1, 6, 8, 1, 4, 5, 9, 3, 4, 8, 1, 2, 3, 4, 5, 7, 8, 9, 10, 2, 3, 9, 1, 9, 6, 8, 3, 5, 9, 3, 4, 1, 3, 5, 6, 7, 9, 1, 5, 8, 4, 5, 7, 8, 9, 2, 5, 7, 1, 2, 4, 5, 6, 9, 1, 2, 3, 4, 5, 9, 1, 3, 4, 5, 6, 7, 8, 9, 1, 2, 4, 5, 6, 9, 2, 3, 4, 5, 8, 9, 2, 3, 4, 1, 5, 7, 9, 3, 7, 2, 3, 6, 8, 9, 3, 4, 5, 6, 8, 9, 10, 1, 3, 4, 5, 6, 7, 8, 9, 2, 3, 7, 8, 9, 3, 6, 7, 9, 2, 5, 1, 3, 4, 5, 6, 7, 9, 1, 2, 3, 5, 6, 7, 8, 9, 10, 1, 2, 4, 6, 7, 9, 2, 3, 5, 6, 7, 8, 9, 1, 2, 3, 5, 7, 9, 2, 3, 4, 5, 1, 6, 6, 9, 1, 7, 1, 2, 4, 5, 6, 7, 8, 9, 1, 2, 3, 4, 5, 6, 7, 8, 9, 3, 6, 3, 1, 1, 2, 6, 8, 7, 10, 2, 3, 5, 6, 9, 2, 3, 9, 1, 3, 4, 5, 6, 7, 2, 5, 7, 9, 1, 4, 6, 9, 1, 4, 6, 7, 8, 10, 2, 9, 2, 3, 4, 5, 6, 9, 2, 3, 5, 1, 2, 3, 6, 7, 9, 2, 3, 4, 5, 6, 2, 3, 5, 7, 10, 1, 2, 3, 4, 5, 7, 8, 9, 1, 2, 7, 8, 9, 1, 2, 4, 6, 7, 9, 10, 1, 3, 7, 1, 2, 3, 4, 5, 7, 8, 9, 3, 5, 6, 8, 1, 2, 3, 5, 6, 7, 8, 9, 2, 5, 6, 7, 8, 5, 7, 9, 2, 1, 5, 7, 9, 2, 6, 7, 5, 7, 1, 2, 8, 3, 3, 3, 4, 9, 3, 4, 5, 1, 2, 3, 4, 5, 6, 1, 2, 3, 4, 5, 6, 8, 9, 1, 2, 6, 7, 8, 9, 3, 6, 7, 10, 1, 3, 4, 5, 6, 8, 9, 10, 2, 3, 6, 9, 3, 9, 1, 4, 5, 8, 2, 3, 5, 7, 9, 10, 2, 3, 6, 8, 9, 3, 6, 9, 1, 2, 3, 4, 5, 6, 9, 10, 1, 2, 8, 2, 3, 6, 9, 1, 2, 3, 4, 5, 6, 8, 9, 2, 9, 10, 4, 6, 8, 2, 6, 1, 2, 3, 4, 5, 6, 7, 1, 5, 9, 1, 2, 3, 6, 7, 8, 1, 4, 5, 6, 7, 4, 5, 7, 9, 1, 2, 3, 4, 5, 6, 7, 8, 9, 10, 1, 2, 4, 5, 7, 9, 3, 10, 1, 2, 3, 5, 6, 7, 8, 9, 1, 3, 7, 1, 2, 3, 4, 5, 6, 7, 8, 9, 10, 1, 3, 6, 8, 9, 3, 6, 3, 9, 3, 9, 3, 5, 6, 1, 2, 3, 4, 5, 6, 7, 1, 3, 4, 5, 7, 8, 9, 1, 3, 5, 7, 9, 10, 1, 4, 5, 9, 2, 3, 4, 5, 6, 2, 6, 9, 3, 2, 3, 4, 5, 10, 3, 8, 1, 2, 5, 7, 8, 1, 2, 3, 7, 9, 10, 2, 8, 9, 1, 5, 8, 1, 3, 6, 7, 9, 10, 1, 2, 5, 7, 9, 1, 2, 3, 4, 5, 3, 5, 6, 7, 4, 7, 8, 2, 5, 1, 3, 9, 1, 2, 3, 5, 9, 3, 5, 1, 2, 5, 8, 9, 1, 8, 1, 2, 3, 5, 6, 7, 9, 10, 3, 4, 9, 1, 2, 3, 4, 5, 6, 7, 8, 9, 1, 2, 3, 6, 9, 1, 2, 7, 10, 4, 10, 1, 2, 3, 5, 6, 7, 8, 2, 3, 5, 6, 10, 1, 2, 7, 9, 1, 3, 7, 8, 1, 9, 1, 5, 7, 8, 9, 1, 8, 1, 7, 1, 2, 3, 6, 7, 1, 4, 1, 1, 2, 4, 5, 6, 7, 8, 10, 1, 3, 4, 5, 6, 7, 9, 2, 2, 9, 2, 3, 1, 2, 4, 5, 6, 9, 4, 5, 7, 1, 2, 3, 4, 5, 6, 9, 2, 4, 7, 9, 2, 3, 4, 5, 6, 7, 8, 9, 2, 7, 8, 2, 3, 4, 9, 1, 2, 4, 5, 6, 7, 8, 9, 2, 4, 5, 6, 9, 10, 3, 6, 1, 6, 9, 2, 3, 5, 9, 3, 7, 1, 2, 3, 4, 5, 6, 7, 8, 9, 1, 2, 3, 5, 1, 2, 4, 7, 8, 9, 1, 2, 3, 4, 5, 7, 8, 1, 2, 5, 7, 10, 1, 2, 3, 8, 1, 8, 1, 2, 3, 4, 5, 6, 8, 9, 2, 3, 9, 1, 2, 3, 4, 5, 6, 7, 8, 1, 4, 9, 3, 5, 6, 9, 10, 1, 5, 8, 9, 4, 1, 3, 4, 5, 7, 9, 1, 8, 9, 4, 7, 9, 1, 2, 3, 4, 6, 9, 1, 2, 3, 4, 5, 6, 8, 9, 10, 4, 5, 1, 2, 3, 4, 5, 6, 7, 1, 2, 3, 4, 5, 6, 7, 9, 1, 2, 6, 9, 4, 1, 6, 8, 9, 5, 6, 7, 9, 2, 6, 8, 10, 1, 3, 6, 7, 9, 3, 4, 7, 4, 5, 4, 5, 7, 8, 1, 2, 3, 5, 6, 7, 8, 9, 1, 3, 6, 8, 9, 1, 3, 5, 7, 8, 9, 1, 2, 3, 4, 5, 10, 1, 9, 1, 4, 10, 1, 5, 6, 7, 9, 1, 2, 3, 4, 6, 7, 8, 10, 6, 7, 2, 9, 3, 5, 1, 4, 3, 5, 6, 2, 4, 7, 9, 1, 4, 5, 7, 9, 1, 2, 3, 4, 7, 10, 2, 6, 7, 9, 1, 3, 6, 7, 9, 1, 2, 3, 4, 5, 6, 7, 8, 9, 1, 3, 4, 5, 7, 9, 7, 8, 9, 1, 2, 3, 4, 5, 7, 9, 2, 3, 5, 8, 6, 7, 1, 5, 9, 2, 3, 7, 8, 9, 10, 1, 2, 3, 4, 5, 9, 10, 1, 2, 4, 6, 9, 3, 7, 8, 1, 2, 3, 4, 5, 6, 7, 8, 9, 1, 5, 8, 2, 5, 2, 4, 5, 6, 9, 10, 2, 3, 4, 5, 6, 7, 9, 10, 1, 4, 5, 7, 9, 1, 4, 10, 1, 2, 1, 2, 3, 4, 5, 7, 8, 9, 1, 4, 2, 4, 6, 7, 9, 2, 8, 10, 1, 2, 3, 4, 5, 6, 8, 1, 2, 3, 6, 9, 2, 4, 5, 6, 9, 2, 3, 4, 5, 9, 1, 5, 6, 7, 9, 4, 6, 7, 2, 7, 8, 2, 5, 6, 9, 3, 5, 6, 7, 9, 2, 4, 9, 10, 4, 10, 1, 2, 3, 4, 5, 7, 8, 9, 10, 4, 5, 7, 8, 6, 10, 1, 2, 3, 4, 6, 7, 8, 9, 10, 1, 2, 3, 6, 7, 9, 1, 3, 6, 7, 2, 3, 5, 6, 7, 1, 2, 3, 5, 9, 10, 5, 6, 8, 1, 2, 3, 5, 6, 9, 2, 7, 10, 5, 7, 5, 9, 10, 2, 5, 2, 5, 6, 1, 2, 4, 6, 7, 8, 1, 2, 3, 4, 5, 6, 8, 2, 3, 4, 8, 1, 7, 4, 8, 1, 2, 4, 5, 7, 8, 9, 2, 5, 1, 3, 5, 1, 3, 4, 5, 6, 7, 8, 1, 2, 3, 4, 5, 6, 7, 9, 1, 4, 2, 3, 6, 7, 9, 1, 3, 4, 5, 6, 7, 9, 2, 3, 4, 5, 6, 7, 8, 9, 10, 1, 4, 5, 1, 2, 3, 5, 6, 7, 8, 10, 2, 3, 4, 5, 6, 8, 1, 2, 3, 5, 6, 7, 6, 7, 2, 3, 4, 8, 10, 1, 2, 4, 5, 6, 7, 9, 5, 8, 10, 1, 2, 3, 4, 6, 9, 1, 2, 4, 7, 8, 9, 1, 2, 3, 4, 5, 7, 8, 1, 3, 6, 9, 5, 7, 8, 9, 3, 9, 10, 1, 2, 3, 4, 7, 9, 2, 4, 5, 7, 9, 1, 2, 4, 5, 7, 8, 2, 4, 7, 8, 10, 1, 3, 5, 7, 1, 2, 1, 2, 3, 4, 5, 6, 2, 5, 1, 2, 3, 5, 6, 10, 2, 5, 7, 1, 2, 3, 4, 6, 9, 1, 5, 2, 3, 4, 5, 6, 9, 10, 1, 5, 8, 1, 3, 1, 4, 2, 3, 7, 8, 1, 2, 7, 2, 5, 2, 9, 10, 1, 3, 5, 6, 7, 9, 4, 5, 1, 2, 7, 9, 3, 5, 6, 7, 8, 9, 2, 3, 4, 5, 6, 7, 9, 1, 2, 4, 5, 6, 7, 8, 9, 1, 3, 9, 4, 7, 9, 1, 4, 9, 2, 4, 5, 6, 9, 10, 1, 3, 7, 1, 2, 3, 5, 6, 1, 5, 6, 3, 9, 2, 4, 5, 10, 4, 5, 1, 4, 6, 7, 1, 2, 3, 5, 6, 7, 8, 9, 6, 9, 1, 2, 3, 4, 7, 8, 9, 10, 1, 2, 3, 4, 6, 9, 7, 10, 1, 4, 7, 2, 4, 1, 2, 4, 6, 9, 1, 4, 7, 8, 9, 5, 6, 7, 2, 7, 9, 1, 4, 5, 7, 9, 1, 9, 1, 6, 7, 8, 1, 2, 7, 5, 8, 1, 2, 4, 6, 8, 1, 2, 3, 5, 6, 9, 10, 6, 10, 1, 3, 7, 10, 6, 7, 1, 3, 5, 8, 1, 3, 5, 6, 7, 9, 4, 6, 10, 1, 2, 5, 6, 7, 9, 10, 1, 2, 3, 5, 6, 7, 8, 3, 4, 8, 4, 5, 7, 10, 3, 7, 8], \"Freq\": [0.7551230778548788, 0.04143968110179213, 0.13352786132799685, 0.036835272090481895, 0.02762645406786142, 0.8060462340289547, 0.07498104502594927, 0.05623578376946196, 0.05623578376946196, 0.31594887146199957, 0.019746804466374973, 0.039493608932749946, 0.039493608932749946, 0.49367011165937436, 0.07898721786549989, 0.46215580619931457, 0.035550446630716506, 0.035550446630716506, 0.4266053595685981, 0.3586445593472205, 0.01054836939256531, 0.07383858574795717, 0.031645108177695926, 0.49577336145056955, 0.01054836939256531, 0.1800118660756361, 0.1748686699020465, 0.005143196173589603, 0.1851550622492257, 0.45260126327588507, 0.46719078667502645, 0.46719078667502645, 0.9789958848867737, 0.9568891866260361, 0.0855721898008626, 0.07334759125788223, 0.721251314035842, 0.06112299271490186, 0.024449197085960744, 0.024449197085960744, 0.31109920734829205, 0.019443700459268253, 0.6027547142373159, 0.038887400918536506, 0.1853540822248875, 0.0617846940749625, 0.6796316348245875, 0.8666440871371929, 0.054165255446074555, 0.030818588305355245, 0.11300149045296923, 0.20545725536903497, 0.010272862768451749, 0.17463866706367973, 0.4006416479696182, 0.010272862768451749, 0.041091451073806996, 0.2164879127230582, 0.5506322997521262, 0.032943812805682766, 0.009412517944480791, 0.05176884869464435, 0.06588762561136553, 0.06118136663912514, 0.009412517944480791, 0.8878774801698545, 0.06341982001213246, 0.03170991000606623, 0.8436121176985992, 0.09666388848629782, 0.01757525245205415, 0.026362878678081226, 0.1393947703105505, 0.01991353861579293, 0.02987030792368939, 0.5874493891658914, 0.04978384653948232, 0.009956769307896464, 0.14935153961844697, 0.11150147100443242, 0.22300294200886484, 0.37432636694345167, 0.17521659729267952, 0.10353708021840154, 0.09375801948286677, 0.03125267316095559, 0.12501069264382236, 0.21876871212668914, 0.531295443736245, 0.5481203430364786, 0.026521952082410254, 0.15029106180032475, 0.07956585624723075, 0.09724715763550426, 0.0176813013882735, 0.07956585624723075, 0.16187393823934956, 0.7985780953141245, 0.021583191765246607, 0.021583191765246607, 0.5181171535823329, 0.42035920007623234, 0.04887897675305027, 0.3801576402217354, 0.5848579080334392, 0.2844462576767833, 0.663707934579161, 0.06516888779482119, 0.19550666338446357, 0.651688877948212, 0.058529348278814036, 0.3277643503613586, 0.5735876131323776, 0.035117608967288425, 0.3666135991429998, 0.06665701802599996, 0.5332561442079997, 0.2984736936426009, 0.656642126013722, 0.07722885672804089, 0.16218059912888588, 0.10039751374645317, 0.03089154269121636, 0.038614428364020445, 0.038614428364020445, 0.03089154269121636, 0.2316865701841227, 0.09267462807364908, 0.19307214182010224, 0.7287916341613196, 0.023509407553590957, 0.058773518883977395, 0.047018815107181915, 0.07052822266077287, 0.035264111330386434, 0.035264111330386434, 0.030243263212511348, 0.060486526425022696, 0.5746220010377157, 0.060486526425022696, 0.030243263212511348, 0.21170284248757945, 0.11928298812532857, 0.12313082645195207, 0.011543514979870507, 0.5579365573604078, 0.038478383266235025, 0.03463054493961152, 0.0076956766532470045, 0.05386973657272903, 0.050021898246105534, 0.84046130604245, 0.09823573706989674, 0.02183016379331039, 0.032745245689965584, 0.12778927707522555, 0.12778927707522555, 0.6389463853761278, 0.06389463853761278, 0.8637975626121063, 0.03048697279807434, 0.06097394559614868, 0.03048697279807434, 0.8795838306049333, 0.06766029466191795, 0.022553431553972648, 0.9698868345169485, 0.13844303770305896, 0.20766455655458846, 0.6229936696637653, 0.17119352946729946, 0.616296706082278, 0.17119352946729946, 0.03423870589345989, 0.7142357337565379, 0.07935952597294865, 0.1587190519458973, 0.04332542217343441, 0.358982069437028, 0.4642009518582258, 0.03713607614865807, 0.049514768198210754, 0.049514768198210754, 0.08211616450930058, 0.7801035628383555, 0.08211616450930058, 0.7841800078001169, 0.0068787719982466395, 0.04815140398772648, 0.041272631989479835, 0.0343938599912332, 0.07566649198071304, 0.8787450052372153, 0.05492156282732596, 0.02746078141366298, 0.02746078141366298, 0.8833681286805853, 0.08833681286805853, 0.19279366968556255, 0.23135240362267506, 0.11567620181133753, 0.4627048072453501, 0.007907273519267462, 0.20558911150095402, 0.1265163763082794, 0.03162909407706985, 0.2925691202128961, 0.11860910278901193, 0.21349638502022147, 0.12776790322643847, 0.15332148387172617, 0.08517860215095899, 0.09369646236605489, 0.3151608279585482, 0.05962502150567129, 0.17035720430191797, 0.12474450384411029, 0.6010417003398042, 0.06804245664224198, 0.045361637761494655, 0.13608491328448397, 0.08070090299666556, 0.7724229286823704, 0.0576435021404754, 0.08070090299666556, 0.24931204581105548, 0.6856081259804027, 0.8742564723665758, 0.006524302032586386, 0.05545656727698428, 0.006524302032586386, 0.029359359146638737, 0.026097208130345544, 0.35394048455941335, 0.2064652826596578, 0.029495040379951112, 0.4129305653193156, 0.019950394211606017, 0.1496279565870451, 0.8179661626758467, 0.04754771743364186, 0.010188796592923257, 0.28528630460185117, 0.020377593185846515, 0.016981327654872095, 0.0883029038053349, 0.013585062123897675, 0.016981327654872095, 0.013585062123897675, 0.4856659709293419, 0.07568137548483572, 0.15136275096967144, 0.7568137548483573, 0.05132948963039497, 0.8726013237167146, 0.05132948963039497, 0.9080208460069953, 0.053412990941587954, 0.1879465541735367, 0.1252977027823578, 0.4620352790099444, 0.023493319271692088, 0.13312880920625517, 0.03132442569558945, 0.007831106423897363, 0.023493319271692088, 0.050373499996299524, 0.03917938888601074, 0.05597055555144391, 0.6044819999555943, 0.11753816665803221, 0.03358233333086635, 0.09514994443745466, 0.8473128253262633, 0.05248840510870657, 0.06748509228262274, 0.022495030760874245, 0.9866774636105641, 0.2376561751549141, 0.07233014026453907, 0.07233014026453907, 0.061997263083890634, 0.33065206978075007, 0.061997263083890634, 0.04133150872259376, 0.11366164898713284, 0.8551952663316824, 0.1068994082914603, 0.21896841122244695, 0.04054970578193462, 0.06487952925109539, 0.008109941156386923, 0.6487952925109539, 0.008109941156386923, 0.12411014214635807, 0.013790015794039786, 0.579180663349671, 0.006895007897019893, 0.0965301105582785, 0.06895007897019893, 0.08274009476423871, 0.027580031588079573, 0.02723517146768555, 0.19064620027379883, 0.19064620027379883, 0.1089406858707422, 0.49023308641833985, 0.8182408305582705, 0.11689154722261007, 0.058445773611305034, 0.8835146145470465, 0.047331140065020344, 0.06310818675336045, 0.8027229448855637, 0.04116527922490071, 0.010291319806225177, 0.061747918837351055, 0.08233055844980142, 0.8424085667888469, 0.1512015376287674, 0.1934038243810675, 0.02762911776872393, 0.6907279442180982, 0.05525823553744786, 0.11756179316052351, 0.6465898623828793, 0.11756179316052351, 0.11756179316052351, 0.06647645037834561, 0.34567754196739714, 0.06647645037834561, 0.026590580151338243, 0.4254492824214119, 0.06647645037834561, 0.20993351898911755, 0.07872506962091907, 0.05248337974727939, 0.06997783966303918, 0.017494459915759795, 0.4548559578097547, 0.017494459915759795, 0.10496675949455878, 0.4821471303563016, 0.4821471303563016, 0.07405153903252636, 0.027769327137197382, 0.24066750185571065, 0.10182086616972373, 0.01851288475813159, 0.361001252783566, 0.12959019330692112, 0.027769327137197382, 0.03850063598134928, 0.046200763177619134, 0.046200763177619134, 0.015400254392539713, 0.8162134828046047, 0.030800508785079426, 0.0609013579405393, 0.4019489624075594, 0.02436054317621572, 0.45067004875999084, 0.04872108635243144, 0.028297821291148103, 0.01179075887131171, 0.02358151774262342, 0.009432607097049368, 0.9267536472851003, 0.2522272076462905, 0.010509466985262103, 0.09458520286735894, 0.05254733492631052, 0.06305680191157262, 0.504454415292581, 0.01656567271416729, 0.8448493084225318, 0.11595970899917103, 0.01656567271416729, 0.9138133606495622, 0.05076740892497568, 0.8591873347283655, 0.03304566672032175, 0.0660913334406435, 0.6363831858007251, 0.04772873893505438, 0.02386436946752719, 0.18296016591770844, 0.10341226769261783, 0.14610535446175787, 0.08766321267705472, 0.5259792760623283, 0.058442141784703146, 0.14610535446175787, 0.30354495606558424, 0.6677989033442853, 0.7676315589689778, 0.04605789353813867, 0.04605789353813867, 0.12282104943503645, 0.056876285677294955, 0.1421907141932374, 0.06398582138695683, 0.049766749967633084, 0.3625863211927553, 0.04265721425797121, 0.12086210706425178, 0.08531442851594243, 0.08531442851594243, 0.07388864804524928, 0.6280535083846188, 0.18472162011312318, 0.11083297206787392, 0.17889528512808212, 0.07666940791203519, 0.6389117326002933, 0.07666940791203519, 0.25439231672062734, 0.06359807918015684, 0.6359807918015684, 0.06359807918015684, 0.219337133389338, 0.1535359933725366, 0.021933713338933798, 0.5922102601512126, 0.47767077348243675, 0.08340283346518737, 0.16680566693037474, 0.1213132123129998, 0.0606566061564999, 0.03032830307824995, 0.03032830307824995, 0.015164151539124975, 0.7265299740445607, 0.04991427302596218, 0.07209839437083426, 0.01663809100865406, 0.01109206067243604, 0.11646663706057843, 0.883220291437814, 0.030990185664484703, 0.015495092832242352, 0.06198037132896941, 0.017138912436023404, 0.05141673730807021, 0.028564854060039006, 0.22851883248031205, 0.6741305558169205, 0.16028510479190736, 0.12822808383352588, 0.544969356292485, 0.06411404191676294, 0.06411404191676294, 0.10875665864703292, 0.5981616225586811, 0.21751331729406584, 0.22002055269695583, 0.07334018423231861, 0.14668036846463722, 0.5133812896262303, 0.028543601136430796, 0.9419388375022163, 0.014271800568215398, 0.030138229561069457, 0.12055291824427783, 0.05274190173187155, 0.497280787757646, 0.082880131292941, 0.045207344341604186, 0.03767278695133682, 0.030138229561069457, 0.11301836085401046, 0.035130984392093764, 0.9309710863904846, 0.02342065626139584, 0.03842146747064887, 0.9221152192955728, 0.1515738356997306, 0.757869178498653, 0.3720131965108296, 0.0413347996123144, 0.4960175953477728, 0.9861575996432507, 0.8803767970932527, 0.48604062862783015, 0.015935758315666564, 0.03187151663133313, 0.22310061641933188, 0.14342182484099908, 0.0876466707361661, 0.16230711176131263, 0.04057677794032816, 0.770958780866235, 0.0836526486870353, 0.012392984990671898, 0.8799019343377047, 0.02168772373367582, 0.0030982462476679745, 0.8595929146614643, 0.10419308056502596, 0.02604827014125649, 0.6096830404450586, 0.0653231829048277, 0.04354878860321847, 0.1306463658096554, 0.11975916865885079, 0.03266159145241385, 0.7150891702192511, 0.14021356278808844, 0.02804271255761769, 0.07010678139404422, 0.05608542511523538, 0.014021356278808845, 0.15139150826595751, 0.012615959022163127, 0.6812617871968089, 0.03784787706648938, 0.05046383608865251, 0.012615959022163127, 0.012615959022163127, 0.03784787706648938, 0.06093810756547979, 0.14625145815715151, 0.57281821111551, 0.012187621513095959, 0.10968859361786362, 0.08531335059167171, 0.8649823577402114, 0.018803964298700248, 0.02820594644805037, 0.037607928597400496, 0.009401982149350124, 0.04700991074675062, 0.8039391496455933, 0.1057814670586307, 0.08462517364690456, 0.35728086652248137, 0.05104012378892591, 0.07656018568338886, 0.5104012378892591, 0.866864965855983, 0.12095790221246276, 0.1684792906402804, 0.07019970443345017, 0.37907840394063086, 0.28079881773380067, 0.09827958620683022, 0.06618533243808533, 0.11346056989386055, 0.037820189964620186, 0.2741963772434963, 0.19855599731425597, 0.047275237455775235, 0.2647413297523413, 0.3486548742178151, 0.1654633301372682, 0.017728213943278736, 0.10636928365967241, 0.2186479719671044, 0.10045987901191283, 0.029547023238797893, 0.005909404647759579, 0.229539954290141, 0.21041162476596262, 0.03825665904835684, 0.07651331809671368, 0.4399515790561036, 0.22909905866614627, 0.6414773642652096, 0.06872971759984388, 0.04581981173322926, 0.19699363145215001, 0.7485757995181701, 0.6476943861737416, 0.06268010188778145, 0.06268010188778145, 0.0417867345918543, 0.02089336729592715, 0.0835734691837086, 0.06268010188778145, 0.058568712004090064, 0.3123664640218137, 0.15618323201090684, 0.302605012021132, 0.019522904001363355, 0.03904580800272671, 0.009761452000681677, 0.03904580800272671, 0.06833016400477174, 0.03476436823151937, 0.03476436823151937, 0.9212557581352634, 0.2593936335824693, 0.04323227226374489, 0.6484840839561733, 0.08861012917601671, 0.044305064588008355, 0.014768354862669452, 0.6202709042321171, 0.014768354862669452, 0.10337848403868617, 0.08861012917601671, 0.11171251431884677, 0.688893838299555, 0.07447500954589784, 0.00930937619323723, 0.0930937619323723, 0.00930937619323723, 0.027952966508074488, 0.7267771292099366, 0.14908248804306393, 0.08385889952422346, 0.2772064684683053, 0.5544129369366106, 0.6575764657272004, 0.2818184853116573, 0.9299067486748973, 0.059993983785477246, 0.05977674523071979, 0.08966511784607968, 0.07970232697429305, 0.6276558249225578, 0.029888372615359895, 0.019925581743573263, 0.039851163487146526, 0.039851163487146526, 0.015416989032889662, 0.10791892323022763, 0.16187838484534145, 0.0770849451644483, 0.023125483549334493, 0.053959461615113814, 0.015416989032889662, 0.5241776271182486, 0.030833978065779324, 0.46342567824838526, 0.5238725058460008, 0.9848229205952328, 0.9863143367394671, 0.9859293034137628, 0.21259451290436215, 0.7440807951652676, 0.035432418817393695, 0.6363330929341796, 0.35351838496343313, 0.01972617263321166, 0.7693207326952548, 0.03945234526642332, 0.11835703579926997, 0.03945234526642332, 0.1409191836882081, 0.1878922449176108, 0.6576228572116378, 0.07675442939747341, 0.023616747506914896, 0.6081312483030586, 0.023616747506914896, 0.14170048504148938, 0.12398792441130321, 0.19311349691014654, 0.5471549079120819, 0.19311349691014654, 0.032185582818357754, 0.2621623056778053, 0.05825829015062341, 0.6117120465815458, 0.05825829015062341, 0.04804190296466158, 0.06405587061954877, 0.46440506199172854, 0.2562234824781951, 0.016013967654887194, 0.14412570889398474, 0.7906302795638607, 0.2010076981942019, 0.04056295474420529, 0.08112590948841059, 0.14197034160471853, 0.04056295474420529, 0.10140738686051323, 0.6084443211630793, 0.06152434447166253, 0.3281298371822002, 0.5947353298927378, 0.0927805475613751, 0.42524417632296924, 0.1855610951227502, 0.007731712296781259, 0.023195136890343776, 0.26287821809056283, 0.09715177328446638, 0.08635713180841456, 0.7448302618475755, 0.02158928295210364, 0.03238392442815546, 0.07701796833468649, 0.05990286426031172, 0.17970859278093515, 0.6418164027890542, 0.04278776018593694, 0.4593321798864854, 0.017333289807037185, 0.017333289807037185, 0.03466657961407437, 0.2426660572985206, 0.19066618787740905, 0.043333224517592965, 0.008666644903518593, 0.245161001217183, 0.06129025030429575, 0.06129025030429575, 0.5311821693038965, 0.081720333739061, 0.2589373118230019, 0.032367163977875237, 0.06473432795575047, 0.39919502239379456, 0.08631243727433396, 0.04315621863716698, 0.10789054659291746, 0.9493554662508893, 0.32046127839993804, 0.5608072371998916, 0.2251810468802432, 0.1330615277019619, 0.10235502130920146, 0.08188401704736116, 0.010235502130920145, 0.030706506392760437, 0.38894908097496556, 0.02047100426184029, 0.021769402155214324, 0.021769402155214324, 0.04353880431042865, 0.9034301894413944, 0.04529703004288905, 0.05176803433473034, 0.2588401716736517, 0.0905940600857781, 0.10353606866946068, 0.36884724463495366, 0.02588401716736517, 0.05176803433473034, 0.07652102814816987, 0.13117890539686264, 0.010931575449738553, 0.010931575449738553, 0.7761418569314372, 0.625640618502258, 0.16321059613102384, 0.19041236215286114, 0.9421651768871667, 0.20461159565106687, 0.5626818880404338, 0.10230579782553344, 0.10230579782553344, 0.28524984989258123, 0.6275496697636788, 0.057049969978516246, 0.8881029197297527, 0.04674225893314488, 0.07548769364936989, 0.7926207833183838, 0.11323154047405483, 0.935951415408791, 0.9894973268893642, 0.3158490549953522, 0.11485420181649171, 0.5742710090824585, 0.33620292055226336, 0.01769489055538228, 0.6193211694383798, 0.05130628322184852, 0.07695942483277278, 0.02565314161092426, 0.1795719912764698, 0.12826570805462129, 0.5387159738294094, 0.018148896772620826, 0.03629779354524165, 0.18148896772620823, 0.42347425802781924, 0.0241985290301611, 0.0967941161206444, 0.006049632257540275, 0.21173712901390962, 0.12219000656814083, 0.08146000437876055, 0.23080334573982156, 0.10861333917168073, 0.054306669585840364, 0.40730002189380277, 0.14466039795218338, 0.6268617244594614, 0.0964402653014556, 0.1205503316268195, 0.11853638442562997, 0.14224366131075597, 0.047414553770251985, 0.059268192212814985, 0.39117006860457887, 0.09482910754050397, 0.08297546909794097, 0.059268192212814985, 0.047188614084514566, 0.8763599758552705, 0.05392984466801665, 0.013482461167004162, 0.9814907597934145, 0.017371517872449813, 0.11625632671426209, 0.7362900691903266, 0.03875210890475403, 0.09688027226188507, 0.2199080129868376, 0.10262373939385755, 0.579091100865339, 0.03665133549780627, 0.02199080129868376, 0.029321068398245012, 0.17802016066452464, 0.1582401428129108, 0.32637029455162847, 0.2967002677742077, 0.0395600357032277, 0.9746938868266533, 0.014333733629803724, 0.007166866814901862, 0.08616738556839018, 0.11488984742452024, 0.13403815532860694, 0.4787076976021677, 0.02872246185613006, 0.06701907766430347, 0.047870769760216765, 0.038296615808173416, 0.32754295603256084, 0.03853446541559539, 0.6165514466495262, 0.07337060799991608, 0.29348243199966434, 0.5502795599993707, 0.03668530399995804, 0.048559402192934815, 0.5535771849994569, 0.048559402192934815, 0.029135641315760887, 0.2136613696489132, 0.019423760877173925, 0.048559402192934815, 0.029135641315760887, 0.3963690660840391, 0.5549166925176547, 0.03963690660840391, 0.7274863132994218, 0.12124771888323697, 0.06062385944161849, 0.2462644959929322, 0.7387934879787966, 0.34538383968784075, 0.03542398355772725, 0.21254390134636353, 0.008855995889431813, 0.11512794656261358, 0.008855995889431813, 0.2745358725723862, 0.0478187520557554, 0.07969792009292566, 0.8607375370035971, 0.06629842238695599, 0.005099878645150461, 0.7904811899983215, 0.04079902916120369, 0.09689769425785877, 0.005099878645150461, 0.10232151068708081, 0.13642868091610774, 0.6139290641224849, 0.06821434045805387, 0.034107170229026935, 0.08915244425800738, 0.04457622212900369, 0.7800838872575646, 0.06686433319350553, 0.17405260905070297, 0.08702630452535148, 0.05801753635023432, 0.12570466209217437, 0.02900876817511716, 0.13537425148388008, 0.038678357566822884, 0.0966958939170572, 0.05801753635023432, 0.20306137722582013, 0.01679448482905842, 0.13435587863246737, 0.8229297566238626, 0.01679448482905842, 0.208418595945546, 0.69472865315182, 0.5330869753903087, 0.441175427909221, 0.04893012428911728, 0.061162655361396596, 0.01223253107227932, 0.4526036496743348, 0.3669759321683796, 0.01223253107227932, 0.03669759321683796, 0.01223253107227932, 0.05088193961851571, 0.17808678866480498, 0.7377881244684777, 0.10272117562062537, 0.16435388099300058, 0.006848078374708358, 0.041088470248250145, 0.06163270537237522, 0.02739231349883343, 0.05478462699766686, 0.09587309724591701, 0.19859427286654238, 0.25337889986420925, 0.026339214345031066, 0.7374980016608698, 0.13169607172515532, 0.05267842869006213, 0.039508821517546595, 0.7915428827424201, 0.17589841838720446, 0.8978414036312331, 0.08550870510773649, 0.811213705930637, 0.16224274118612741, 0.8854784266399313, 0.046604127717891124, 0.06990619157683668, 0.5778353475797473, 0.05253048614361339, 0.01751016204787113, 0.07004064819148452, 0.01751016204787113, 0.08755081023935565, 0.1751016204787113, 0.5918776770359709, 0.008336305310365789, 0.10003566372438946, 0.033345221241463156, 0.17506241151768157, 0.025008915931097365, 0.06669044248292631, 0.7100644320102912, 0.051955934049533505, 0.043296611707944584, 0.06927457873271134, 0.008659322341588917, 0.11257119044065593, 0.032872649288909955, 0.769219993360493, 0.18408683601789574, 0.00657452985778199, 0.10517608361348865, 0.0657350522584304, 0.6047624807775598, 0.18405814632360515, 0.026294020903372163, 0.04927563792417444, 0.29565382754504665, 0.5913076550900933, 0.9648396810816041, 0.037015534497354494, 0.6292640864550264, 0.009253883624338623, 0.07403106899470899, 0.2313470906084656, 0.024677676331563606, 0.9624293769309806, 0.8643541040226778, 0.03201311496380288, 0.03201311496380288, 0.03201311496380288, 0.03201311496380288, 0.009162003146822119, 0.32067011013877417, 0.36648012587288475, 0.018324006293644238, 0.26569809125784144, 0.018324006293644238, 0.2082151922948423, 0.2082151922948423, 0.5205379807371058, 0.04235690493776904, 0.1270707148133071, 0.7624242888798426, 0.09919162756026384, 0.0595149765361583, 0.09919162756026384, 0.25789823165668596, 0.03967665102410554, 0.43644316126516086, 0.09751934606770406, 0.7606508993280916, 0.03900773842708162, 0.01950386921354081, 0.07801547685416324, 0.014005917901382451, 0.280118358027649, 0.014005917901382451, 0.6302663055622103, 0.04201775370414735, 0.8144007713637091, 0.03805611081138827, 0.04566733297366593, 0.09133466594733186, 0.21155570160473192, 0.10577785080236596, 0.6346671048141957, 0.8844759379287073, 0.07804199452312123, 0.06200249270818075, 0.8370336515604401, 0.06200249270818075, 0.0077456851620120075, 0.05421979613408405, 0.48023248004474445, 0.05421979613408405, 0.4027756284246244, 0.8690688052371942, 0.11141907759451208, 0.18258623771561416, 0.6952322128402231, 0.07022547604446698, 0.03511273802223349, 0.014045095208893396, 0.8967415267135629, 0.04719692245860857, 0.07078189856088812, 0.21234569568266437, 0.03932327697827118, 0.01572931079130847, 0.27526293884789826, 0.03932327697827118, 0.03932327697827118, 0.3067215604305152, 0.9200951085874307, 0.03943264751088989, 0.026288431673926593, 0.14723171566735224, 0.013802973343814272, 0.49230604926270904, 0.05981288448986184, 0.1288277512089332, 0.05521189337525709, 0.0322069378022333, 0.0046009911146047576, 0.05981288448986184, 0.8627358977209397, 0.04792977209560776, 0.015976590698535922, 0.031953181397071845, 0.015976590698535922, 0.024900476671202314, 0.024900476671202314, 0.024900476671202314, 0.9088673984988844, 0.4414092651095003, 0.5093183828186542, 0.007473830706085395, 0.5493265568972765, 0.04857989958955507, 0.160687360180836, 0.026158407471298883, 0.011210746059128092, 0.19805651371126295, 0.4409729873042498, 0.03575456653818241, 0.03575456653818241, 0.40521842076606734, 0.05959094423030402, 0.1582026719231056, 0.1582026719231056, 0.0791013359615528, 0.5537093517308697, 0.028018717862868168, 0.3642433322172862, 0.014009358931434084, 0.5743837161887975, 0.9287995703979596, 0.029961276464450307, 0.0956169353272621, 0.03414890547402218, 0.7922546069973146, 0.027319124379217748, 0.04097868656882662, 0.03952868501089888, 0.9565941772637528, 0.932521210981469, 0.05828257568634181, 0.5166513915715993, 0.09299725048288787, 0.02066605566286397, 0.03099908349429596, 0.33065689060582354, 0.9385275039102673, 0.049396184416329855, 0.9865511983415, 0.01113135963668903, 0.033394078910067085, 0.5676993414711405, 0.05565679818344515, 0.13357631564026834, 0.04452543854675612, 0.04452543854675612, 0.1113135963668903, 0.38714592833988903, 0.09678648208497226, 0.04399385549316921, 0.334353301748086, 0.07039016878907074, 0.026396313295901527, 0.04399385549316921, 0.982715817520468, 0.8706250690645, 0.07255208908870833, 0.7850845654107568, 0.18472578009664864, 0.03230571823408193, 0.008076429558520483, 0.1453757320533687, 0.767260808059446, 0.016152859117040966, 0.016152859117040966, 0.07274144965324278, 0.11638631944518846, 0.8001559461856707, 0.028525596929887792, 0.8453949635584928, 0.007779708253605761, 0.007779708253605761, 0.07779708253605762, 0.02074588867628203, 0.007779708253605761, 0.9576103579328514, 0.793151889780651, 0.1321919816301085, 0.0264383963260217, 0.011821490862676389, 0.011821490862676389, 0.08275043603873473, 0.08275043603873473, 0.08275043603873473, 0.1063934177640875, 0.08275043603873473, 0.5556100705457904, 0.21137285490368027, 0.035228809150613376, 0.739804992162881, 0.5657692477368939, 0.3168307787326606, 0.09052307963790301, 0.011315384954737877, 0.10010038668696329, 0.02002007733739266, 0.02002007733739266, 0.16016061869914128, 0.06006023201217798, 0.5605621654469944, 0.08008030934957064, 0.02002007733739266, 0.2578358680537371, 0.06726153079662707, 0.033630765398313535, 0.011210255132771178, 0.011210255132771178, 0.6165640323024149, 0.9243167657795481, 0.06722303751123987, 0.07337150110370882, 0.6603435099333794, 0.14674300220741765, 0.05703788981487426, 0.28518944907437127, 0.6274167879636168, 0.05703788981487426, 0.08567624480108527, 0.8996005704113953, 0.031044539191453665, 0.22507290913803907, 0.06208907838290733, 0.07761134797863416, 0.22507290913803907, 0.10089475237222441, 0.03880567398931708, 0.17074496555299515, 0.07761134797863416, 0.8006994361777574, 0.06405595489422058, 0.03202797744711029, 0.09608393234133088, 0.07803899934801847, 0.1040519991306913, 0.013006499891336412, 0.039019499674009236, 0.6633314944581571, 0.07803899934801847, 0.07881089909713095, 0.11164877372093551, 0.21672997251711013, 0.4597302447332639, 0.03940544954856547, 0.07224332417237003, 0.02627029969904365, 0.08514171163513588, 0.08514171163513588, 0.13622673861621742, 0.034056684654054356, 0.6641053507540599, 0.027953899986751175, 0.041930849980126764, 0.06988474996687793, 0.8525939495959108, 0.2841541036185164, 0.5683082072370328, 0.15060391544115498, 0.6224961838234405, 0.010040261029410332, 0.04016104411764133, 0.04016104411764133, 0.06024156617646199, 0.030120783088230994, 0.05020130514705166, 0.06840771123407918, 0.8208925348089502, 0.06840771123407918, 0.056871288226810875, 0.07312022772018541, 0.016248939493374536, 0.10561810670693449, 0.048746818480123605, 0.06499575797349814, 0.1787383344271199, 0.454970305814487, 0.17448449217647757, 0.7784692727873614, 0.026843768027150394, 0.93996614165923, 0.06641590073234299, 0.1771090686195813, 0.022138633577447664, 0.7084362744783252, 0.8223479091680054, 0.054101836129474036, 0.04328146890357923, 0.07574257058126366, 0.9419937853869991, 0.6217181113927419, 0.06544401172555178, 0.1745173646014714, 0.021814670575183926, 0.07635134701314375, 0.03272200586277589, 0.9152210968202377, 0.061014739788015845, 0.015253684947003961, 0.019829949431319313, 0.9121776738406884, 0.039659898862638626, 0.04941064680357097, 0.11117395530803469, 0.024705323401785485, 0.24705323401785487, 0.5435171148392807, 0.012352661700892742, 0.0034694834739514117, 0.03469483473951412, 0.01734741736975706, 0.010408450421854235, 0.013877933895805647, 0.05551173558322259, 0.5308309715145659, 0.027755867791611294, 0.3053145457077242, 0.10268943074405108, 0.8899750664484427, 0.06165176434369773, 0.7454258779737998, 0.005604705849427066, 0.016814117548281198, 0.09527999944026012, 0.06165176434369773, 0.011209411698854132, 0.02040780957543651, 0.5714186681122222, 0.08163123830174604, 0.10203904787718254, 0.06122342872630952, 0.07142733351402777, 0.07142733351402777, 0.04081561915087302, 0.0477782449875131, 0.5733389398501572, 0.10424344360911948, 0.27363903947393864, 0.9419074329946856, 0.8993722357751485, 0.02306082655833714, 0.04612165311667428, 0.02306082655833714, 0.08489901182771295, 0.08489901182771295, 0.7357914358401789, 0.08489901182771295, 0.2662003341502312, 0.33275041768778896, 0.17746688943348746, 0.21074193120226636, 0.1989416478053204, 0.08526070620228017, 0.511564237213681, 0.05684047080152012, 0.11368094160304024, 0.15581127958451366, 0.7478941420056656, 0.06232451183380547, 0.8219216080847118, 0.1369869346807853, 0.2599163217158722, 0.01732775478105815, 0.0693110191242326, 0.6411269268991515, 0.05144242939368027, 0.015432728818104079, 0.5247127798155387, 0.14918304524167275, 0.030865457636208158, 0.1543272881810408, 0.015432728818104079, 0.05658667233304829, 0.06023712094175716, 0.7830825722428431, 0.06023712094175716, 0.01505928023543929, 0.07529640117719645, 0.07055152335082081, 0.17637880837705203, 0.10582728502623122, 0.5291364251311561, 0.05291364251311561, 0.07055152335082081, 0.0358786853781502, 0.16401684744297235, 0.05638079130852174, 0.5176781747418815, 0.179393426890751, 0.04100421186074309, 0.31434383448693515, 0.6286876689738703, 0.411750740574308, 0.008578140428631417, 0.5747354087183049, 0.10838602342226197, 0.08128951756669647, 0.5690266229668753, 0.13548252927782745, 0.10838602342226197, 0.108941825793452, 0.190648195138541, 0.081706369345089, 0.22696213706969168, 0.25419759351805465, 0.045392427413938334, 0.018156970965575333, 0.07262788386230133, 0.5537721491132106, 0.3461075931957566, 0.45111462337586056, 0.526300393938504, 0.8148381602410623, 0.15771061165956043, 0.09517041735745677, 0.8803263605564751, 0.7948053511959443, 0.10255552918657346, 0.0769166468899301, 0.030773267797243396, 0.15386633898621696, 0.707785159336598, 0.09231980339173018, 0.06671617529587263, 0.831386184456259, 0.01026402696859579, 0.08211221574876632, 0.005132013484297895, 0.09076717791124808, 0.09076717791124808, 0.27230153373374427, 0.04538358895562404, 0.04538358895562404, 0.45383588955624043, 0.058716863421667674, 0.15657830245778045, 0.058716863421667674, 0.6850300732527895, 0.04414186994742215, 0.07356978324570358, 0.014713956649140717, 0.6915559625096137, 0.16185352314054788, 0.06135586467348479, 0.038347415420928, 0.20707604327301118, 0.038347415420928, 0.030677932336742396, 0.5138553666404352, 0.0460168985051136, 0.0230084492525568, 0.038347415420928, 0.015704300073518793, 0.08637365040435335, 0.2041559009557443, 0.28267740132333824, 0.3926075018379698, 0.015704300073518793, 0.6118366972727923, 0.08740524246754176, 0.26221572740262533, 0.016393580289352574, 0.1229518521701443, 0.6311528411400741, 0.03278716057870515, 0.1229518521701443, 0.024590370434028862, 0.05737753101273401, 0.4522145892725279, 0.06029527856967039, 0.030147639284835194, 0.4522145892725279, 0.5588478795960384, 0.3193416454834505, 0.8462871650551862, 0.0875469481091572, 0.02918231603638573, 0.05601720215130656, 0.01867240071710219, 0.012448267144734793, 0.031120667861836978, 0.012448267144734793, 0.8713787001314354, 0.013881162343883115, 0.4997218443797921, 0.03470290585970779, 0.20821743515824673, 0.04164348703164934, 0.062465230547474014, 0.1457522046107727, 0.023475095000792562, 0.41472667834733523, 0.07042528500237769, 0.14085057000475537, 0.3443013933449576, 0.033337872541045734, 0.10001361762313721, 0.8334468135261434, 0.3426671082243222, 0.3613580414001944, 0.07476373270348849, 0.037381866351744245, 0.037381866351744245, 0.07476373270348849, 0.031151555293120206, 0.018690933175872122, 0.006230311058624041, 0.1500485630966478, 0.1500485630966478, 0.6502104400854738, 0.9055668205304819, 0.08451956991617832, 0.07408629048506302, 0.12965100834886029, 0.14817258097012603, 0.03704314524253151, 0.5186040333954411, 0.09260786310632878, 0.3453269051530794, 0.20379948500837472, 0.022644387223152748, 0.2207827754257393, 0.03396658083472912, 0.045288774446305496, 0.12454412972734011, 0.005661096805788187, 0.27494342187999615, 0.09997942613818042, 0.04998971306909021, 0.09997942613818042, 0.4998971306909021, 0.14001448914503042, 0.21002173371754565, 0.5600579565801217, 0.8188467816753489, 0.12929159710663402, 0.4593963839796849, 0.07559687331311271, 0.0581514410100867, 0.05233629690907803, 0.01163028820201734, 0.00581514410100867, 0.02326057640403468, 0.3082026373534595, 0.07316235880736432, 0.8779483056883718, 0.1350510031302773, 0.1350510031302773, 0.045017001043425764, 0.1350510031302773, 0.5402040125211092, 0.12495070890326432, 0.6872288989679537, 0.12495070890326432, 0.04697951633120622, 0.01281259536305624, 0.04697951633120622, 0.8413604288406932, 0.02562519072611248, 0.021354325605093736, 0.0042708651210187475, 0.025848942715962463, 0.20032930604870908, 0.019386707036971845, 0.5105166186402587, 0.23264048444366217, 0.4161611892486151, 0.05548815856648201, 0.018496052855494004, 0.11097631713296402, 0.39766513639312107, 0.14393495416741411, 0.513159401814259, 0.012516082971079487, 0.12516082971079487, 0.2002573275372718, 0.2203526635966388, 0.4607373875202448, 0.040064120653934325, 0.06009618098090149, 0.20032060326967163, 0.13744184467298012, 0.7902906068696357, 0.06872092233649006, 0.06781834795966092, 0.7799110015361006, 0.13563669591932184, 0.2364217109273189, 0.5910542773182972, 0.11821085546365945, 0.03940361848788648, 0.20557822225555716, 0.6167346667666715, 0.08810495239523879, 0.029368317465079594, 0.05873663493015919, 0.11953221350756366, 0.4563957243016067, 0.06519938918594381, 0.347730075658367, 0.1303229861191765, 0.8601317083865648, 0.046756186706459806, 0.1402685601193794, 0.11221484809550353, 0.06545866138904373, 0.01870247468258392, 0.12156608543679549, 0.06545866138904373, 0.32729330694521863, 0.10286361075421158, 0.06834091409855629, 0.15946213289663133, 0.6834091409855628, 0.09112121879807504, 0.09315391809040878, 0.9004878748739515, 0.0271938235252638, 0.1087752941010552, 0.0543876470505276, 0.0543876470505276, 0.1495660293889509, 0.2175505882021104, 0.0543876470505276, 0.0407907352878957, 0.2855351470152699, 0.042396924565577206, 0.19078616054509742, 0.10599231141394301, 0.042396924565577206, 0.6147554062008694, 0.021198462282788603, 0.14279960589893056, 0.1784995073736632, 0.07139980294946528, 0.5711984235957223, 0.763003997802197, 0.025433466593406565, 0.025433466593406565, 0.1526007995604394, 0.025433466593406565, 0.0459472749443833, 0.19399960532072946, 0.6892091241657494, 0.05105252771598144, 0.015315758314794432, 0.005105252771598144, 0.1559356369117654, 0.5717640020098064, 0.2598927281862756, 0.07115425570548227, 0.03794893637625721, 0.5882085138319868, 0.09487234094064302, 0.004743617047032151, 0.19923191597535037, 0.04577900713415422, 0.006539858162022031, 0.9417395753311725, 0.6888304301995893, 0.258311411324846, 0.3506002401673349, 0.15025724578600066, 0.450771737358002, 0.9252647072507433, 0.05905944939898362, 0.12861240344339317, 0.06430620172169658, 0.7073682189386624, 0.8201051864260918, 0.17021051039032095, 0.7021755455765656, 0.03191707025348025, 0.03191707025348025, 0.20746095664762165, 0.25419512694309326, 0.027235192172474276, 0.045391986954123796, 0.6173310225760836, 0.01815679478164952, 0.027235192172474276, 0.01815679478164952, 0.1569239355629895, 0.08717996420166084, 0.2615398926049825, 0.4882077995293007, 0.8466808960788373, 0.14941427577861835, 0.2227437902340642, 0.7239173182607087, 0.6330103490115878, 0.005807434394601723, 0.08130408152442413, 0.02903717197300862, 0.01742230318380517, 0.21487507260026376, 0.01742230318380517, 0.2791552302744246, 0.6513622039736574, 0.0825153378895869, 0.04950920273375214, 0.8581595140517037, 0.16363425667876766, 0.14640959808100265, 0.06028630509217756, 0.4047794770474779, 0.04306164649441255, 0.1722465859776502, 0.00861232929888251, 0.09832695534433286, 0.03277565178144429, 0.027313043151203573, 0.08193912945361072, 0.06008869493264786, 0.054626086302407145, 0.5517234716543122, 0.09286434671409215, 0.026997124548905932, 0.9448993592117076, 0.29462073202296285, 0.04910345533716048, 0.04910345533716048, 0.04910345533716048, 0.5401380087087652, 0.1574940860447065, 0.13229503227755346, 0.02519905376715304, 0.08189692474324738, 0.0629976344178826, 0.4724822581341195, 0.06929739785967086, 0.4339114578526032, 0.15854457113845116, 0.025033353337650187, 0.04172225556275031, 0.1919223755886514, 0.016688902225100125, 0.050066706675300374, 0.04172225556275031, 0.04172225556275031, 0.0418488805094234, 0.9374149234110841, 0.01673955220376936, 0.11631942259029292, 0.031018512690744775, 0.02326388451805858, 0.007754628172686194, 0.5273147157426612, 0.23263884518058583, 0.04652776903611716, 0.007754628172686194, 0.10929017469700976, 0.04371606987880391, 0.6338830132426566, 0.12021919216671074, 0.04371606987880391, 0.04371606987880391, 0.18906890947313296, 0.01260459396487553, 0.13865053361363083, 0.5419975404896478, 0.037813781894626586, 0.08823215775412871, 0.37916972819824624, 0.5687545922973694, 0.04168542312906688, 0.20842711564533442, 0.055580564172089175, 0.5835959238069364, 0.09726598730115606, 0.220301220374382, 0.4670385871936898, 0.07049639051980224, 0.09693253696472807, 0.026436146444925836, 0.06168434170482695, 0.05287229288985167, 0.07114027691736359, 0.8181131845496813, 0.07114027691736359, 0.12160564588973542, 0.20579416996724456, 0.065479963171396, 0.5051311444650548, 0.07483424362445257, 0.028062841359169713, 0.42363893231346345, 0.06051984747335192, 0.15129961868337982, 0.022694942802506973, 0.2572093517617457, 0.0832147902758589, 0.0978415934586514, 0.036690597546994275, 0.22014358528196565, 0.11007179264098282, 0.3424455771052799, 0.12230199182331425, 0.061150995911657124, 0.17088537126904058, 0.08544268563452029, 0.5126561138071217, 0.17088537126904058, 0.05823985785263806, 0.05823985785263806, 0.29119928926319033, 0.5823985785263807, 0.32394252526166517, 0.16197126263083259, 0.4859137878924978, 0.13982660284008272, 0.13982660284008272, 0.6491949417575269, 0.02996284346573201, 0.02996284346573201, 0.009987614488577337, 0.4581289448597072, 0.1475330500395667, 0.06211917896402809, 0.023294692111510536, 0.30283099744963693, 0.1098327216579493, 0.08786617732635944, 0.04393308866317972, 0.02196654433158986, 0.02196654433158986, 0.7248959629424654, 0.03538342198163969, 0.21230053188983813, 0.03538342198163969, 0.10615026594491907, 0.6015181736878747, 0.10502781516879851, 0.05251390758439926, 0.7351947061815896, 0.07877086137659887, 0.10637778090269563, 0.8776166924472389, 0.009357387419883298, 0.009357387419883298, 0.014036081129824947, 0.004678693709941649, 0.004678693709941649, 0.9497748231181548, 0.8774674734514498, 0.08226257563607342, 0.12667916345291125, 0.10858214010249537, 0.16287321015374304, 0.29860088528186224, 0.2624068385810305, 0.03619404670083179, 0.02175102251471179, 0.2827632926912532, 0.6742816979560654, 0.03846599371732775, 0.03846599371732775, 0.051287991623103664, 0.7693198743465549, 0.051287991623103664, 0.051287991623103664, 0.8344514357158173, 0.13531644903499737, 0.19350059421859012, 0.021500066024287792, 0.043000132048575584, 0.49450151855861924, 0.06450019807286338, 0.043000132048575584, 0.15050046217001453, 0.12408002925024092, 0.6204001462512045, 0.24816005850048184, 0.9475489817009242, 0.986799311460129, 0.073127938623926, 0.9067864389366824, 0.01908858987837827, 0.06681006457432394, 0.8780751344054004, 0.01908858987837827, 0.8420751977325738, 0.09022234261420432, 0.060148228409469554, 0.23632152239221668, 0.70896456717665, 0.17528316275505806, 0.23371088367341075, 0.4674217673468215, 0.11492777830459397, 0.06268787907523307, 0.6686707101358195, 0.04179191938348872, 0.0522398992293609, 0.0522398992293609, 0.19253530871854863, 0.7701412348741945, 0.01964441865070066, 0.01964441865070066, 0.21608860515770725, 0.7071990714252238, 0.12005618518923451, 0.07503511574327157, 0.2251053472298147, 0.060028092594617256, 0.49523176390559237, 0.015007023148654314, 0.01518031172687913, 0.5363710143497292, 0.02024041563583884, 0.09614197427023449, 0.27324561108382434, 0.01012020781791942, 0.0506010390895971, 0.06909674677198666, 0.6391449076408766, 0.08637093346498333, 0.008637093346498332, 0.03454837338599333, 0.04318546673249166, 0.05182256007899, 0.06045965342548833, 0.37019216279939904, 0.09254804069984976, 0.5244388972991486, 0.019629025133832217, 0.07851610053532887, 0.8833061310224497, 0.9165935281062936, 0.043647310862204455, 0.029098207241469637, 0.20178900201510686, 0.022421000223900762, 0.06726300067170228, 0.41105167077151394, 0.23168366898030787, 0.059789333930402026, 0.188317641310569, 0.0941588206552845, 0.6591117445869915, 0.18389380507357045, 0.10030571185831116, 0.03343523728610372, 0.11702333050136302, 0.5516814152207113, 0.2123351861310794, 0.6794725956194541, 0.08493407445243176, 0.8910853263100604, 0.08100775693727823, 0.050662836035494055, 0.8106053765679049, 0.0337752240236627, 0.08443806005915676, 0.943868065666923, 0.027760825460791855, 0.17067124143588433, 0.08533562071794216, 0.5973493450255951, 0.08533562071794216, 0.056622820421950305, 0.19110201892408227, 0.2406469867932888, 0.14155705105487576, 0.04246711531646273, 0.021233557658231365, 0.007077852552743788, 0.3043476597679829, 0.32716654005803686, 0.5998053234397343, 0.14830369484585867, 0.10063465007397553, 0.015889681590627713, 0.6620700662761547, 0.015889681590627713, 0.02648280265104619, 0.005296560530209238, 0.02648280265104619, 0.050130767445964855, 0.050130767445964855, 0.10026153489192971, 0.07519615116894729, 0.5514384419056134, 0.15039230233789458, 0.4824509621136156, 0.4824509621136156, 0.9072805391602238, 0.06598403921165263, 0.01649600980291316, 0.9330992720533899, 0.040569533567538694, 0.2102341087874052, 0.07883779079527695, 0.07883779079527695, 0.1051170543937026, 0.525585271968513, 0.0631430982383061, 0.7366694794469046, 0.0631430982383061, 0.10523849706384351, 0.021047699412768704, 0.9481511763383735, 0.0395062990140989, 0.013168766338032965, 0.13919092356087914, 0.6263591560239561, 0.13919092356087914, 0.4727754929308757, 0.07416086163621578, 0.3151836619539171, 0.11124129245432368, 0.018540215409053946, 0.4936672569726527, 0.4936672569726527, 0.1488440137310251, 0.02706254795109547, 0.8118764385328642, 0.013531273975547735, 0.21004433934930303, 0.042008867869860606, 0.7281537097442504, 0.02055892495944184, 0.9662694730937665, 0.012071045619592796, 0.14485254743511355, 0.7906534880833281, 0.012071045619592796, 0.03621313685877839, 0.07663748824428965, 0.18201403458018792, 0.1341156044275069, 0.27781089488554994, 0.18201403458018792, 0.09579686030536205, 0.047898430152681026, 0.15618855924452177, 0.8069742227633625, 0.07560831169307228, 0.09451038961634034, 0.18902077923268068, 0.6237685714678463, 0.5442611219176998, 0.3958262704855999, 0.054268205593839706, 0.013567051398459927, 0.006783525699229963, 0.915775969396045, 0.3633480174986982, 0.023441807580561174, 0.04688361516112235, 0.023441807580561174, 0.05860451895140294, 0.4688361516112235, 0.18453559038873998, 0.09226779519436999, 0.6920084639577749, 0.18066343653449748, 0.11496764143104385, 0.12317961581897556, 0.02463592316379511, 0.06569579510345364, 0.02463592316379511, 0.4762945145000388, 0.016241550309374513, 0.7416974641281028, 0.07038005134062289, 0.032483100618749025, 0.09203545175312224, 0.005413850103124838, 0.043310800824998705, 0.04309538870513082, 0.7757169966923547, 0.17238155482052328, 0.8160722913787776, 0.04295117323046198, 0.08590234646092396, 0.04295117323046198, 0.03235954300596243, 0.048539314508943644, 0.906067204166948], \"Term\": [\"activation\", \"activation\", \"activation\", \"activation\", \"activation\", \"activity\", \"activity\", \"activity\", \"activity\", \"actor\", \"actor\", \"actor\", \"actor\", \"actor\", \"actor\", \"advancement\", \"advancement\", \"advancement\", \"advancement\", \"age\", \"age\", \"age\", \"age\", \"age\", \"age\", \"agent\", \"agent\", \"agent\", \"agent\", \"agent\", \"alexnet\", \"alexnet\", \"alphago\", \"andrej\", \"andrew\", \"andrew\", \"andrew\", \"andrew\", \"andrew\", \"andrew\", \"angle\", \"angle\", \"angle\", \"angle\", \"answered\", \"answered\", \"answered\", \"apache\", \"apache\", \"api\", \"api\", \"api\", \"api\", \"api\", \"api\", \"api\", \"api\", \"app\", \"app\", \"app\", \"app\", \"app\", \"app\", \"app\", \"app\", \"approximate\", \"approximate\", \"approximate\", \"apps\", \"apps\", \"apps\", \"apps\", \"array\", \"array\", \"array\", \"array\", \"array\", \"array\", \"array\", \"art\", \"art\", \"art\", \"art\", \"art\", \"arthur\", \"arthur\", \"arthur\", \"arthur\", \"arthur\", \"asked\", \"asked\", \"asked\", \"asked\", \"asked\", \"asked\", \"asked\", \"assignment\", \"assignment\", \"assignment\", \"assignment\", \"assistant\", \"assistant\", \"assistant\", \"atari\", \"atari\", \"attract\", \"attract\", \"audience\", \"audience\", \"audience\", \"audio\", \"audio\", \"audio\", \"audio\", \"augmentation\", \"augmentation\", \"augmentation\", \"august\", \"august\", \"author\", \"author\", \"author\", \"author\", \"author\", \"author\", \"author\", \"author\", \"author\", \"author\", \"automated\", \"automated\", \"automated\", \"automated\", \"automated\", \"automated\", \"automated\", \"autonomous\", \"autonomous\", \"autonomous\", \"autonomous\", \"autonomous\", \"autonomous\", \"average\", \"average\", \"average\", \"average\", \"average\", \"average\", \"average\", \"average\", \"average\", \"aws\", \"aws\", \"aws\", \"aws\", \"axis\", \"axis\", \"axis\", \"axis\", \"backpropagation\", \"backpropagation\", \"backpropagation\", \"backpropagation\", \"backward\", \"backward\", \"backward\", \"backwards\", \"bank\", \"bank\", \"bank\", \"bar\", \"bar\", \"bar\", \"bar\", \"barrier\", \"barrier\", \"barrier\", \"batch\", \"batch\", \"batch\", \"batch\", \"batch\", \"batch\", \"beginner\", \"beginner\", \"beginner\", \"behavior\", \"behavior\", \"behavior\", \"behavior\", \"behavior\", \"behavior\", \"behaviour\", \"behaviour\", \"behaviour\", \"behaviour\", \"belief\", \"belief\", \"beta\", \"beta\", \"beta\", \"beta\", \"bias\", \"bias\", \"bias\", \"bias\", \"bias\", \"bias\", \"bias\", \"block\", \"block\", \"block\", \"block\", \"block\", \"block\", \"block\", \"blue\", \"blue\", \"blue\", \"blue\", \"blue\", \"board\", \"board\", \"board\", \"board\", \"boosting\", \"boosting\", \"bot\", \"bot\", \"bot\", \"bot\", \"bot\", \"bot\", \"bottleneck\", \"bottleneck\", \"bottleneck\", \"bottleneck\", \"bounding\", \"bounding\", \"bounding\", \"box\", \"box\", \"box\", \"box\", \"box\", \"box\", \"box\", \"box\", \"box\", \"box\", \"brightness\", \"brightness\", \"brightness\", \"caffe\", \"caffe\", \"caffe\", \"calculating\", \"calculating\", \"capture\", \"capture\", \"capture\", \"capture\", \"capture\", \"capture\", \"capture\", \"capture\", \"car\", \"car\", \"car\", \"car\", \"car\", \"car\", \"car\", \"card\", \"card\", \"card\", \"card\", \"carlo\", \"category\", \"category\", \"category\", \"category\", \"category\", \"category\", \"category\", \"category\", \"champion\", \"champion\", \"channel\", \"channel\", \"channel\", \"channel\", \"channel\", \"channel\", \"character\", \"character\", \"character\", \"character\", \"character\", \"character\", \"character\", \"character\", \"characteristic\", \"characteristic\", \"characteristic\", \"characteristic\", \"characteristic\", \"chat\", \"chat\", \"chat\", \"chatbot\", \"chatbot\", \"chatbot\", \"chatbots\", \"chatbots\", \"chatbots\", \"chatbots\", \"chatbots\", \"chess\", \"chess\", \"chinese\", \"chinese\", \"chinese\", \"chinese\", \"chip\", \"chip\", \"chip\", \"chip\", \"chunk\", \"chunk\", \"chunk\", \"chunk\", \"chunk\", \"chunk\", \"classifier\", \"classifier\", \"classifier\", \"classifier\", \"classifier\", \"classifier\", \"classifier\", \"classifier\", \"classifies\", \"classifies\", \"cloud\", \"cloud\", \"cloud\", \"cloud\", \"cloud\", \"cloud\", \"cloud\", \"cloud\", \"cluster\", \"cluster\", \"cluster\", \"cluster\", \"cluster\", \"cluster\", \"clustering\", \"clustering\", \"clustering\", \"clustering\", \"clustering\", \"cnn\", \"cnn\", \"cnn\", \"cnn\", \"cnn\", \"cnns\", \"cnns\", \"cnns\", \"cnns\", \"cnns\", \"cnns\", \"coding\", \"coding\", \"coding\", \"coding\", \"coefficient\", \"coefficient\", \"cognition\", \"cognition\", \"cognition\", \"cognitive\", \"cognitive\", \"cognitive\", \"cognitive\", \"cognitive\", \"collaborative\", \"collaborative\", \"collaborative\", \"collaborative\", \"collaborative\", \"collective\", \"collective\", \"communication\", \"communication\", \"communication\", \"communication\", \"computation\", \"computation\", \"computation\", \"computation\", \"computation\", \"computation\", \"computation\", \"computation\", \"computation\", \"computed\", \"computed\", \"computed\", \"computed\", \"consistent\", \"consistent\", \"consistent\", \"consistent\", \"construction\", \"construction\", \"construction\", \"construction\", \"contract\", \"contract\", \"contract\", \"contract\", \"control\", \"control\", \"control\", \"control\", \"control\", \"control\", \"control\", \"control\", \"conversation\", \"conversation\", \"conversation\", \"conversation\", \"conversation\", \"conversation\", \"conversational\", \"conversational\", \"conversational\", \"conversational\", \"convolution\", \"convolution\", \"convolution\", \"convolution\", \"convolution\", \"corporate\", \"corporate\", \"corporate\", \"corporate\", \"corporate\", \"correction\", \"correction\", \"correction\", \"counted\", \"counted\", \"counted\", \"counted\", \"coursera\", \"coursera\", \"coursera\", \"cover\", \"cover\", \"cover\", \"cover\", \"cover\", \"cover\", \"cover\", \"cover\", \"cover\", \"cpu\", \"cpu\", \"cpu\", \"critic\", \"critic\", \"crop\", \"crop\", \"cryptocurrency\", \"cryptocurrency\", \"cryptocurrency\", \"cuda\", \"curriculum\", \"customer\", \"customer\", \"customer\", \"customer\", \"customer\", \"customer\", \"darker\", \"darker\", \"darker\", \"de\", \"de\", \"de\", \"de\", \"de\", \"decomposition\", \"decomposition\", \"decomposition\", \"define\", \"define\", \"define\", \"define\", \"define\", \"define\", \"definition\", \"definition\", \"definition\", \"definition\", \"definition\", \"definition\", \"demand\", \"demand\", \"demand\", \"demand\", \"demand\", \"demand\", \"demand\", \"demand\", \"depending\", \"depending\", \"depending\", \"depending\", \"depending\", \"depending\", \"derivative\", \"derivative\", \"derivative\", \"derivative\", \"derivative\", \"derivative\", \"descent\", \"descent\", \"descent\", \"designer\", \"designer\", \"designer\", \"designer\", \"desktop\", \"desktop\", \"detect\", \"detect\", \"detect\", \"detect\", \"detect\", \"detection\", \"detection\", \"detection\", \"detection\", \"detection\", \"detection\", \"detection\", \"device\", \"device\", \"device\", \"device\", \"device\", \"device\", \"device\", \"device\", \"diagram\", \"diagram\", \"diagram\", \"diagram\", \"diagram\", \"dictionary\", \"dictionary\", \"dictionary\", \"dictionary\", \"differentiable\", \"differentiable\", \"digital\", \"digital\", \"digital\", \"digital\", \"digital\", \"digital\", \"digital\", \"dimension\", \"dimension\", \"dimension\", \"dimension\", \"dimension\", \"dimension\", \"dimension\", \"dimension\", \"dimension\", \"discipline\", \"discipline\", \"discipline\", \"discounted\", \"discounted\", \"discounted\", \"distance\", \"distance\", \"distance\", \"distance\", \"distance\", \"distance\", \"distance\", \"distribution\", \"distribution\", \"distribution\", \"distribution\", \"distribution\", \"distribution\", \"dl\", \"dl\", \"dl\", \"dl\", \"doable\", \"doable\", \"donating\", \"donating\", \"dr\", \"dr\", \"driving\", \"driving\", \"driving\", \"driving\", \"driving\", \"driving\", \"driving\", \"driving\", \"edge\", \"edge\", \"edge\", \"edge\", \"edge\", \"edge\", \"edge\", \"edge\", \"edge\", \"edit\", \"edit\", \"embeddings\", \"emotion\", \"emotional\", \"empty\", \"empty\", \"empty\", \"en\", \"en\", \"encoding\", \"encoding\", \"encoding\", \"encoding\", \"encoding\", \"enemy\", \"enemy\", \"enemy\", \"engineering\", \"engineering\", \"engineering\", \"engineering\", \"engineering\", \"engineering\", \"ensemble\", \"ensemble\", \"ensemble\", \"ensemble\", \"entering\", \"entering\", \"entering\", \"entering\", \"enterprise\", \"enterprise\", \"enterprise\", \"enterprise\", \"enterprise\", \"enterprise\", \"entropy\", \"entropy\", \"episode\", \"episode\", \"episode\", \"episode\", \"episode\", \"episode\", \"epoch\", \"epoch\", \"epoch\", \"estimate\", \"estimate\", \"estimate\", \"estimate\", \"estimate\", \"estimate\", \"estimated\", \"estimated\", \"estimated\", \"estimated\", \"estimated\", \"et\", \"et\", \"et\", \"et\", \"et\", \"event\", \"event\", \"event\", \"event\", \"event\", \"event\", \"event\", \"event\", \"evidence\", \"evidence\", \"evidence\", \"evidence\", \"evidence\", \"expected\", \"expected\", \"expected\", \"expected\", \"expected\", \"expected\", \"expected\", \"explosion\", \"extreme\", \"extreme\", \"eye\", \"eye\", \"eye\", \"eye\", \"eye\", \"eye\", \"eye\", \"eye\", \"facial\", \"facial\", \"facial\", \"facial\", \"feed\", \"feed\", \"feed\", \"feed\", \"feed\", \"feed\", \"feed\", \"feed\", \"filter\", \"filter\", \"filter\", \"filter\", \"filter\", \"filtering\", \"filtering\", \"filtering\", \"firing\", \"flexible\", \"flexible\", \"flexible\", \"flexible\", \"floating\", \"floating\", \"floating\", \"forecasting\", \"forecasting\", \"gained\", \"gained\", \"gained\", \"gans\", \"gb\", \"generative\", \"generative\", \"generative\", \"generator\", \"generator\", \"generator\", \"giant\", \"giant\", \"giant\", \"giant\", \"giant\", \"giant\", \"github\", \"github\", \"github\", \"github\", \"github\", \"github\", \"github\", \"github\", \"global\", \"global\", \"global\", \"global\", \"global\", \"global\", \"gold\", \"gold\", \"gold\", \"gold\", \"google\\u2019s\", \"google\\u2019s\", \"google\\u2019s\", \"google\\u2019s\", \"google\\u2019s\", \"google\\u2019s\", \"google\\u2019s\", \"google\\u2019s\", \"gpu\", \"gpu\", \"gpu\", \"gpu\", \"gpus\", \"gpus\", \"graduate\", \"graduate\", \"graduate\", \"graduate\", \"graph\", \"graph\", \"graph\", \"graph\", \"graph\", \"graph\", \"grid\", \"grid\", \"grid\", \"grid\", \"grid\", \"gtx\", \"gtx\", \"gtx\", \"guide\", \"guide\", \"guide\", \"guide\", \"guide\", \"guide\", \"guide\", \"guide\", \"hair\", \"hair\", \"hair\", \"handwritten\", \"handwritten\", \"handwritten\", \"handwritten\", \"hidden\", \"hidden\", \"hidden\", \"hidden\", \"hidden\", \"hidden\", \"hidden\", \"hidden\", \"hierarchical\", \"hierarchical\", \"hierarchical\", \"historically\", \"historically\", \"historically\", \"hole\", \"hole\", \"home\", \"home\", \"home\", \"home\", \"home\", \"home\", \"home\", \"host\", \"host\", \"host\", \"house\", \"house\", \"house\", \"house\", \"house\", \"house\", \"hybrid\", \"hybrid\", \"hybrid\", \"hybrid\", \"hybrid\", \"hypothesis\", \"hypothesis\", \"hypothesis\", \"hypothesis\", \"identify\", \"identify\", \"identify\", \"identify\", \"identify\", \"identify\", \"identify\", \"identify\", \"identify\", \"identify\", \"ii\", \"ii\", \"ii\", \"ii\", \"illustration\", \"illustration\", \"imagenet\", \"imagenet\", \"index\", \"index\", \"index\", \"index\", \"index\", \"index\", \"index\", \"index\", \"ingredient\", \"ingredient\", \"ingredient\", \"insight\", \"insight\", \"insight\", \"insight\", \"insight\", \"insight\", \"insight\", \"insight\", \"insight\", \"insight\", \"install\", \"install\", \"install\", \"install\", \"install\", \"installation\", \"installation\", \"installed\", \"installed\", \"installing\", \"installing\", \"intel\", \"intel\", \"intel\", \"intelligent\", \"intelligent\", \"intelligent\", \"intelligent\", \"intelligent\", \"intelligent\", \"intelligent\", \"interaction\", \"interaction\", \"interaction\", \"interaction\", \"interaction\", \"interaction\", \"interaction\", \"interface\", \"interface\", \"interface\", \"interface\", \"interface\", \"interface\", \"interview\", \"interview\", \"interview\", \"interview\", \"introduction\", \"introduction\", \"introduction\", \"introduction\", \"introduction\", \"juliani\", \"juliani\", \"juliani\", \"karpathy\", \"kera\", \"kera\", \"kera\", \"kera\", \"kera\", \"kernel\", \"kernel\", \"kid\", \"kid\", \"kid\", \"kid\", \"kid\", \"label\", \"label\", \"label\", \"label\", \"label\", \"label\", \"labeled\", \"labeled\", \"labeled\", \"landmark\", \"landmark\", \"landmark\", \"landscape\", \"landscape\", \"landscape\", \"landscape\", \"landscape\", \"landscape\", \"latent\", \"latent\", \"latent\", \"latent\", \"latent\", \"lecture\", \"lecture\", \"lecture\", \"lecture\", \"lecture\", \"letter\", \"letter\", \"letter\", \"letter\", \"lighting\", \"lighting\", \"lighting\", \"linearity\", \"linearity\", \"linux\", \"linux\", \"linux\", \"lstm\", \"lstm\", \"lstm\", \"lstm\", \"lstm\", \"lstms\", \"lstms\", \"man\", \"man\", \"man\", \"man\", \"man\", \"manipulate\", \"manipulate\", \"map\", \"map\", \"map\", \"map\", \"map\", \"map\", \"map\", \"map\", \"mario\", \"mario\", \"mario\", \"market\", \"market\", \"market\", \"market\", \"market\", \"market\", \"market\", \"market\", \"market\", \"marketing\", \"marketing\", \"marketing\", \"marketing\", \"marketing\", \"mask\", \"mask\", \"mask\", \"mask\", \"matlab\", \"matlab\", \"matrix\", \"matrix\", \"matrix\", \"matrix\", \"matrix\", \"matrix\", \"matrix\", \"max\", \"max\", \"max\", \"max\", \"max\", \"maximize\", \"maximize\", \"maximize\", \"maximize\", \"measurement\", \"measurement\", \"measurement\", \"measurement\", \"meeting\", \"meeting\", \"member\", \"member\", \"member\", \"member\", \"member\", \"men\", \"men\", \"menu\", \"menu\", \"message\", \"message\", \"message\", \"message\", \"message\", \"messaging\", \"messaging\", \"messenger\", \"microsoft\", \"microsoft\", \"microsoft\", \"microsoft\", \"microsoft\", \"microsoft\", \"microsoft\", \"microsoft\", \"minute\", \"minute\", \"minute\", \"minute\", \"minute\", \"minute\", \"minute\", \"monte\", \"multiplied\", \"multiplied\", \"multiply\", \"multiply\", \"music\", \"music\", \"music\", \"music\", \"music\", \"music\", \"netflix\", \"netflix\", \"netflix\", \"neuron\", \"neuron\", \"neuron\", \"neuron\", \"neuron\", \"neuron\", \"neuron\", \"neuron\\u2019s\", \"ng\", \"ng\", \"ng\", \"noise\", \"noise\", \"noise\", \"noise\", \"noise\", \"noise\", \"noise\", \"noise\", \"nose\", \"nose\", \"nose\", \"notebook\", \"notebook\", \"notebook\", \"notebook\", \"novel\", \"novel\", \"novel\", \"novel\", \"novel\", \"novel\", \"novel\", \"novel\", \"numpy\", \"numpy\", \"numpy\", \"numpy\", \"numpy\", \"numpy\", \"nvidia\", \"nvidia\", \"occasionally\", \"occasionally\", \"occasionally\", \"odds\", \"odds\", \"odds\", \"odds\", \"offline\", \"offline\", \"operation\", \"operation\", \"operation\", \"operation\", \"operation\", \"operation\", \"operation\", \"operation\", \"operation\", \"opinion\", \"opinion\", \"opinion\", \"opinion\", \"opposite\", \"opposite\", \"opposite\", \"opposite\", \"opposite\", \"opposite\", \"option\", \"option\", \"option\", \"option\", \"option\", \"option\", \"option\", \"org\", \"org\", \"org\", \"org\", \"org\", \"orientation\", \"orientation\", \"orientation\", \"orientation\", \"origin\", \"origin\", \"outcome\", \"outcome\", \"outcome\", \"outcome\", \"outcome\", \"outcome\", \"outcome\", \"outcome\", \"overfit\", \"overfit\", \"overfit\", \"page\", \"page\", \"page\", \"page\", \"page\", \"page\", \"page\", \"page\", \"paid\", \"paid\", \"paid\", \"painting\", \"panda\", \"panda\", \"panda\", \"panda\", \"participant\", \"participant\", \"participant\", \"participant\", \"passionate\", \"personal\", \"personal\", \"personal\", \"personal\", \"personal\", \"personal\", \"personality\", \"personality\", \"personality\", \"personalization\", \"personalization\", \"personalization\", \"phrase\", \"phrase\", \"phrase\", \"phrase\", \"phrase\", \"phrase\", \"pixel\", \"pixel\", \"pixel\", \"pixel\", \"pixel\", \"pixel\", \"pixel\", \"pixel\", \"pixel\", \"placeholder\", \"placeholder\", \"player\", \"player\", \"player\", \"player\", \"player\", \"player\", \"player\", \"playing\", \"playing\", \"playing\", \"playing\", \"playing\", \"playing\", \"playing\", \"playing\", \"policy\", \"policy\", \"policy\", \"policy\", \"polished\", \"political\", \"political\", \"political\", \"political\", \"pool\", \"pool\", \"pool\", \"pool\", \"pooling\", \"pooling\", \"pooling\", \"pooling\", \"precision\", \"precision\", \"precision\", \"precision\", \"precision\", \"preparation\", \"preparation\", \"preparation\", \"preparing\", \"preparing\", \"presentation\", \"presentation\", \"presentation\", \"presentation\", \"price\", \"price\", \"price\", \"price\", \"price\", \"price\", \"price\", \"price\", \"processor\", \"processor\", \"processor\", \"processor\", \"processor\", \"production\", \"production\", \"production\", \"production\", \"production\", \"production\", \"programming\", \"programming\", \"programming\", \"programming\", \"programming\", \"programming\", \"proof\", \"proof\", \"proposal\", \"proposal\", \"proposal\", \"provider\", \"provider\", \"provider\", \"provider\", \"provider\", \"provides\", \"provides\", \"provides\", \"provides\", \"provides\", \"provides\", \"provides\", \"provides\", \"pseudo\", \"pseudo\", \"py\", \"py\", \"pytorch\", \"pytorch\", \"quiz\", \"quiz\", \"ram\", \"ram\", \"ram\", \"ranking\", \"ranking\", \"ranking\", \"ranking\", \"rating\", \"rating\", \"rating\", \"rating\", \"rating\", \"ratio\", \"ratio\", \"ratio\", \"ratio\", \"ratio\", \"ratio\", \"recall\", \"recall\", \"recall\", \"recall\", \"recipe\", \"recipe\", \"recipe\", \"recipe\", \"recipe\", \"recognize\", \"recognize\", \"recognize\", \"recognize\", \"recognize\", \"recognize\", \"recognize\", \"recognize\", \"recognize\", \"recommendation\", \"recommendation\", \"recommendation\", \"recommendation\", \"recommendation\", \"recommendation\", \"reconstruct\", \"reconstruct\", \"reconstruct\", \"recurrent\", \"recurrent\", \"recurrent\", \"recurrent\", \"recurrent\", \"recurrent\", \"recurrent\", \"red\", \"red\", \"red\", \"red\", \"reduces\", \"reduces\", \"reflection\", \"reflection\", \"reflection\", \"region\", \"region\", \"region\", \"region\", \"region\", \"region\", \"regression\", \"regression\", \"regression\", \"regression\", \"regression\", \"regression\", \"regression\", \"reinforcement\", \"reinforcement\", \"reinforcement\", \"reinforcement\", \"reinforcement\", \"relate\", \"relate\", \"relate\", \"relationship\", \"relationship\", \"relationship\", \"relationship\", \"relationship\", \"relationship\", \"relationship\", \"relationship\", \"relationship\", \"reliable\", \"reliable\", \"reliable\", \"relu\", \"relu\", \"repository\", \"repository\", \"repository\", \"repository\", \"repository\", \"repository\", \"representation\", \"representation\", \"representation\", \"representation\", \"representation\", \"representation\", \"representation\", \"representation\", \"request\", \"request\", \"request\", \"request\", \"request\", \"resemble\", \"resemble\", \"resemble\", \"reservation\", \"reservation\", \"response\", \"response\", \"response\", \"response\", \"response\", \"response\", \"response\", \"response\", \"resume\", \"resume\", \"retrieval\", \"retrieval\", \"retrieval\", \"retrieval\", \"retrieval\", \"reveal\", \"reveal\", \"reveal\", \"review\", \"review\", \"review\", \"review\", \"review\", \"review\", \"review\", \"reward\", \"reward\", \"reward\", \"reward\", \"reward\", \"rl\", \"rl\", \"rl\", \"rl\", \"rl\", \"rnn\", \"rnn\", \"rnn\", \"rnn\", \"rnn\", \"road\", \"road\", \"road\", \"road\", \"road\", \"rush\", \"rush\", \"rush\", \"sampling\", \"sampling\", \"sampling\", \"scaled\", \"scaled\", \"scaled\", \"scaled\", \"scaling\", \"scaling\", \"scaling\", \"scaling\", \"scaling\", \"scikit\", \"scikit\", \"scikit\", \"scikit\", \"scipy\", \"scipy\", \"score\", \"score\", \"score\", \"score\", \"score\", \"score\", \"score\", \"score\", \"score\", \"se\", \"se\", \"se\", \"se\", \"segmentation\", \"segmentation\", \"select\", \"select\", \"select\", \"select\", \"select\", \"select\", \"select\", \"select\", \"select\", \"selection\", \"selection\", \"selection\", \"selection\", \"selection\", \"selection\", \"sell\", \"sell\", \"sell\", \"sell\", \"semantic\", \"semantic\", \"semantic\", \"semantic\", \"semantic\", \"sentence\", \"sentence\", \"sentence\", \"sentence\", \"sentence\", \"sentence\", \"september\", \"september\", \"september\", \"sequence\", \"sequence\", \"sequence\", \"sequence\", \"sequence\", \"sequence\", \"sheet\", \"sheet\", \"sheet\", \"shifted\", \"shifted\", \"sight\", \"sight\", \"sight\", \"sigmoid\", \"sigmoid\", \"simplify\", \"simplify\", \"simplify\", \"simulation\", \"simulation\", \"six\", \"six\", \"six\", \"six\", \"skill\", \"skill\", \"skill\", \"skill\", \"skill\", \"skill\", \"skill\", \"slide\", \"slide\", \"slide\", \"slide\", \"smartphone\", \"smartphone\", \"smile\", \"smile\", \"social\", \"social\", \"social\", \"social\", \"social\", \"social\", \"social\", \"solely\", \"solely\", \"song\", \"song\", \"song\", \"sort\", \"sort\", \"sort\", \"sort\", \"sort\", \"sort\", \"sort\", \"sound\", \"sound\", \"sound\", \"sound\", \"sound\", \"sound\", \"sound\", \"sound\", \"spark\", \"spark\", \"spatial\", \"spatial\", \"spatial\", \"spatial\", \"spatial\", \"speech\", \"speech\", \"speech\", \"speech\", \"speech\", \"speech\", \"speech\", \"square\", \"square\", \"square\", \"square\", \"square\", \"square\", \"square\", \"square\", \"square\", \"star\", \"star\", \"star\", \"startup\", \"startup\", \"startup\", \"startup\", \"startup\", \"startup\", \"startup\", \"startup\", \"statistic\", \"statistic\", \"statistic\", \"statistic\", \"statistic\", \"statistic\", \"stock\", \"stock\", \"stock\", \"stock\", \"stock\", \"stock\", \"stopped\", \"stopped\", \"straight\", \"straight\", \"straight\", \"straight\", \"straight\", \"strategy\", \"strategy\", \"strategy\", \"strategy\", \"strategy\", \"strategy\", \"strategy\", \"stride\", \"stride\", \"stride\", \"student\", \"student\", \"student\", \"student\", \"student\", \"student\", \"study\", \"study\", \"study\", \"study\", \"study\", \"study\", \"stuff\", \"stuff\", \"stuff\", \"stuff\", \"stuff\", \"stuff\", \"stuff\", \"suffers\", \"suffers\", \"suffers\", \"suffers\", \"suited\", \"suited\", \"suited\", \"suited\", \"summarize\", \"summarize\", \"summarize\", \"super\", \"super\", \"super\", \"super\", \"super\", \"super\", \"supervised\", \"supervised\", \"supervised\", \"supervised\", \"supervised\", \"survey\", \"survey\", \"survey\", \"survey\", \"survey\", \"survey\", \"svm\", \"svm\", \"svm\", \"svm\", \"svm\", \"symbol\", \"symbol\", \"symbol\", \"symbol\", \"synapsis\", \"synapsis\", \"table\", \"table\", \"table\", \"table\", \"table\", \"table\", \"tanh\", \"tanh\", \"target\", \"target\", \"target\", \"target\", \"target\", \"target\", \"taste\", \"taste\", \"taste\", \"taught\", \"taught\", \"taught\", \"taught\", \"taught\", \"taught\", \"technological\", \"technological\", \"tensor\", \"tensor\", \"tensor\", \"tensor\", \"tensor\", \"tensor\", \"tensor\", \"they\\u2019ll\", \"they\\u2019ll\", \"they\\u2019ll\", \"threat\", \"ti\", \"timeline\", \"timeline\", \"title\", \"title\", \"title\", \"title\", \"today\\u2019s\", \"today\\u2019s\", \"today\\u2019s\", \"topology\", \"topology\", \"toronto\", \"toronto\", \"toronto\", \"track\", \"track\", \"track\", \"track\", \"track\", \"track\", \"traffic\", \"traffic\", \"transaction\", \"transaction\", \"transaction\", \"transaction\", \"transformation\", \"transformation\", \"transformation\", \"transformation\", \"transformation\", \"transformation\", \"translation\", \"translation\", \"translation\", \"translation\", \"translation\", \"translation\", \"translation\", \"tree\", \"tree\", \"tree\", \"tree\", \"tree\", \"tree\", \"tree\", \"tree\", \"trip\", \"trip\", \"trip\", \"trust\", \"trust\", \"trust\", \"turing\", \"turing\", \"turing\", \"tutorial\", \"tutorial\", \"tutorial\", \"tutorial\", \"tutorial\", \"tutorial\", \"tv\", \"tv\", \"tv\", \"tweet\", \"tweet\", \"tweet\", \"tweet\", \"tweet\", \"ubiquitous\", \"ubiquitous\", \"ubiquitous\", \"ubuntu\", \"ubuntu\", \"udacity\", \"udacity\", \"udacity\", \"udacity\", \"udacity\\u2019s\", \"udacity\\u2019s\", \"uniform\", \"uniform\", \"uniform\", \"uniform\", \"unit\", \"unit\", \"unit\", \"unit\", \"unit\", \"unit\", \"unit\", \"unit\", \"unity\", \"unity\", \"university\", \"university\", \"university\", \"university\", \"university\", \"university\", \"university\", \"university\", \"updating\", \"updating\", \"updating\", \"updating\", \"updating\", \"updating\", \"usable\", \"usable\", \"utility\", \"utility\", \"utility\", \"vanilla\", \"vanilla\", \"variant\", \"variant\", \"variant\", \"variant\", \"variant\", \"varies\", \"varies\", \"varies\", \"varies\", \"varies\", \"vehicle\", \"vehicle\", \"vehicle\", \"viewing\", \"viewing\", \"viewing\", \"voice\", \"voice\", \"voice\", \"voice\", \"voice\", \"vote\", \"vote\", \"watson\", \"watson\", \"watson\", \"watson\", \"wave\", \"wave\", \"wave\", \"wear\", \"wear\", \"weighted\", \"weighted\", \"weighted\", \"weighted\", \"weighted\", \"what\\u2019s\", \"what\\u2019s\", \"what\\u2019s\", \"what\\u2019s\", \"what\\u2019s\", \"what\\u2019s\", \"what\\u2019s\", \"wiki\", \"wiki\", \"wikipedia\", \"wikipedia\", \"wikipedia\", \"wikipedia\", \"wind\", \"wind\", \"woman\", \"woman\", \"woman\", \"woman\", \"worker\", \"worker\", \"worker\", \"worker\", \"worker\", \"worker\", \"wrangling\", \"wrangling\", \"wrangling\", \"www\", \"www\", \"www\", \"www\", \"www\", \"www\", \"www\", \"zero\", \"zero\", \"zero\", \"zero\", \"zero\", \"zero\", \"zero\", \"\\u201cai\", \"\\u201cai\", \"\\u201cai\", \"\\u201cbig\", \"\\u201cbig\", \"\\u201cbig\", \"\\u201cbig\", \"\\u201cdo\", \"\\u201cdo\", \"\\u201cdo\"]}, \"R\": 30, \"lambda.step\": 0.01, \"plot.opts\": {\"xlab\": \"PC1\", \"ylab\": \"PC2\"}, \"topic.order\": [6, 1, 3, 2, 7, 8, 4, 9, 5, 10]};\n",
              "\n",
              "function LDAvis_load_lib(url, callback){\n",
              "  var s = document.createElement('script');\n",
              "  s.src = url;\n",
              "  s.async = true;\n",
              "  s.onreadystatechange = s.onload = callback;\n",
              "  s.onerror = function(){console.warn(\"failed to load library \" + url);};\n",
              "  document.getElementsByTagName(\"head\")[0].appendChild(s);\n",
              "}\n",
              "\n",
              "if(typeof(LDAvis) !== \"undefined\"){\n",
              "   // already loaded: just create the visualization\n",
              "   !function(LDAvis){\n",
              "       new LDAvis(\"#\" + \"ldavis_el34681399365127789608134951360\", ldavis_el34681399365127789608134951360_data);\n",
              "   }(LDAvis);\n",
              "}else if(typeof define === \"function\" && define.amd){\n",
              "   // require.js is available: use it to load d3/LDAvis\n",
              "   require.config({paths: {d3: \"https://cdnjs.cloudflare.com/ajax/libs/d3/3.5.5/d3.min\"}});\n",
              "   require([\"d3\"], function(d3){\n",
              "      window.d3 = d3;\n",
              "      LDAvis_load_lib(\"https://cdn.rawgit.com/bmabey/pyLDAvis/files/ldavis.v1.0.0.js\", function(){\n",
              "        new LDAvis(\"#\" + \"ldavis_el34681399365127789608134951360\", ldavis_el34681399365127789608134951360_data);\n",
              "      });\n",
              "    });\n",
              "}else{\n",
              "    // require.js not available: dynamically load d3 & LDAvis\n",
              "    LDAvis_load_lib(\"https://cdnjs.cloudflare.com/ajax/libs/d3/3.5.5/d3.min.js\", function(){\n",
              "         LDAvis_load_lib(\"https://cdn.rawgit.com/bmabey/pyLDAvis/files/ldavis.v1.0.0.js\", function(){\n",
              "                 new LDAvis(\"#\" + \"ldavis_el34681399365127789608134951360\", ldavis_el34681399365127789608134951360_data);\n",
              "            })\n",
              "         });\n",
              "}\n",
              "</script>"
            ],
            "text/plain": [
              "PreparedData(topic_coordinates=              x         y  topics  cluster       Freq\n",
              "topic                                                \n",
              "5      0.067962 -0.041702       1        1  20.410032\n",
              "0      0.027138  0.016756       2        1  14.547208\n",
              "2      0.045017  0.138865       3        1  13.229838\n",
              "1      0.058198 -0.077311       4        1  11.384638\n",
              "6      0.071929  0.004283       5        1   8.610154\n",
              "7      0.011311  0.092837       6        1   7.824379\n",
              "3      0.065805  0.016254       7        1   7.328669\n",
              "8     -0.032791 -0.253528       8        1   6.621445\n",
              "4      0.058602  0.066068       9        1   6.453553\n",
              "9     -0.373171  0.037477      10        1   3.590083, topic_info=            Term        Freq       Total Category  logprob  loglift\n",
              "734          cnn  424.000000  424.000000  Default  30.0000  30.0000\n",
              "601           de  322.000000  322.000000  Default  29.0000  29.0000\n",
              "29           box  294.000000  294.000000  Default  28.0000  28.0000\n",
              "998        pixel  288.000000  288.000000  Default  27.0000  27.0000\n",
              "420        table  213.000000  213.000000  Default  26.0000  26.0000\n",
              "...          ...         ...         ...      ...      ...      ...\n",
              "2538        kera   25.330776  108.062738  Topic10  -5.0948   1.8763\n",
              "585       author   24.628484  129.485278  Topic10  -5.1230   1.6673\n",
              "620     identify   21.000010  103.417008  Topic10  -5.2823   1.7327\n",
              "999      pooling   19.227834   90.157663  Topic10  -5.3705   1.7818\n",
              "1096  regression   20.630903  144.080153  Topic10  -5.3001   1.3834\n",
              "\n",
              "[539 rows x 6 columns], token_table=      Topic      Freq        Term\n",
              "term                             \n",
              "711       2  0.755123  activation\n",
              "711       3  0.041440  activation\n",
              "711       5  0.133528  activation\n",
              "711       6  0.036835  activation\n",
              "711       8  0.027626  activation\n",
              "...     ...       ...         ...\n",
              "2048      7  0.085902        “big\n",
              "2048     10  0.042951        “big\n",
              "1619      3  0.032360         “do\n",
              "1619      7  0.048539         “do\n",
              "1619      8  0.906067         “do\n",
              "\n",
              "[2044 rows x 3 columns], R=30, lambda_step=0.01, plot_opts={'xlab': 'PC1', 'ylab': 'PC2'}, topic_order=[6, 1, 3, 2, 7, 8, 4, 9, 5, 10])"
            ]
          },
          "metadata": {
            "tags": []
          },
          "execution_count": 24
        }
      ]
    },
    {
      "cell_type": "markdown",
      "metadata": {
        "id": "_9FskjnH4KsC"
      },
      "source": [
        "The above is the visual representation of the topic modelling and the below is the raw representation and we can specify #words with highest probability to display in each topic. "
      ]
    },
    {
      "cell_type": "code",
      "metadata": {
        "id": "wND1wUrc4KsD"
      },
      "source": [
        "lda_model.save('model10.gensim')\n",
        "topics = lda_model.print_topics(num_words=6)\n",
        "for topic in topics:\n",
        "    print(topic)"
      ],
      "execution_count": null,
      "outputs": []
    },
    {
      "cell_type": "code",
      "metadata": {
        "id": "SRlLWzz94KsE"
      },
      "source": [
        "#Performance evaluation by classifying sample document using LDA Bag of Words model\n",
        "for index, score in sorted(lda_model[corpus[300]], key=lambda tup: -1*tup[1]) :\n",
        "    print(\"\\nScore: {}\\t \\nTopic: {}\".format(score, lda_model.print_topic(index, 40)))"
      ],
      "execution_count": null,
      "outputs": []
    },
    {
      "cell_type": "markdown",
      "metadata": {
        "id": "1Rovjh5B4KsE"
      },
      "source": [
        "# Topic Modeling using NMF"
      ]
    },
    {
      "cell_type": "code",
      "metadata": {
        "id": "fXaZ6oSH4KsF"
      },
      "source": [
        "data_text = data[['text']]\n",
        "data_text = data_text.astype('str')"
      ],
      "execution_count": null,
      "outputs": []
    },
    {
      "cell_type": "code",
      "metadata": {
        "id": "MhEM8e0K4KsG"
      },
      "source": [
        "articles = [value[0] for value in data_text.iloc[0:].values]"
      ],
      "execution_count": null,
      "outputs": []
    },
    {
      "cell_type": "code",
      "metadata": {
        "id": "kUErsXCE4KsG"
      },
      "source": [
        "articles_sentences = [' '.join(text) for text in articles]"
      ],
      "execution_count": null,
      "outputs": []
    },
    {
      "cell_type": "code",
      "metadata": {
        "id": "-9z8KvkD4KsH"
      },
      "source": [
        "# obtain a Counts design matrix\n",
        "vectorizer = CountVectorizer(analyzer='word', max_features=1000);\n",
        "x_counts = vectorizer.fit_transform(articles_sentences);"
      ],
      "execution_count": null,
      "outputs": []
    },
    {
      "cell_type": "code",
      "metadata": {
        "id": "xd8CTRyH4KsI"
      },
      "source": [
        "# set a TfIdf transformer, and transfer the counts with the model.\n",
        "transformer = TfidfTransformer()\n",
        "x_tfidf = transformer.fit_transform(x_counts);"
      ],
      "execution_count": null,
      "outputs": []
    },
    {
      "cell_type": "code",
      "metadata": {
        "id": "zKwfvWt-4KsJ"
      },
      "source": [
        "#normalize the TfIdf values\n",
        "xtfidf_norm = normalize(x_tfidf, norm='l1', axis=1)"
      ],
      "execution_count": null,
      "outputs": []
    },
    {
      "cell_type": "code",
      "metadata": {
        "id": "_kiB7cB14KsJ"
      },
      "source": [
        "num_topics = 10\n",
        "model = NMF(n_components=num_topics, init='nndsvd');\n",
        "model.fit(xtfidf_norm)"
      ],
      "execution_count": null,
      "outputs": []
    },
    {
      "cell_type": "code",
      "metadata": {
        "id": "vXcJx7gu4KsL"
      },
      "source": [
        "## Get words from each topic \n",
        "def get_nmf_topics(model, n_top_words):\n",
        "    #the word ids obtained need to be reverse-mapped to the words so we can print the topic names.\n",
        "    feat_names = vectorizer.get_feature_names()\n",
        "    word_dict = {};\n",
        "    for i in range(num_topics):\n",
        "        words_ids = model.components_[i].argsort()[:-20 - 1:-1]\n",
        "        words = [feat_names[key] for key in words_ids]\n",
        "        words = [re.sub('\\S*@\\S*\\s?', '', sent) for sent in words]\n",
        "        words = [re.sub('\\s+', ' ', sent) for sent in words]\n",
        "        words = [re.sub(\"\\'\", \"\", sent) for sent in words]\n",
        "        word_dict['Topic # ' + '{:02d}'.format(i+1)] = words;\n",
        "    return pd.DataFrame(word_dict);"
      ],
      "execution_count": null,
      "outputs": []
    },
    {
      "cell_type": "code",
      "metadata": {
        "id": "C8ZWboAs4KsM"
      },
      "source": [
        "get_nmf_topics(model, 20)"
      ],
      "execution_count": null,
      "outputs": []
    },
    {
      "cell_type": "markdown",
      "metadata": {
        "id": "wLuaI5o54KsN"
      },
      "source": [
        "# Cosine Similarity b/w Documents\n",
        "Given a keyword, Document Recommender system can suggest you the best documents from the pool of documents. "
      ]
    },
    {
      "cell_type": "code",
      "metadata": {
        "id": "glP6YX0Z4KsN"
      },
      "source": [
        "words_list=list(chain.from_iterable(docs))"
      ],
      "execution_count": null,
      "outputs": []
    },
    {
      "cell_type": "code",
      "metadata": {
        "id": "MGszO1ay4KsO"
      },
      "source": [
        "# Cosine similarity\n",
        "def cosine_sim(text1, text2):\n",
        "    tfidf_score = TfidfVectorizer().fit_transform([text1, text2])\n",
        "    return ((tfidf_score * tfidf_score.T).A)[0, 1]\n",
        "\n",
        "# Most similar article\n",
        "def closest_doc_name(sentence, docs):\n",
        "    cos = []\n",
        "    for i in range(len(docs)):\n",
        "        cos.append(cosine_sim(', '.join(sentence.split(' ')),', '.join(docs[i])))\n",
        "    return [titles[x] for x in np.argsort(cos)[-10:][::-1]]"
      ],
      "execution_count": null,
      "outputs": []
    },
    {
      "cell_type": "code",
      "metadata": {
        "id": "2hevNjmn4KsP"
      },
      "source": [
        "from sklearn.feature_extraction.text import TfidfVectorizer\n",
        "tfidf = TfidfVectorizer(tokenizer=words, stop_words=stop_words).fit(words_list)"
      ],
      "execution_count": null,
      "outputs": []
    },
    {
      "cell_type": "code",
      "metadata": {
        "scrolled": true,
        "id": "loH2JYza4KsQ"
      },
      "source": [
        "closest_doc_name('news', docs)"
      ],
      "execution_count": null,
      "outputs": []
    },
    {
      "cell_type": "markdown",
      "metadata": {
        "id": "bqpaPicw4KsR"
      },
      "source": [
        "# References\n",
        "https://towardsdatascience.com/topic-modelling-in-python-with-nltk-and-gensim-4ef03213cd21\n",
        "\n",
        "https://towardsdatascience.com/topic-modeling-and-latent-dirichlet-allocation-in-python-9bf156893c24\n",
        "\n",
        "https://medium.com/ml2vec/topic-modeling-is-an-unsupervised-learning-approach-to-clustering-documents-to-discover-topics-fdfbf30e27df"
      ]
    }
  ]
}